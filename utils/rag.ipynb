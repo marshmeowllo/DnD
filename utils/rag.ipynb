{
 "cells": [
  {
   "cell_type": "markdown",
   "id": "20ea2803",
   "metadata": {},
   "source": [
    "# RAG"
   ]
  },
  {
   "cell_type": "code",
   "execution_count": 15,
   "id": "29071199",
   "metadata": {},
   "outputs": [],
   "source": [
    "import re\n",
    "from langchain_text_splitters import HTMLHeaderTextSplitter\n",
    "from langchain_huggingface import HuggingFaceEmbeddings\n",
    "from bs4 import BeautifulSoup, Comment"
   ]
  },
  {
   "cell_type": "code",
   "execution_count": null,
   "id": "65d2cc56",
   "metadata": {},
   "outputs": [],
   "source": [
    "with open('../datasets/spell_content/1st Level.txt', 'r') as file:\n",
    "    content = file.read()\n",
    "\n",
    "cleaned_html = re.sub(r'<!--.*?-->', '', content, flags=re.DOTALL)"
   ]
  },
  {
   "cell_type": "code",
   "execution_count": 21,
   "id": "d8ef0cd1",
   "metadata": {},
   "outputs": [
    {
     "name": "stdout",
     "output_type": "stream",
     "text": [
      "\n",
      "=== SECTION 1 ===\n",
      "Header: {}\n",
      "Content:\n",
      "Absorb Elements  \n",
      "From Xanathar's Guide to Everything, page 150; and Elemental Evil Player's Companion, page 15.  \n",
      "Description  \n",
      "[  \n",
      "]  \n",
      "1st-level abjuration  \n",
      "1 reaction, which you take when you take acid, cold, fire, lightning, or thunder damage  \n",
      "Casting Time:  \n",
      "Self  \n",
      "Range:  \n",
      "S  \n",
      "Components:  \n",
      "1 round  \n",
      "Duration:  \n",
      "The spell captures some of the incoming energy, lessening its effect on you and storing it for your next melee attack. You have resistance to the triggering damage type until the\n"
     ]
    }
   ],
   "source": [
    "headers_to_split_on = [\n",
    "    (\"h1\", \"Spell Name\"),\n",
    "    (\"h2\", \"Section\"),\n",
    "]\n",
    "\n",
    "html_splitter = HTMLHeaderTextSplitter(headers_to_split_on)\n",
    "html_header_splits = html_splitter.split_text(cleaned_html)\n",
    "\n",
    "# STEP 5: Output results\n",
    "for i, section in enumerate(html_header_splits):\n",
    "    print(f\"\\n=== SECTION {i+1} ===\")\n",
    "    print(f\"Header: {section.metadata}\")\n",
    "    print(f\"Content:\\n{section.page_content[:500]}\")"
   ]
  },
  {
   "cell_type": "code",
   "execution_count": null,
   "id": "1201ae5a",
   "metadata": {},
   "outputs": [],
   "source": [
    "model_name = \"meta-llama/Meta-Llama-3-8B-Instruct\"\n",
    "model_kwargs = {'device': 'gpu'}\n",
    "encode_kwargs = {'normalize_embeddings': False}\n",
    "\n",
    "embeddings = HuggingFaceEmbeddings(\n",
    "    model_name=model_name,\n",
    "    model_kwargs=model_kwargs,\n",
    "    encode_kwargs=encode_kwargs\n",
    ")"
   ]
  },
  {
   "cell_type": "code",
   "execution_count": null,
   "id": "b9ea99fb",
   "metadata": {},
   "outputs": [],
   "source": []
  }
 ],
 "metadata": {
  "kernelspec": {
   "display_name": "nlp",
   "language": "python",
   "name": "python3"
  },
  "language_info": {
   "codemirror_mode": {
    "name": "ipython",
    "version": 3
   },
   "file_extension": ".py",
   "mimetype": "text/x-python",
   "name": "python",
   "nbconvert_exporter": "python",
   "pygments_lexer": "ipython3",
   "version": "3.12.9"
  }
 },
 "nbformat": 4,
 "nbformat_minor": 5
}
