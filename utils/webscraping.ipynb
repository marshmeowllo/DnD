{
 "cells": [
  {
   "cell_type": "markdown",
   "id": "fccae44f",
   "metadata": {},
   "source": [
    "# Scraping\n",
    "\n",
    "this code provide how to scrap the [D&D 5e Wiki](https://dnd-5e.fandom.com/wiki/D%26D_5e_Wiki)"
   ]
  },
  {
   "cell_type": "code",
   "execution_count": 1,
   "id": "12c24826",
   "metadata": {},
   "outputs": [],
   "source": [
    "import requests\n",
    "import re\n",
    "import os\n",
    "import pandas as pd\n",
    "import markdownify \n",
    "\n",
    "from io import StringIO\n",
    "from bs4 import BeautifulSoup, Comment\n",
    "from tqdm import tqdm\n",
    "from IPython.display import display"
   ]
  },
  {
   "cell_type": "code",
   "execution_count": 2,
   "id": "9acfdd6b",
   "metadata": {},
   "outputs": [],
   "source": [
    "url = requests.get('https://dnd-5e.fandom.com/wiki/List_of_Spells')\n",
    "soup = BeautifulSoup(url.content, 'html.parser')"
   ]
  },
  {
   "cell_type": "markdown",
   "id": "def7b6db",
   "metadata": {},
   "source": [
    "# Spell\n",
    "\n",
    "filter out `Unearthed Arcana`"
   ]
  },
  {
   "cell_type": "code",
   "execution_count": 3,
   "id": "db7733f0",
   "metadata": {},
   "outputs": [],
   "source": [
    "data = soup.find_all('span', 'mw-headline')\n",
    "filtered_data = [item for item in data if item.text != 'Unearthed Arcana' and item.text != 'Spell Navigation']"
   ]
  },
  {
   "cell_type": "code",
   "execution_count": 4,
   "id": "cf921c2f",
   "metadata": {},
   "outputs": [
    {
     "data": {
      "text/plain": [
       "[<span class=\"mw-headline\" id=\"Cantrips\">Cantrips</span>,\n",
       " <span class=\"mw-headline\" id=\"1st_Level\">1st Level</span>,\n",
       " <span class=\"mw-headline\" id=\"2nd_Level\">2nd Level</span>,\n",
       " <span class=\"mw-headline\" id=\"3rd_Level\">3rd Level</span>,\n",
       " <span class=\"mw-headline\" id=\"4th_Level\">4th Level</span>,\n",
       " <span class=\"mw-headline\" id=\"5th_Level\">5th Level</span>,\n",
       " <span class=\"mw-headline\" id=\"6th_Level\">6th Level</span>,\n",
       " <span class=\"mw-headline\" id=\"7th_Level\">7th Level</span>,\n",
       " <span class=\"mw-headline\" id=\"8th_Level\">8th Level</span>,\n",
       " <span class=\"mw-headline\" id=\"9th_Level\">9th Level</span>]"
      ]
     },
     "execution_count": 4,
     "metadata": {},
     "output_type": "execute_result"
    }
   ],
   "source": [
    "filtered_data"
   ]
  },
  {
   "cell_type": "code",
   "execution_count": 5,
   "id": "0ec376c1",
   "metadata": {},
   "outputs": [
    {
     "name": "stdout",
     "output_type": "stream",
     "text": [
      "10\n"
     ]
    },
    {
     "data": {
      "text/html": [
       "<div>\n",
       "<style scoped>\n",
       "    .dataframe tbody tr th:only-of-type {\n",
       "        vertical-align: middle;\n",
       "    }\n",
       "\n",
       "    .dataframe tbody tr th {\n",
       "        vertical-align: top;\n",
       "    }\n",
       "\n",
       "    .dataframe thead th {\n",
       "        text-align: right;\n",
       "    }\n",
       "</style>\n",
       "<table border=\"1\" class=\"dataframe\">\n",
       "  <thead>\n",
       "    <tr style=\"text-align: right;\">\n",
       "      <th></th>\n",
       "      <th>Name</th>\n",
       "      <th>School</th>\n",
       "      <th>Casting Time</th>\n",
       "      <th>Comps</th>\n",
       "      <th>Save</th>\n",
       "      <th>Conc.</th>\n",
       "      <th>Source</th>\n",
       "    </tr>\n",
       "  </thead>\n",
       "  <tbody>\n",
       "    <tr>\n",
       "      <th>0</th>\n",
       "      <td>Acid Splash</td>\n",
       "      <td>Conjuration</td>\n",
       "      <td>1 action</td>\n",
       "      <td>V, S</td>\n",
       "      <td>Dexterity</td>\n",
       "      <td>NaN</td>\n",
       "      <td>PHB 211</td>\n",
       "    </tr>\n",
       "    <tr>\n",
       "      <th>1</th>\n",
       "      <td>Blade Ward</td>\n",
       "      <td>Abjuration</td>\n",
       "      <td>1 action</td>\n",
       "      <td>V, S</td>\n",
       "      <td>NaN</td>\n",
       "      <td>NaN</td>\n",
       "      <td>PHB 218</td>\n",
       "    </tr>\n",
       "    <tr>\n",
       "      <th>2</th>\n",
       "      <td>Booming Blade</td>\n",
       "      <td>Evocation</td>\n",
       "      <td>1 action</td>\n",
       "      <td>V, M</td>\n",
       "      <td>Attack roll</td>\n",
       "      <td>NaN</td>\n",
       "      <td>TCE 143, SCAG 142</td>\n",
       "    </tr>\n",
       "    <tr>\n",
       "      <th>3</th>\n",
       "      <td>Chill Touch</td>\n",
       "      <td>Necromancy</td>\n",
       "      <td>1 action</td>\n",
       "      <td>V, S</td>\n",
       "      <td>Attack roll</td>\n",
       "      <td>NaN</td>\n",
       "      <td>PHB 221</td>\n",
       "    </tr>\n",
       "    <tr>\n",
       "      <th>4</th>\n",
       "      <td>Control Flames</td>\n",
       "      <td>Transmutation</td>\n",
       "      <td>1 action</td>\n",
       "      <td>S</td>\n",
       "      <td>NaN</td>\n",
       "      <td>NaN</td>\n",
       "      <td>XGE 152, EEPC 16</td>\n",
       "    </tr>\n",
       "  </tbody>\n",
       "</table>\n",
       "</div>"
      ],
      "text/plain": [
       "             Name         School Casting Time Comps         Save Conc.  \\\n",
       "0     Acid Splash    Conjuration     1 action  V, S    Dexterity   NaN   \n",
       "1      Blade Ward     Abjuration     1 action  V, S          NaN   NaN   \n",
       "2   Booming Blade      Evocation     1 action  V, M  Attack roll   NaN   \n",
       "3     Chill Touch     Necromancy     1 action  V, S  Attack roll   NaN   \n",
       "4  Control Flames  Transmutation     1 action     S          NaN   NaN   \n",
       "\n",
       "              Source  \n",
       "0            PHB 211  \n",
       "1            PHB 218  \n",
       "2  TCE 143, SCAG 142  \n",
       "3            PHB 221  \n",
       "4   XGE 152, EEPC 16  "
      ]
     },
     "metadata": {},
     "output_type": "display_data"
    },
    {
     "data": {
      "text/html": [
       "<div>\n",
       "<style scoped>\n",
       "    .dataframe tbody tr th:only-of-type {\n",
       "        vertical-align: middle;\n",
       "    }\n",
       "\n",
       "    .dataframe tbody tr th {\n",
       "        vertical-align: top;\n",
       "    }\n",
       "\n",
       "    .dataframe thead th {\n",
       "        text-align: right;\n",
       "    }\n",
       "</style>\n",
       "<table border=\"1\" class=\"dataframe\">\n",
       "  <thead>\n",
       "    <tr style=\"text-align: right;\">\n",
       "      <th></th>\n",
       "      <th>Name</th>\n",
       "      <th>School</th>\n",
       "      <th>Casting Time</th>\n",
       "      <th>Comps</th>\n",
       "      <th>Cost</th>\n",
       "      <th>Save</th>\n",
       "      <th>Ritual</th>\n",
       "      <th>Conc.</th>\n",
       "      <th>Source</th>\n",
       "    </tr>\n",
       "  </thead>\n",
       "  <tbody>\n",
       "    <tr>\n",
       "      <th>0</th>\n",
       "      <td>Absorb Elements</td>\n",
       "      <td>Abjuration</td>\n",
       "      <td>1 reaction</td>\n",
       "      <td>S</td>\n",
       "      <td>NaN</td>\n",
       "      <td>NaN</td>\n",
       "      <td>NaN</td>\n",
       "      <td>NaN</td>\n",
       "      <td>XGE 150, EEPC 15</td>\n",
       "    </tr>\n",
       "    <tr>\n",
       "      <th>1</th>\n",
       "      <td>Alarm</td>\n",
       "      <td>Abjuration</td>\n",
       "      <td>1 minute</td>\n",
       "      <td>V, S, M</td>\n",
       "      <td>NaN</td>\n",
       "      <td>NaN</td>\n",
       "      <td>Yes</td>\n",
       "      <td>NaN</td>\n",
       "      <td>PHB 211</td>\n",
       "    </tr>\n",
       "    <tr>\n",
       "      <th>2</th>\n",
       "      <td>Animal Friendship</td>\n",
       "      <td>Enchantment</td>\n",
       "      <td>1 action</td>\n",
       "      <td>V, S, M</td>\n",
       "      <td>NaN</td>\n",
       "      <td>Wisdom</td>\n",
       "      <td>NaN</td>\n",
       "      <td>NaN</td>\n",
       "      <td>PHB 212</td>\n",
       "    </tr>\n",
       "    <tr>\n",
       "      <th>3</th>\n",
       "      <td>Armor of Agathys</td>\n",
       "      <td>Abjuration</td>\n",
       "      <td>1 action</td>\n",
       "      <td>V, S, M</td>\n",
       "      <td>NaN</td>\n",
       "      <td>NaN</td>\n",
       "      <td>NaN</td>\n",
       "      <td>NaN</td>\n",
       "      <td>PHB 215</td>\n",
       "    </tr>\n",
       "    <tr>\n",
       "      <th>4</th>\n",
       "      <td>Arms of Hadar</td>\n",
       "      <td>Conjuration</td>\n",
       "      <td>1 action</td>\n",
       "      <td>V, S</td>\n",
       "      <td>NaN</td>\n",
       "      <td>Strength</td>\n",
       "      <td>NaN</td>\n",
       "      <td>NaN</td>\n",
       "      <td>PHB 215</td>\n",
       "    </tr>\n",
       "  </tbody>\n",
       "</table>\n",
       "</div>"
      ],
      "text/plain": [
       "                Name       School Casting Time    Comps Cost      Save Ritual  \\\n",
       "0    Absorb Elements   Abjuration   1 reaction        S  NaN       NaN    NaN   \n",
       "1              Alarm   Abjuration     1 minute  V, S, M  NaN       NaN    Yes   \n",
       "2  Animal Friendship  Enchantment     1 action  V, S, M  NaN    Wisdom    NaN   \n",
       "3   Armor of Agathys   Abjuration     1 action  V, S, M  NaN       NaN    NaN   \n",
       "4      Arms of Hadar  Conjuration     1 action     V, S  NaN  Strength    NaN   \n",
       "\n",
       "  Conc.            Source  \n",
       "0   NaN  XGE 150, EEPC 15  \n",
       "1   NaN           PHB 211  \n",
       "2   NaN           PHB 212  \n",
       "3   NaN           PHB 215  \n",
       "4   NaN           PHB 215  "
      ]
     },
     "metadata": {},
     "output_type": "display_data"
    }
   ],
   "source": [
    "dfs = []\n",
    "\n",
    "for table in filtered_data:\n",
    "    table = table.find_next('table')\n",
    "    html_table = list()\n",
    "    \n",
    "    if table:\n",
    "        html_string = str(table)\n",
    "        html_table.append(table)\n",
    "        df = pd.read_html(StringIO(html_string))[0]\n",
    "        dfs.append(df)\n",
    "\n",
    "print(len(dfs))\n",
    "display(dfs[0].head())\n",
    "display(dfs[1].head())"
   ]
  },
  {
   "cell_type": "code",
   "execution_count": 6,
   "id": "a3ae814f",
   "metadata": {},
   "outputs": [],
   "source": [
    "os.makedirs(\"../datasets/spell/\", exist_ok=True)\n",
    "\n",
    "for title, df in zip(filtered_data, dfs):\n",
    "    df.to_csv(f\"../datasets/spell/{title.text}.csv\", index=False)"
   ]
  },
  {
   "cell_type": "code",
   "execution_count": 7,
   "id": "a8ca94c5",
   "metadata": {},
   "outputs": [
    {
     "data": {
      "text/plain": [
       "[<span class=\"mw-headline\" id=\"Cantrips\">Cantrips</span>,\n",
       " <span class=\"mw-headline\" id=\"1st_Level\">1st Level</span>,\n",
       " <span class=\"mw-headline\" id=\"2nd_Level\">2nd Level</span>,\n",
       " <span class=\"mw-headline\" id=\"3rd_Level\">3rd Level</span>,\n",
       " <span class=\"mw-headline\" id=\"4th_Level\">4th Level</span>,\n",
       " <span class=\"mw-headline\" id=\"5th_Level\">5th Level</span>,\n",
       " <span class=\"mw-headline\" id=\"6th_Level\">6th Level</span>,\n",
       " <span class=\"mw-headline\" id=\"7th_Level\">7th Level</span>,\n",
       " <span class=\"mw-headline\" id=\"8th_Level\">8th Level</span>,\n",
       " <span class=\"mw-headline\" id=\"9th_Level\">9th Level</span>]"
      ]
     },
     "execution_count": 7,
     "metadata": {},
     "output_type": "execute_result"
    }
   ],
   "source": [
    "filtered_data"
   ]
  },
  {
   "cell_type": "code",
   "execution_count": 8,
   "id": "38d1b0c0",
   "metadata": {},
   "outputs": [
    {
     "name": "stderr",
     "output_type": "stream",
     "text": [
      "  0%|          | 0/46 [00:00<?, ?it/s]/tmp/ipykernel_271395/831663796.py:28: DeprecationWarning: Call to deprecated method findChildren. (Replaced by find_all) -- Deprecated since version 3.0.0.\n",
      "  content_children = content_block.findChildren()\n",
      "100%|██████████| 46/46 [00:16<00:00,  2.87it/s]\n",
      "100%|██████████| 79/79 [00:32<00:00,  2.46it/s]\n",
      "100%|██████████| 85/85 [00:34<00:00,  2.49it/s]\n",
      "100%|██████████| 73/73 [00:32<00:00,  2.26it/s]\n",
      "100%|██████████| 51/51 [00:23<00:00,  2.20it/s]\n",
      "100%|██████████| 61/61 [00:25<00:00,  2.36it/s]\n",
      "100%|██████████| 48/48 [00:24<00:00,  1.98it/s]\n",
      "100%|██████████| 28/28 [00:14<00:00,  1.93it/s]\n",
      "100%|██████████| 24/24 [00:09<00:00,  2.59it/s]\n",
      "100%|██████████| 22/22 [00:08<00:00,  2.66it/s]\n"
     ]
    }
   ],
   "source": [
    "data = soup.find_all('span', 'mw-headline')\n",
    "filtered_data = [item for item in data if item.text != 'Unearthed Arcana' and item.text != 'Spell Navigation']  \n",
    "os.makedirs(\"../datasets/spell_content\", exist_ok=True)\n",
    "\n",
    "for table in filtered_data:\n",
    "    file_name = table.text\n",
    "    table = table.find_next('table')\n",
    "    data = list()\n",
    "\n",
    "    if table:\n",
    "        anchors = table.find_all('a')\n",
    "        \n",
    "        for anchor in tqdm(anchors):\n",
    "            url = requests.get(f'https://dnd-5e.fandom.com{anchor['href']}')\n",
    "            soup = BeautifulSoup(url.content, 'html.parser')\n",
    "            name_tag = soup.find('span', class_='mw-page-title-main')\n",
    "\n",
    "            h2_tags = soup.find_all('h2')\n",
    "\n",
    "            for h2_tag in h2_tags:\n",
    "                headline = h2_tag.find('span', class_='mw-headline')\n",
    "                if headline:\n",
    "                    new_h2 = soup.new_tag(\"h2\")\n",
    "                    new_h2.string = headline.text.strip()\n",
    "                    h2_tag.replace_with(new_h2)\n",
    "\n",
    "            content_block = soup.find('div', 'mw-content-ltr mw-parser-output')\n",
    "            content_children = content_block.findChildren()\n",
    "            cleaned_content = []\n",
    "\n",
    "            for element in content_children:\n",
    "                markdown = markdownify.markdownify(str(element), strip=['a', 'span'], heading_style=\"ATX\")\n",
    "                cleaned_content.append(markdown)\n",
    "\n",
    "            combined_content = f\"# {name_tag.text.strip()}\\n\" + \"\\n\".join(cleaned_content) + \"\\n\"\n",
    "            combined_content = re.sub(r'<!--.*?-->', '', combined_content, flags=re.DOTALL)\n",
    "\n",
    "            data.append(combined_content)\n",
    "\n",
    "        with open(f\"../datasets/spell_content/{file_name}.txt\", \"w\", encoding=\"utf-8\") as f:\n",
    "            for item in data:\n",
    "                f.write(f\"{item}\\n\")"
   ]
  },
  {
   "cell_type": "code",
   "execution_count": 9,
   "id": "cb5532f7",
   "metadata": {},
   "outputs": [],
   "source": [
    "url = requests.get('https://dnd-5e.fandom.com/wiki/Acid_Splash')\n",
    "soup = BeautifulSoup(url.content, 'html.parser')"
   ]
  },
  {
   "cell_type": "code",
   "execution_count": 10,
   "id": "4076f491",
   "metadata": {},
   "outputs": [
    {
     "data": {
      "text/plain": [
       "<h1 class=\"page-header__title\" id=\"firstHeading\">\n",
       "<span class=\"mw-page-title-main\">Acid Splash</span> </h1>"
      ]
     },
     "execution_count": 10,
     "metadata": {},
     "output_type": "execute_result"
    }
   ],
   "source": [
    "soup.find('h1', 'page-header__title')"
   ]
  },
  {
   "cell_type": "code",
   "execution_count": 11,
   "id": "69b13af9",
   "metadata": {},
   "outputs": [
    {
     "data": {
      "text/plain": [
       "<div class=\"mw-content-ltr mw-parser-output\" dir=\"ltr\" lang=\"en\"><p>From Player's Handbook, page 211.\n",
       "</p>\n",
       "<h2><span class=\"mw-headline\" id=\"Description\">Description</span><span class=\"mw-editsection\"><span class=\"mw-editsection-bracket\">[</span><a class=\"mw-editsection-visualeditor\" data-action=\"edit-section\" data-testid=\"log-in-edit-section\" data-tracking-label=\"log-in-edit-section\" href=\"https://auth.fandom.com/signin?redirect=https%3A%2F%2Fdnd-5e.fandom.com%2Fwiki%2FAcid_Splash%3Fveaction%3Dedit%26section%3D1&amp;uselang=en\" title=\"Sign in to edit\"><svg class=\"wds-icon wds-icon-tiny\"><use xlink:href=\"#wds-icons-pencil-tiny\"></use></svg></a><span class=\"mw-editsection-bracket\">]</span></span></h2>\n",
       "<p><i>Conjuration cantrip</i>\n",
       "</p>\n",
       "<ul><li><b>Casting Time:</b> 1 action</li>\n",
       "<li><b>Range:</b> 60 feet</li>\n",
       "<li><b>Components:</b> V, S</li>\n",
       "<li><b>Duration:</b> Instantaneous</li></ul>\n",
       "<p>You hurl a bubble of acid. Choose one creature you can see within range, or choose two creatures you can see within range that are within 5 feet of each other. A target must succeed on a Dexterity saving throw or take 1d6 acid damage.\n",
       "</p><p>This spell's damage increases by 1d6 when you reach 5th level (2d6), 11th level (3d6), and 17th level (4d6).\n",
       "</p>\n",
       "<h2><span class=\"mw-headline\" id=\"Learned_By\">Learned By</span><span class=\"mw-editsection\"><span class=\"mw-editsection-bracket\">[</span><a class=\"mw-editsection-visualeditor\" data-action=\"edit-section\" data-testid=\"log-in-edit-section\" data-tracking-label=\"log-in-edit-section\" href=\"https://auth.fandom.com/signin?redirect=https%3A%2F%2Fdnd-5e.fandom.com%2Fwiki%2FAcid_Splash%3Fveaction%3Dedit%26section%3D2&amp;uselang=en\" title=\"Sign in to edit\"><svg class=\"wds-icon wds-icon-tiny\"><use xlink:href=\"#wds-icons-pencil-tiny\"></use></svg></a><span class=\"mw-editsection-bracket\">]</span></span></h2>\n",
       "<ul><li><b>Classes:</b> <a href=\"/wiki/Artificer\" title=\"Artificer\">Artificer</a>, <a href=\"/wiki/Sorcerer\" title=\"Sorcerer\">Sorcerer</a>, <a href=\"/wiki/Wizard\" title=\"Wizard\">Wizard</a></li>\n",
       "<li><b>Subclasses:</b> Cleric (<i><a href=\"/wiki/Cleric#Arcana_Domain\" title=\"Cleric\">Arcana Domain</a></i>), Fighter (<i><a href=\"/wiki/Fighter#Eldritch_Knight\" title=\"Fighter\">Eldritch Knight</a></i>), Rogue (<i><a href=\"/wiki/Rogue#Arcane_Trickster\" title=\"Rogue\">Arcane Trickster</a></i>)</li>\n",
       "<li><b>Races:</b> <a href=\"/wiki/Elf#Aereni_(High)\" title=\"Elf\">Aereni (High) Elf</a>, <a href=\"/wiki/Merfolk_(Race)#Blue\" title=\"Merfolk (Race)\">Blue Merfolk</a>, <a href=\"/wiki/Half-elf#Variant\" title=\"Half-elf\">Half-elf (High Elf Descent)</a>, <a href=\"/wiki/Elf#High_Elf\" title=\"Elf\">High Elf</a>, <a href=\"/wiki/Merfolk_(Race)#Ula_(Water)_Creed\" title=\"Merfolk (Race)\">Ula (Water) Creed Merfolk</a>, <a href=\"/wiki/Elf#Valenar_(Wood)\" title=\"Elf\">Valenar (Wood) Elf</a>, <a href=\"/wiki/Genasi#Water_Genasi_Traits\" title=\"Genasi\">Water Genasi</a></li>\n",
       "<li><b>Backgrounds:</b> <a href=\"/wiki/Simic_Scientist\" title=\"Simic Scientist\">Simic Scientist</a></li>\n",
       "<li><b>Feats:</b> <a href=\"/wiki/Feats#Aberrant_Dragonmark\" title=\"Feats\">Aberrant Dragonmark</a>, <a href=\"/wiki/Feats#Artificer_Initiate\" title=\"Feats\">Artificer Initiate</a>, <a href=\"/wiki/Feats#Magic_Initiate\" title=\"Feats\">Magic Initiate</a></li></ul>\n",
       "<!-- \n",
       "NewPP limit report\n",
       "Cached time: 20250416061033\n",
       "Cache expiry: 1209600\n",
       "Reduced expiry: false\n",
       "Complications: []\n",
       "CPU time usage: 0.009 seconds\n",
       "Real time usage: 0.018 seconds\n",
       "Preprocessor visited node count: 6/1000000\n",
       "Post‐expand include size: 0/2097152 bytes\n",
       "Template argument size: 0/2097152 bytes\n",
       "Highest expansion depth: 2/100\n",
       "Expensive parser function count: 0/100\n",
       "Unstrip recursion depth: 0/20\n",
       "Unstrip post‐expand size: 0/5000000 bytes\n",
       "-->\n",
       "<!--\n",
       "Transclusion expansion time report (%,ms,calls,template)\n",
       "100.00%    0.000      1 -total\n",
       "-->\n",
       "<!-- Saved in parser cache with key 1.43.0_prod_dnd5e:pcache:idhash:173-0!sseVary=RegularPage!FandomDesktop!LegacyGalleries and timestamp 20250416061033 and revision id 5298. Rendering was triggered because: page-view\n",
       " -->\n",
       "</div>"
      ]
     },
     "execution_count": 11,
     "metadata": {},
     "output_type": "execute_result"
    }
   ],
   "source": [
    "soup.find('div', 'mw-content-ltr mw-parser-output')"
   ]
  },
  {
   "cell_type": "code",
   "execution_count": 12,
   "id": "2c0fda7c",
   "metadata": {},
   "outputs": [
    {
     "name": "stdout",
     "output_type": "stream",
     "text": [
      "Learned By\n",
      "<h2>Learned By</h2>\n"
     ]
    }
   ],
   "source": [
    "from bs4 import BeautifulSoup\n",
    "\n",
    "html = '''\n",
    "<h2><span class=\"mw-headline\" id=\"Learned_By\">Learned By</span><span class=\"mw-editsection\"><span class=\"mw-editsection-bracket\">[</span><a class=\"mw-editsection-visualeditor\" data-action=\"edit-section\" data-testid=\"log-in-edit-section\" data-tracking-label=\"log-in-edit-section\" href=\"https://auth.fandom.com/signin?redirect=https%3A%2F%2Fdnd-5e.fandom.com%2Fwiki%2FAcid_Splash%3Fveaction%3Dedit%26section%3D2&amp;uselang=en\" title=\"Sign in to edit\"><svg class=\"wds-icon wds-icon-tiny\"><use xlink:href=\"#wds-icons-pencil-tiny\"></use></svg></a><span class=\"mw-editsection-bracket\">]</span></span></h2>\n",
    "'''\n",
    "\n",
    "soup = BeautifulSoup(html, 'html.parser')\n",
    "\n",
    "h2 = soup.find('h2')\n",
    "headline_text = h2.find('span', class_='mw-headline').text.strip()\n",
    "\n",
    "# Create a clean new <h2> tag\n",
    "print(headline_text)\n",
    "new_h2 = soup.new_tag(\"h2\")\n",
    "new_h2.string = headline_text\n",
    "\n",
    "print(new_h2)"
   ]
  },
  {
   "cell_type": "code",
   "execution_count": null,
   "id": "6452845b",
   "metadata": {},
   "outputs": [],
   "source": []
  }
 ],
 "metadata": {
  "kernelspec": {
   "display_name": "nlp",
   "language": "python",
   "name": "python3"
  },
  "language_info": {
   "codemirror_mode": {
    "name": "ipython",
    "version": 3
   },
   "file_extension": ".py",
   "mimetype": "text/x-python",
   "name": "python",
   "nbconvert_exporter": "python",
   "pygments_lexer": "ipython3",
   "version": "3.12.9"
  }
 },
 "nbformat": 4,
 "nbformat_minor": 5
}
