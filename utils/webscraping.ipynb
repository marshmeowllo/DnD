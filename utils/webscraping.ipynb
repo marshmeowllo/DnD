{
 "cells": [
  {
   "cell_type": "markdown",
   "id": "fccae44f",
   "metadata": {},
   "source": [
    "# Scraping\n",
    "\n",
    "this code provide how to scrap the [D&D 5e Wiki](https://dnd-5e.fandom.com/wiki/D%26D_5e_Wiki)"
   ]
  },
  {
   "cell_type": "code",
   "execution_count": 1,
   "id": "12c24826",
   "metadata": {},
   "outputs": [],
   "source": [
    "import requests\n",
    "import re\n",
    "import os\n",
    "import pandas as pd\n",
    "import markdownify \n",
    "\n",
    "from io import StringIO\n",
    "from bs4 import BeautifulSoup, Comment\n",
    "from tqdm import tqdm\n",
    "from IPython.display import display"
   ]
  },
  {
   "cell_type": "code",
   "execution_count": 2,
   "id": "9acfdd6b",
   "metadata": {},
   "outputs": [],
   "source": [
    "url = requests.get('https://dnd-5e.fandom.com/wiki/List_of_Spells')\n",
    "soup = BeautifulSoup(url.content, 'html.parser')"
   ]
  },
  {
   "cell_type": "markdown",
   "id": "def7b6db",
   "metadata": {},
   "source": [
    "# Spell\n",
    "\n",
    "filter out `Unearthed Arcana`"
   ]
  },
  {
   "cell_type": "code",
   "execution_count": 3,
   "id": "db7733f0",
   "metadata": {},
   "outputs": [],
   "source": [
    "data = soup.find_all('span', 'mw-headline')\n",
    "filtered_data = [item for item in data if item.text != 'Unearthed Arcana' and item.text != 'Spell Navigation']"
   ]
  },
  {
   "cell_type": "code",
   "execution_count": 4,
   "id": "cf921c2f",
   "metadata": {},
   "outputs": [
    {
     "data": {
      "text/plain": [
       "[<span class=\"mw-headline\" id=\"Cantrips\">Cantrips</span>,\n",
       " <span class=\"mw-headline\" id=\"1st_Level\">1st Level</span>,\n",
       " <span class=\"mw-headline\" id=\"2nd_Level\">2nd Level</span>,\n",
       " <span class=\"mw-headline\" id=\"3rd_Level\">3rd Level</span>,\n",
       " <span class=\"mw-headline\" id=\"4th_Level\">4th Level</span>,\n",
       " <span class=\"mw-headline\" id=\"5th_Level\">5th Level</span>,\n",
       " <span class=\"mw-headline\" id=\"6th_Level\">6th Level</span>,\n",
       " <span class=\"mw-headline\" id=\"7th_Level\">7th Level</span>,\n",
       " <span class=\"mw-headline\" id=\"8th_Level\">8th Level</span>,\n",
       " <span class=\"mw-headline\" id=\"9th_Level\">9th Level</span>]"
      ]
     },
     "execution_count": 4,
     "metadata": {},
     "output_type": "execute_result"
    }
   ],
   "source": [
    "filtered_data"
   ]
  },
  {
   "cell_type": "code",
   "execution_count": 5,
   "id": "0ec376c1",
   "metadata": {},
   "outputs": [
    {
     "name": "stdout",
     "output_type": "stream",
     "text": [
      "10\n"
     ]
    },
    {
     "data": {
      "text/html": [
       "<div>\n",
       "<style scoped>\n",
       "    .dataframe tbody tr th:only-of-type {\n",
       "        vertical-align: middle;\n",
       "    }\n",
       "\n",
       "    .dataframe tbody tr th {\n",
       "        vertical-align: top;\n",
       "    }\n",
       "\n",
       "    .dataframe thead th {\n",
       "        text-align: right;\n",
       "    }\n",
       "</style>\n",
       "<table border=\"1\" class=\"dataframe\">\n",
       "  <thead>\n",
       "    <tr style=\"text-align: right;\">\n",
       "      <th></th>\n",
       "      <th>Name</th>\n",
       "      <th>School</th>\n",
       "      <th>Casting Time</th>\n",
       "      <th>Comps</th>\n",
       "      <th>Save</th>\n",
       "      <th>Conc.</th>\n",
       "      <th>Source</th>\n",
       "    </tr>\n",
       "  </thead>\n",
       "  <tbody>\n",
       "    <tr>\n",
       "      <th>0</th>\n",
       "      <td>Acid Splash</td>\n",
       "      <td>Conjuration</td>\n",
       "      <td>1 action</td>\n",
       "      <td>V, S</td>\n",
       "      <td>Dexterity</td>\n",
       "      <td>NaN</td>\n",
       "      <td>PHB 211</td>\n",
       "    </tr>\n",
       "    <tr>\n",
       "      <th>1</th>\n",
       "      <td>Blade Ward</td>\n",
       "      <td>Abjuration</td>\n",
       "      <td>1 action</td>\n",
       "      <td>V, S</td>\n",
       "      <td>NaN</td>\n",
       "      <td>NaN</td>\n",
       "      <td>PHB 218</td>\n",
       "    </tr>\n",
       "    <tr>\n",
       "      <th>2</th>\n",
       "      <td>Booming Blade</td>\n",
       "      <td>Evocation</td>\n",
       "      <td>1 action</td>\n",
       "      <td>V, M</td>\n",
       "      <td>Attack roll</td>\n",
       "      <td>NaN</td>\n",
       "      <td>TCE 143, SCAG 142</td>\n",
       "    </tr>\n",
       "    <tr>\n",
       "      <th>3</th>\n",
       "      <td>Chill Touch</td>\n",
       "      <td>Necromancy</td>\n",
       "      <td>1 action</td>\n",
       "      <td>V, S</td>\n",
       "      <td>Attack roll</td>\n",
       "      <td>NaN</td>\n",
       "      <td>PHB 221</td>\n",
       "    </tr>\n",
       "    <tr>\n",
       "      <th>4</th>\n",
       "      <td>Control Flames</td>\n",
       "      <td>Transmutation</td>\n",
       "      <td>1 action</td>\n",
       "      <td>S</td>\n",
       "      <td>NaN</td>\n",
       "      <td>NaN</td>\n",
       "      <td>XGE 152, EEPC 16</td>\n",
       "    </tr>\n",
       "  </tbody>\n",
       "</table>\n",
       "</div>"
      ],
      "text/plain": [
       "             Name         School Casting Time Comps         Save Conc.  \\\n",
       "0     Acid Splash    Conjuration     1 action  V, S    Dexterity   NaN   \n",
       "1      Blade Ward     Abjuration     1 action  V, S          NaN   NaN   \n",
       "2   Booming Blade      Evocation     1 action  V, M  Attack roll   NaN   \n",
       "3     Chill Touch     Necromancy     1 action  V, S  Attack roll   NaN   \n",
       "4  Control Flames  Transmutation     1 action     S          NaN   NaN   \n",
       "\n",
       "              Source  \n",
       "0            PHB 211  \n",
       "1            PHB 218  \n",
       "2  TCE 143, SCAG 142  \n",
       "3            PHB 221  \n",
       "4   XGE 152, EEPC 16  "
      ]
     },
     "metadata": {},
     "output_type": "display_data"
    },
    {
     "data": {
      "text/html": [
       "<div>\n",
       "<style scoped>\n",
       "    .dataframe tbody tr th:only-of-type {\n",
       "        vertical-align: middle;\n",
       "    }\n",
       "\n",
       "    .dataframe tbody tr th {\n",
       "        vertical-align: top;\n",
       "    }\n",
       "\n",
       "    .dataframe thead th {\n",
       "        text-align: right;\n",
       "    }\n",
       "</style>\n",
       "<table border=\"1\" class=\"dataframe\">\n",
       "  <thead>\n",
       "    <tr style=\"text-align: right;\">\n",
       "      <th></th>\n",
       "      <th>Name</th>\n",
       "      <th>School</th>\n",
       "      <th>Casting Time</th>\n",
       "      <th>Comps</th>\n",
       "      <th>Cost</th>\n",
       "      <th>Save</th>\n",
       "      <th>Ritual</th>\n",
       "      <th>Conc.</th>\n",
       "      <th>Source</th>\n",
       "    </tr>\n",
       "  </thead>\n",
       "  <tbody>\n",
       "    <tr>\n",
       "      <th>0</th>\n",
       "      <td>Absorb Elements</td>\n",
       "      <td>Abjuration</td>\n",
       "      <td>1 reaction</td>\n",
       "      <td>S</td>\n",
       "      <td>NaN</td>\n",
       "      <td>NaN</td>\n",
       "      <td>NaN</td>\n",
       "      <td>NaN</td>\n",
       "      <td>XGE 150, EEPC 15</td>\n",
       "    </tr>\n",
       "    <tr>\n",
       "      <th>1</th>\n",
       "      <td>Alarm</td>\n",
       "      <td>Abjuration</td>\n",
       "      <td>1 minute</td>\n",
       "      <td>V, S, M</td>\n",
       "      <td>NaN</td>\n",
       "      <td>NaN</td>\n",
       "      <td>Yes</td>\n",
       "      <td>NaN</td>\n",
       "      <td>PHB 211</td>\n",
       "    </tr>\n",
       "    <tr>\n",
       "      <th>2</th>\n",
       "      <td>Animal Friendship</td>\n",
       "      <td>Enchantment</td>\n",
       "      <td>1 action</td>\n",
       "      <td>V, S, M</td>\n",
       "      <td>NaN</td>\n",
       "      <td>Wisdom</td>\n",
       "      <td>NaN</td>\n",
       "      <td>NaN</td>\n",
       "      <td>PHB 212</td>\n",
       "    </tr>\n",
       "    <tr>\n",
       "      <th>3</th>\n",
       "      <td>Armor of Agathys</td>\n",
       "      <td>Abjuration</td>\n",
       "      <td>1 action</td>\n",
       "      <td>V, S, M</td>\n",
       "      <td>NaN</td>\n",
       "      <td>NaN</td>\n",
       "      <td>NaN</td>\n",
       "      <td>NaN</td>\n",
       "      <td>PHB 215</td>\n",
       "    </tr>\n",
       "    <tr>\n",
       "      <th>4</th>\n",
       "      <td>Arms of Hadar</td>\n",
       "      <td>Conjuration</td>\n",
       "      <td>1 action</td>\n",
       "      <td>V, S</td>\n",
       "      <td>NaN</td>\n",
       "      <td>Strength</td>\n",
       "      <td>NaN</td>\n",
       "      <td>NaN</td>\n",
       "      <td>PHB 215</td>\n",
       "    </tr>\n",
       "  </tbody>\n",
       "</table>\n",
       "</div>"
      ],
      "text/plain": [
       "                Name       School Casting Time    Comps Cost      Save Ritual  \\\n",
       "0    Absorb Elements   Abjuration   1 reaction        S  NaN       NaN    NaN   \n",
       "1              Alarm   Abjuration     1 minute  V, S, M  NaN       NaN    Yes   \n",
       "2  Animal Friendship  Enchantment     1 action  V, S, M  NaN    Wisdom    NaN   \n",
       "3   Armor of Agathys   Abjuration     1 action  V, S, M  NaN       NaN    NaN   \n",
       "4      Arms of Hadar  Conjuration     1 action     V, S  NaN  Strength    NaN   \n",
       "\n",
       "  Conc.            Source  \n",
       "0   NaN  XGE 150, EEPC 15  \n",
       "1   NaN           PHB 211  \n",
       "2   NaN           PHB 212  \n",
       "3   NaN           PHB 215  \n",
       "4   NaN           PHB 215  "
      ]
     },
     "metadata": {},
     "output_type": "display_data"
    }
   ],
   "source": [
    "dfs = []\n",
    "\n",
    "for table in filtered_data:\n",
    "    table = table.find_next('table')\n",
    "    html_table = list()\n",
    "    \n",
    "    if table:\n",
    "        html_string = str(table)\n",
    "        html_table.append(table)\n",
    "        df = pd.read_html(StringIO(html_string))[0]\n",
    "        dfs.append(df)\n",
    "\n",
    "print(len(dfs))\n",
    "display(dfs[0].head())\n",
    "display(dfs[1].head())"
   ]
  },
  {
   "cell_type": "code",
   "execution_count": 6,
   "id": "a3ae814f",
   "metadata": {},
   "outputs": [],
   "source": [
    "os.makedirs(\"../datasets/spell/\", exist_ok=True)\n",
    "\n",
    "for title, df in zip(filtered_data, dfs):\n",
    "    df.to_csv(f\"../datasets/spell/{title.text}.csv\", index=False)"
   ]
  },
  {
   "cell_type": "code",
   "execution_count": 7,
   "id": "a8ca94c5",
   "metadata": {},
   "outputs": [
    {
     "data": {
      "text/plain": [
       "[<span class=\"mw-headline\" id=\"Cantrips\">Cantrips</span>,\n",
       " <span class=\"mw-headline\" id=\"1st_Level\">1st Level</span>,\n",
       " <span class=\"mw-headline\" id=\"2nd_Level\">2nd Level</span>,\n",
       " <span class=\"mw-headline\" id=\"3rd_Level\">3rd Level</span>,\n",
       " <span class=\"mw-headline\" id=\"4th_Level\">4th Level</span>,\n",
       " <span class=\"mw-headline\" id=\"5th_Level\">5th Level</span>,\n",
       " <span class=\"mw-headline\" id=\"6th_Level\">6th Level</span>,\n",
       " <span class=\"mw-headline\" id=\"7th_Level\">7th Level</span>,\n",
       " <span class=\"mw-headline\" id=\"8th_Level\">8th Level</span>,\n",
       " <span class=\"mw-headline\" id=\"9th_Level\">9th Level</span>]"
      ]
     },
     "execution_count": 7,
     "metadata": {},
     "output_type": "execute_result"
    }
   ],
   "source": [
    "filtered_data"
   ]
  },
  {
   "cell_type": "code",
   "execution_count": 8,
   "id": "38d1b0c0",
   "metadata": {},
   "outputs": [
    {
     "name": "stderr",
     "output_type": "stream",
     "text": [
      "  0%|          | 0/46 [00:00<?, ?it/s]/tmp/ipykernel_20610/3706966594.py:28: DeprecationWarning: Call to deprecated method findChildren. (Replaced by find_all) -- Deprecated since version 3.0.0.\n",
      "  content_children = content_block.findChildren()\n",
      "100%|██████████| 46/46 [00:22<00:00,  2.08it/s]\n",
      "100%|██████████| 79/79 [00:32<00:00,  2.46it/s]\n",
      "100%|██████████| 85/85 [00:39<00:00,  2.14it/s]\n",
      "100%|██████████| 73/73 [00:33<00:00,  2.21it/s]\n",
      "100%|██████████| 51/51 [00:19<00:00,  2.60it/s]\n",
      "100%|██████████| 61/61 [00:26<00:00,  2.29it/s]\n",
      "100%|██████████| 48/48 [00:21<00:00,  2.25it/s]\n",
      "100%|██████████| 28/28 [00:11<00:00,  2.41it/s]\n",
      "100%|██████████| 24/24 [00:11<00:00,  2.14it/s]\n",
      "100%|██████████| 22/22 [00:11<00:00,  1.95it/s]\n"
     ]
    }
   ],
   "source": [
    "data = soup.find_all('span', 'mw-headline')\n",
    "filtered_data = [item for item in data if item.text != 'Unearthed Arcana' and item.text != 'Spell Navigation']  \n",
    "os.makedirs(\"../datasets/spell_content\", exist_ok=True)\n",
    "\n",
    "for table in filtered_data:\n",
    "    file_name = table.text\n",
    "    table = table.find_next('table')\n",
    "    data = list()\n",
    "\n",
    "    if table:\n",
    "        anchors = table.find_all('a')\n",
    "        \n",
    "        for anchor in tqdm(anchors):\n",
    "            url = requests.get(f'https://dnd-5e.fandom.com{anchor['href']}')\n",
    "            soup = BeautifulSoup(url.content, 'html.parser')\n",
    "            name_tag = soup.find('span', class_='mw-page-title-main')\n",
    "\n",
    "            h2_tags = soup.find_all('h2')\n",
    "\n",
    "            for h2_tag in h2_tags:\n",
    "                headline = h2_tag.find('span', class_='mw-headline')\n",
    "                if headline:\n",
    "                    new_h2 = soup.new_tag(\"h2\")\n",
    "                    new_h2.string = headline.text.strip()\n",
    "                    h2_tag.replace_with(new_h2)\n",
    "\n",
    "            content_block = soup.find('div', 'mw-content-ltr mw-parser-output')\n",
    "            content_children = content_block.findChildren()\n",
    "            cleaned_content = []\n",
    "\n",
    "            for element in content_children:\n",
    "                markdown = markdownify.markdownify(str(element), strip=['a', 'span'], heading_style=\"ATX\")\n",
    "                cleaned_content.append(markdown)\n",
    "\n",
    "            combined_content = f\"# {name_tag.text.strip()}\\n## Spell Name\\n{name_tag.text.strip()}\\n\\n\" + \"\\n\".join(cleaned_content) + \"\\n\"\n",
    "            combined_content = re.sub(r'<!--.*?-->', '', combined_content, flags=re.DOTALL)\n",
    "\n",
    "            data.append(combined_content)\n",
    "\n",
    "        with open(f\"../datasets/spell_content/{file_name}.txt\", \"w\", encoding=\"utf-8\") as f:\n",
    "            for item in data:\n",
    "                f.write(f\"{item}\\n\")"
   ]
  },
  {
   "cell_type": "code",
   "execution_count": null,
   "id": "f9d2c057",
   "metadata": {},
   "outputs": [],
   "source": []
  }
 ],
 "metadata": {
  "kernelspec": {
   "display_name": "nlp",
   "language": "python",
   "name": "python3"
  },
  "language_info": {
   "codemirror_mode": {
    "name": "ipython",
    "version": 3
   },
   "file_extension": ".py",
   "mimetype": "text/x-python",
   "name": "python",
   "nbconvert_exporter": "python",
   "pygments_lexer": "ipython3",
   "version": "3.12.9"
  }
 },
 "nbformat": 4,
 "nbformat_minor": 5
}
