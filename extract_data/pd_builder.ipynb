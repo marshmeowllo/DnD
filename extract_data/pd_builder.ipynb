{
 "cells": [
  {
   "cell_type": "code",
   "execution_count": 22,
   "id": "b6b4165f",
   "metadata": {},
   "outputs": [],
   "source": [
    "import pandas as pd\n",
    "import numpy as np\n",
    "import os\n",
    "import sys"
   ]
  },
  {
   "cell_type": "code",
   "execution_count": null,
   "id": "cb9f7783",
   "metadata": {},
   "outputs": [],
   "source": [
    "actors_df = pd.read_csv('campaign_1_actors.csv')\n"
   ]
  },
  {
   "cell_type": "code",
   "execution_count": null,
   "id": "cf1778bf",
   "metadata": {},
   "outputs": [],
   "source": [
    "def cleanNaNs(df):\n",
    "    # change NaN to 'None'\n",
    "    df = df.fillna('-')\n",
    "    return df\n",
    "\n",
    "def loc_window(df,t, idx, size):\n",
    "    if t == 'iloc':\n",
    "        return df.iloc[idx-size:idx+size+1]\n",
    "    elif t == 'loc':\n",
    "        return df.loc[idx-size:idx+size+1]\n",
    "    return 'Invalid type'"
   ]
  },
  {
   "cell_type": "code",
   "execution_count": null,
   "id": "088f27d6",
   "metadata": {},
   "outputs": [],
   "source": [
    "df_combat = pd.read_csv('df_combat_icooc_v2_manual.csv')"
   ]
  },
  {
   "cell_type": "code",
   "execution_count": null,
   "id": "963427c2",
   "metadata": {},
   "outputs": [],
   "source": []
  },
  {
   "cell_type": "code",
   "execution_count": null,
   "id": "a17996a5",
   "metadata": {},
   "outputs": [],
   "source": [
    "df_combat = cleanNaNs(df_combat)"
   ]
  },
  {
   "cell_type": "code",
   "execution_count": null,
   "id": "fd84d32b",
   "metadata": {},
   "outputs": [],
   "source": [
    "df_combat[df_combat['item'] != 'None']"
   ]
  },
  {
   "cell_type": "code",
   "execution_count": null,
   "id": "c0f8b927",
   "metadata": {},
   "outputs": [],
   "source": [
    "loc_window(df_combat, 'iloc', 10, 10)"
   ]
  },
  {
   "cell_type": "code",
   "execution_count": null,
   "id": "932d6fad",
   "metadata": {},
   "outputs": [],
   "source": [
    "actors_df = actors_df.drop_duplicates(subset=['actor_id'], keep='first')\n",
    "actors_df.rename(columns={'actor_id': 'speaker'}, inplace=True)\n"
   ]
  },
  {
   "cell_type": "code",
   "execution_count": null,
   "id": "fa1f171b",
   "metadata": {},
   "outputs": [],
   "source": [
    "actors_df"
   ]
  },
  {
   "cell_type": "code",
   "execution_count": null,
   "id": "aa4eabb2",
   "metadata": {},
   "outputs": [],
   "source": [
    "\n",
    "# merge without dropping NaNs and do not sort\n",
    "\n",
    "df_combined = pd.merge(df_combat, actors_df, how='left', on='speaker', sort=False)\n",
    "\n"
   ]
  },
  {
   "cell_type": "code",
   "execution_count": null,
   "id": "58ba241c",
   "metadata": {},
   "outputs": [],
   "source": [
    "df_combined = df_combined.drop(columns=['actor'])"
   ]
  },
  {
   "cell_type": "code",
   "execution_count": null,
   "id": "d311849f",
   "metadata": {},
   "outputs": [],
   "source": [
    "# reorder columns of df_combined\n",
    "\n",
    "df_combined = df_combined[['fileID', 'number', 'speaker', 'character', 'Race', 'class', 'utterance', 'item', 'owner', 'in_combat', 'IC_OOC']]\n",
    "\n"
   ]
  },
  {
   "cell_type": "code",
   "execution_count": null,
   "id": "a301bc4f",
   "metadata": {},
   "outputs": [],
   "source": [
    "df_combined = cleanNaNs(df_combined)"
   ]
  },
  {
   "cell_type": "code",
   "execution_count": 23,
   "id": "a93b36ce",
   "metadata": {},
   "outputs": [],
   "source": [
    "# df_combined.loc[0:10]\n",
    "\n",
    "# display column utterance wider\n",
    "pd.set_option('display.max_colwidth', None)"
   ]
  },
  {
   "cell_type": "code",
   "execution_count": null,
   "id": "3592e31d",
   "metadata": {},
   "outputs": [],
   "source": [
    "combine_w_item = df_combined[(df_combined['item'] != 'None') & (df_combined['item'] != 'Whisper')]"
   ]
  },
  {
   "cell_type": "code",
   "execution_count": null,
   "id": "f0d70309",
   "metadata": {},
   "outputs": [],
   "source": [
    "combine_w_item\n"
   ]
  },
  {
   "cell_type": "code",
   "execution_count": null,
   "id": "4f8cd139",
   "metadata": {},
   "outputs": [],
   "source": [
    "loc_window(combine_w_item, 'iloc', 900, 10)"
   ]
  },
  {
   "cell_type": "code",
   "execution_count": null,
   "id": "faa501a7",
   "metadata": {},
   "outputs": [],
   "source": [
    "df_combined"
   ]
  },
  {
   "cell_type": "code",
   "execution_count": null,
   "id": "15a1e175",
   "metadata": {},
   "outputs": [],
   "source": [
    "df_combined = cleanNaNs(df_combined)"
   ]
  },
  {
   "cell_type": "code",
   "execution_count": null,
   "id": "9a4c82e0",
   "metadata": {},
   "outputs": [],
   "source": []
  },
  {
   "cell_type": "code",
   "execution_count": null,
   "id": "0de08810",
   "metadata": {},
   "outputs": [],
   "source": [
    "# df_combined.to_csv('extracted_v1.csv', index=False)"
   ]
  },
  {
   "cell_type": "code",
   "execution_count": 24,
   "id": "d09445b2",
   "metadata": {},
   "outputs": [],
   "source": [
    "df_ = pd.read_csv('extracted_v1.csv')"
   ]
  },
  {
   "cell_type": "code",
   "execution_count": 31,
   "id": "09c52f69",
   "metadata": {},
   "outputs": [
    {
     "data": {
      "text/html": [
       "<div>\n",
       "<style scoped>\n",
       "    .dataframe tbody tr th:only-of-type {\n",
       "        vertical-align: middle;\n",
       "    }\n",
       "\n",
       "    .dataframe tbody tr th {\n",
       "        vertical-align: top;\n",
       "    }\n",
       "\n",
       "    .dataframe thead th {\n",
       "        text-align: right;\n",
       "    }\n",
       "</style>\n",
       "<table border=\"1\" class=\"dataframe\">\n",
       "  <thead>\n",
       "    <tr style=\"text-align: right;\">\n",
       "      <th></th>\n",
       "      <th>fileID</th>\n",
       "      <th>number</th>\n",
       "      <th>speaker</th>\n",
       "      <th>character</th>\n",
       "      <th>Race</th>\n",
       "      <th>class</th>\n",
       "      <th>utterance</th>\n",
       "      <th>item</th>\n",
       "      <th>owner</th>\n",
       "      <th>in_combat</th>\n",
       "      <th>IC_OOC</th>\n",
       "    </tr>\n",
       "  </thead>\n",
       "  <tbody>\n",
       "    <tr>\n",
       "      <th>60380</th>\n",
       "      <td>C1E026</td>\n",
       "      <td>215</td>\n",
       "      <td>&lt;PLAYER5&gt;</td>\n",
       "      <td>Tiberius Stormwind</td>\n",
       "      <td>Dragonborn</td>\n",
       "      <td>Sorcerer (Draconic Bloodline)</td>\n",
       "      <td>Well, you've seen how I've used my Mending Wheel. Countless ways.</td>\n",
       "      <td>Mending Wheel</td>\n",
       "      <td>&lt;PLAYER5&gt;</td>\n",
       "      <td>True</td>\n",
       "      <td>OOC</td>\n",
       "    </tr>\n",
       "  </tbody>\n",
       "</table>\n",
       "</div>"
      ],
      "text/plain": [
       "       fileID  number    speaker           character        Race  \\\n",
       "60380  C1E026     215  <PLAYER5>  Tiberius Stormwind  Dragonborn   \n",
       "\n",
       "                               class  \\\n",
       "60380  Sorcerer (Draconic Bloodline)   \n",
       "\n",
       "                                                               utterance  \\\n",
       "60380  Well, you've seen how I've used my Mending Wheel. Countless ways.   \n",
       "\n",
       "                item      owner  in_combat IC_OOC  \n",
       "60380  Mending Wheel  <PLAYER5>       True    OOC  "
      ]
     },
     "execution_count": 31,
     "metadata": {},
     "output_type": "execute_result"
    }
   ],
   "source": [
    "df_[df_['owner'] != '-'].loc[60380:60381]"
   ]
  },
  {
   "cell_type": "code",
   "execution_count": 11,
   "id": "2bc946cd",
   "metadata": {},
   "outputs": [
    {
     "data": {
      "text/plain": [
       "fileID                                                  C2E041\n",
       "number                                                     100\n",
       "speaker                                              <PLAYER6>\n",
       "character                                            Vax'ildan\n",
       "Race                                                  Half-elf\n",
       "class        Rogue (Assassin)/Paladin (Oath of Vengeance)/D...\n",
       "utterance    Periapt of wound closure. It just feels right ...\n",
       "item                                  Periapt of Wound Closure\n",
       "owner                                                <PLAYER6>\n",
       "in_combat                                                 True\n",
       "IC_OOC                                                     OOC\n",
       "Name: 382809, dtype: object"
      ]
     },
     "execution_count": 11,
     "metadata": {},
     "output_type": "execute_result"
    }
   ],
   "source": []
  },
  {
   "cell_type": "code",
   "execution_count": null,
   "id": "a4e12ba0",
   "metadata": {},
   "outputs": [],
   "source": [
    "df_.drop(columns=['in_combat'], inplace=True)"
   ]
  },
  {
   "cell_type": "code",
   "execution_count": null,
   "id": "5e64e462",
   "metadata": {},
   "outputs": [],
   "source": [
    "loc_window(df_, 'iloc', 10, 10)"
   ]
  },
  {
   "cell_type": "code",
   "execution_count": null,
   "id": "deecc719",
   "metadata": {},
   "outputs": [],
   "source": [
    "# output format\n",
    "\n",
    "# message = [\n",
    "#     {\"role\": \"<PLAYER1>\", \"content\": \"the goblin is attacking me! can i run away?\"},\n",
    "#     {\"role\": \"<DM>\", \"content\": \"no, you have a slowness debuff, you can't run away.\"},\n",
    "#     {\"role\": \"<PLAYER2>\", \"content\": \"i will cast fireball on the goblin.\"},\n",
    "# ]"
   ]
  },
  {
   "cell_type": "code",
   "execution_count": null,
   "id": "737f7066",
   "metadata": {},
   "outputs": [],
   "source": [
    "# c1_df = df_[df_['fileID'][:2] == 'C1']\n",
    "# fileID starts with C1\n",
    "df_ = df_[df_['fileID'].str.startswith('C1')]\n"
   ]
  },
  {
   "cell_type": "code",
   "execution_count": null,
   "id": "9fe44943",
   "metadata": {},
   "outputs": [],
   "source": [
    "df_"
   ]
  },
  {
   "cell_type": "markdown",
   "id": "10829715",
   "metadata": {},
   "source": [
    "# MASK NAMES\n"
   ]
  },
  {
   "cell_type": "code",
   "execution_count": null,
   "id": "a61f359e",
   "metadata": {},
   "outputs": [],
   "source": [
    "import re\n",
    "import spacy\n",
    "\n",
    "nlp = spacy.load(\"en_core_web_sm\")\n",
    "\n",
    "def mask_with_ner(text):\n",
    "    doc = nlp(text)\n",
    "    new_text = text\n",
    "    for ent in doc.ents:\n",
    "        if ent.label_ == \"PERSON\":\n",
    "            new_text = new_text.replace(ent.text, '<CHARACTER>')\n",
    "    return new_text\n",
    "\n",
    "def mask_character_names(row):\n",
    "    # masked_data = []\n",
    "    masked_row = mask_with_ner(row)\n",
    "        # Also replace character metadata manually\n",
    "        # content = re.sub(r'\\[character:.*?\\]', '[character: <CHARACTER>]', content)\n",
    "    return masked_row\n",
    "\n",
    "# Example\n",
    "# data = [{'role': 'user', 'content': '\"Hi I am Vex!\" [character: Vex\\'ahlia, in_context: False]'}]\n",
    "\n"
   ]
  },
  {
   "cell_type": "code",
   "execution_count": null,
   "id": "44e171e7",
   "metadata": {},
   "outputs": [],
   "source": [
    "# df_mask_test = df_.iloc[10:30].copy()\n",
    "from tqdm import tqdm"
   ]
  },
  {
   "cell_type": "code",
   "execution_count": null,
   "id": "4f119678",
   "metadata": {},
   "outputs": [],
   "source": [
    "# tqdm.pandas(desc=\"Masking character names...\")\n",
    "# df_['utterance'] = df_['utterance'].progress_apply(mask_character_names)"
   ]
  },
  {
   "cell_type": "code",
   "execution_count": null,
   "id": "fd8f38f4",
   "metadata": {},
   "outputs": [],
   "source": [
    "df_.to_csv('extracted_v2_char_masked.csv', index=False)"
   ]
  },
  {
   "cell_type": "code",
   "execution_count": null,
   "id": "5d9c21ef",
   "metadata": {},
   "outputs": [],
   "source": [
    "# win_size = 8\n",
    "\n",
    "# # tqdm step size is win_size\n",
    "# to_json = []\n",
    "# for i in tqdm(range(40, df_.shape[0] , win_size), desc=\"Processing\"):\n",
    "\n",
    "#     # get the current window\n",
    "#     df_window = df_.iloc[i:i+win_size]\n",
    "\n",
    "#     win_data = []\n",
    "#     for idx, row in df_window.iterrows():\n",
    "#         # index \n",
    "#         original_index = row['number']\n",
    "#         speaker = row['speaker']\n",
    "#         character = row['character']\n",
    "#         class_ = row['class']\n",
    "#         race = row['Race']\n",
    "#         item = row['item']\n",
    "#         # owner = row['owner']\n",
    "#         utterance = row['utterance']\n",
    "#         in_context = \"True\" if row['IC_OOC'] == 'IC' else \"False\"\n",
    "\n",
    "#         # \"I cast Faerie Fire on the goblin.\" [race: Half-elf, class: Druid, IC]\n",
    "\n",
    "#         # content = f\"\\\"{utterance}\\\" [character: {character}, class: {class_}, race: {race}, in_context: {in_context}, items: {item}]\"\n",
    "#         content = f\"{utterance}\"\n",
    "#         role = \"assistant\" if speaker == '<DM>' else \"user\"\n",
    "\n",
    "#         message = {\n",
    "#             # \"original_index\": original_index,\n",
    "#             \"role\": role,\n",
    "#             \"content\": content\n",
    "#         }\n",
    "\n",
    "#         win_data.append(message)\n",
    "    \n",
    "#     # add the window data to the to_json list\n",
    "#     to_json.append(win_data)\n",
    "    \n",
    "# import json\n",
    "# with open('extracted_to_llama_v1.json', 'w') as f:\n",
    "#     json.dump(to_json, f, indent=4)\n"
   ]
  },
  {
   "cell_type": "code",
   "execution_count": null,
   "id": "ee65bf96",
   "metadata": {},
   "outputs": [],
   "source": [
    "# to_json[:4]"
   ]
  },
  {
   "cell_type": "code",
   "execution_count": null,
   "id": "07b5d1be",
   "metadata": {},
   "outputs": [],
   "source": [
    "# import json\n",
    "# with open('extracted_to_llama_v3.json', 'w') as f:\n",
    "#     json.dump(to_json, f, indent=4)"
   ]
  },
  {
   "cell_type": "code",
   "execution_count": null,
   "id": "a2e39b21",
   "metadata": {},
   "outputs": [],
   "source": [
    "df"
   ]
  },
  {
   "cell_type": "code",
   "execution_count": null,
   "id": "a5c763f5",
   "metadata": {},
   "outputs": [],
   "source": [
    "def window_data_with_single_dm(df):\n",
    "    to_json = []\n",
    "    cur_idx = 0\n",
    "    win_data = []\n",
    "    while cur_idx < df.shape[0]:\n",
    "        row = df.iloc[cur_idx]\n",
    "        utterance = row['utterance']\n",
    "        content = f\"{utterance}\"\n",
    "        role = \"assistant\" if row['speaker'] == '<DM>' else row['speaker']\n",
    "        message = {\n",
    "                \"role\": role,\n",
    "                \"content\": content\n",
    "            }\n",
    "        \n",
    "        win_data.append(message)\n",
    "        cur_idx += 1\n",
    "        if row['speaker'] == '<DM>':\n",
    "            if row['IC_OOC'] == 'IC':\n",
    "                if len(win_data) > 15:\n",
    "                    # print(len(win_data))\n",
    "                    win_data = []\n",
    "                    continue\n",
    "                to_json.append(win_data)\n",
    "                win_data = []\n",
    "            else:\n",
    "                # ooc\n",
    "                win_data = []\n",
    "    return to_json\n",
    "\n",
    "            "
   ]
  },
  {
   "cell_type": "code",
   "execution_count": null,
   "id": "4613d391",
   "metadata": {},
   "outputs": [],
   "source": [
    "df = pd.read_csv('extracted_v2_char_masked.csv')"
   ]
  },
  {
   "cell_type": "code",
   "execution_count": null,
   "id": "b72d57e8",
   "metadata": {},
   "outputs": [],
   "source": [
    "to_json = window_data_with_single_dm(df)"
   ]
  },
  {
   "cell_type": "code",
   "execution_count": null,
   "id": "4953c556",
   "metadata": {},
   "outputs": [],
   "source": [
    "to_save = to_json[2:]"
   ]
  },
  {
   "cell_type": "code",
   "execution_count": null,
   "id": "364b5051",
   "metadata": {},
   "outputs": [],
   "source": [
    "\n",
    "to_save[:3]"
   ]
  },
  {
   "cell_type": "code",
   "execution_count": null,
   "id": "936ce399",
   "metadata": {},
   "outputs": [],
   "source": [
    "maxlen = 0\n",
    "for i , c in enumerate(to_save):\n",
    "    # findmaximum length of the element in the list of dictionaries\n",
    "    # print(len(c), i)\n",
    "    if len(c) > maxlen:\n",
    "        maxlen = len(c)\n",
    "        print(len(c), i) \n",
    "    "
   ]
  },
  {
   "cell_type": "code",
   "execution_count": null,
   "id": "7653e8cf",
   "metadata": {},
   "outputs": [],
   "source": [
    "# to_save[30238]"
   ]
  },
  {
   "cell_type": "code",
   "execution_count": null,
   "id": "0b61b962",
   "metadata": {},
   "outputs": [],
   "source": [
    "len(to_save)"
   ]
  },
  {
   "cell_type": "code",
   "execution_count": null,
   "id": "69d7d24e",
   "metadata": {},
   "outputs": [],
   "source": [
    "# 34555"
   ]
  },
  {
   "cell_type": "code",
   "execution_count": null,
   "id": "0ee3ab7a",
   "metadata": {},
   "outputs": [],
   "source": [
    "import json\n",
    "\n",
    "with open('extracted_to_llama_v5_IC.json', 'w') as f:\n",
    "    json.dump(to_save, f, indent=4)"
   ]
  },
  {
   "cell_type": "code",
   "execution_count": null,
   "id": "0697b917",
   "metadata": {},
   "outputs": [],
   "source": [
    "# import json\n",
    "\n",
    "# # Load from file\n",
    "# with open(\"extracted_to_llama_v1.json\", \"r\", encoding=\"utf-8\") as f:\n",
    "#     messages = json.load(f)\n",
    "\n",
    "# print(messages[0]['role'])"
   ]
  }
 ],
 "metadata": {
  "kernelspec": {
   "display_name": "nlp",
   "language": "python",
   "name": "python3"
  },
  "language_info": {
   "codemirror_mode": {
    "name": "ipython",
    "version": 3
   },
   "file_extension": ".py",
   "mimetype": "text/x-python",
   "name": "python",
   "nbconvert_exporter": "python",
   "pygments_lexer": "ipython3",
   "version": "3.11.4"
  }
 },
 "nbformat": 4,
 "nbformat_minor": 5
}
