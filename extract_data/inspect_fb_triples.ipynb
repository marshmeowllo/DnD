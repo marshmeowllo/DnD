{
 "cells": [
  {
   "cell_type": "code",
   "execution_count": 1,
   "id": "435a2791",
   "metadata": {},
   "outputs": [],
   "source": [
    "import pandas as pd\n",
    "import numpy as np \n",
    "\n",
    "import json\n",
    "\n"
   ]
  },
  {
   "cell_type": "code",
   "execution_count": null,
   "id": "05fdf51a",
   "metadata": {},
   "outputs": [],
   "source": []
  },
  {
   "cell_type": "code",
   "execution_count": null,
   "id": "6199d922",
   "metadata": {},
   "outputs": [],
   "source": [
    "with open(\"datasets/FIREBALL/filtered/0a81c5f6e7f06572a4807b96f6b61efa.jsonl\", \"r\") as f:\n",
    "    lines = f.readlines()\n",
    "    data = []\n",
    "    for line in lines:\n",
    "        line = line.strip()\n",
    "        line_dict = json.loads(line)\n",
    "        # line_json = json.loads(line_dict)\n",
    "        # print(type(line_dict))\n",
    "        if line:\n",
    "            data.append(line_dict)"
   ]
  },
  {
   "cell_type": "code",
   "execution_count": null,
   "id": "ebf26507",
   "metadata": {},
   "outputs": [],
   "source": []
  },
  {
   "cell_type": "code",
   "execution_count": 3,
   "id": "027c5a2e",
   "metadata": {},
   "outputs": [],
   "source": [
    "import pandas as pd\n",
    "import json\n",
    "\n",
    "def parse_jsonl(file_path):\n",
    "    data = []\n",
    "    try:\n",
    "        with open(file_path, \"r\") as f:\n",
    "            for line_number, line in enumerate(f, start=1):\n",
    "                line = line.strip()\n",
    "                if not line:\n",
    "                    continue  # emtpy line, \n",
    "                try:\n",
    "                    line_dict = json.loads(line)\n",
    "                    data.append(line_dict)\n",
    "                except json.JSONDecodeError as e:\n",
    "                    print(f\"Error decoding JSON on line {line_number}: {e}\")\n",
    "    except FileNotFoundError:\n",
    "        print(f\"File not found: {file_path}\")\n",
    "    except Exception as e:\n",
    "        print(f\"An unexpected error occurred: {e}\")\n",
    "    return data\n",
    "\n",
    "file_path = \"datasets/FIREBALL/filtered/0ff2e3c72e2d521e8c5dc1eaa64a01b0.jsonl\"\n",
    "\n",
    "data = parse_jsonl(file_path)\n",
    "\n",
    "if data:\n",
    "    df = pd.DataFrame(data)\n",
    "    # print(df.head())\n",
    "else:\n",
    "    print(\"No valid data found in the file.\")"
   ]
  },
  {
   "cell_type": "code",
   "execution_count": 4,
   "id": "f939b979",
   "metadata": {},
   "outputs": [],
   "source": [
    "# {\n",
    "#     \"speaker_id\": The anonymized user ID of the user who sent the commands in the triple. \n",
    "#     \"before_utterances\": A list of strings corresponding to the \"preceding\" utterances in the triple.\n",
    "#     \"combat_state_before\": A list of normalized actor states (see below) for each actor in the combat instance at the instant before the command was run.\n",
    "#     \"current_actor\": (nullable) The normalized actor state of the actor whose turn it currently is.\n",
    "#     \"commands_norm\": A list of strings corresponding to the \"commands\" portion of the triple.\n",
    "#     \"automation_results\": A mechanically generated list of strings representing the results of running the action in the Avrae engine.\n",
    "#     \"caster_after\": The normalized actor state of the actor who ran the action(s), which may or may not be the current actor.\n",
    "#     \"targets_after\": A list of normalized actor states for each actor who was targeted by the action.\n",
    "#     \"combat_state_after\": A list of normalized actor states for each actor in the combat instance at the instant after the command was run.\n",
    "#     \"after_utterances\": A list of strings corresponding to the \"following\" utterances in the triple.\n",
    "#     \"utterance_history\": The last 5 messages in the chat history before the command was run.\n",
    "#     \"before_idxs\": A list of integers corresponding to the index of the \"message\" events containing the \"preceding\" utterances in the raw event file.\n",
    "#     \"before_state_idx\": The index of the \"combat_state_update\" event in the raw event file that was used to derive \"combat_state_before\".\n",
    "#     \"command_idxs\": The indexes of the \"command\" events corresponding to the \"commands_norm\" key.\n",
    "#     \"after_state_idx\": The index of the \"combat_state_update\" event corresponding to the \"combat_state_after\" key.\n",
    "#     \"after_idxs\": The indexes of the \"message\" events corresponding to the \"after_utterances\" key.\n",
    "#     \"embed_idxs\": (nullable, same length as \"automation_results\") The indexes of \"message\" events corresponding to rich results shown to players on Discord for each result in the \"automation_results\" key.\n",
    "# }"
   ]
  },
  {
   "cell_type": "code",
   "execution_count": 5,
   "id": "8f424b77",
   "metadata": {},
   "outputs": [
    {
     "data": {
      "text/plain": [
       "(137, 17)"
      ]
     },
     "execution_count": 5,
     "metadata": {},
     "output_type": "execute_result"
    }
   ],
   "source": [
    "df.shape"
   ]
  },
  {
   "cell_type": "code",
   "execution_count": 6,
   "id": "431f197a",
   "metadata": {},
   "outputs": [
    {
     "data": {
      "text/plain": [
       "speaker_id                                            264022841131784635\n",
       "before_utterances      [The bloodlust is so potent the shrine seems t...\n",
       "combat_state_before    [{'name': 'Bella', 'hp': '<410/410 HP; Healthy...\n",
       "current_actor                                                       None\n",
       "commands_norm          [!cast bless -t nexus -t cathrine -t emi -t be...\n",
       "automation_results     [Nexus casts Bless!\\nNexus gained Blessed.\\nCa...\n",
       "caster_after           {'name': 'Nexus', 'hp': '<348/348 HP; Healthy>...\n",
       "targets_after          [{'name': 'Nexus', 'hp': '<348/348 HP; Healthy...\n",
       "combat_state_after     [{'name': 'Bella', 'hp': '<410/410 HP; Healthy...\n",
       "after_utterances                                                      []\n",
       "utterance_history      [Player 2: The bloodlust is so potent the shri...\n",
       "before_idxs                                                      [2, 41]\n",
       "before_state_idx                                                      38\n",
       "command_idxs                                            [46, 50, 51, 53]\n",
       "after_state_idx                                                       51\n",
       "after_idxs                                                            []\n",
       "embed_idxs                                                          [52]\n",
       "Name: 0, dtype: object"
      ]
     },
     "execution_count": 6,
     "metadata": {},
     "output_type": "execute_result"
    }
   ],
   "source": [
    "df.iloc[0]"
   ]
  },
  {
   "cell_type": "code",
   "execution_count": 7,
   "id": "9e9d0bac",
   "metadata": {},
   "outputs": [],
   "source": [
    "for i in df.index:\n",
    "    # print(i)\n",
    "    if df.iloc[i].speaker_id == \"163631059791733886\":\n",
    "        print((i))\n",
    "\n",
    "        # break"
   ]
  },
  {
   "cell_type": "code",
   "execution_count": 8,
   "id": "ffd3f88a",
   "metadata": {},
   "outputs": [],
   "source": [
    "def inspect(i):\n",
    "    # print(i)\n",
    "    row = df.iloc[i]\n",
    "    display('speaker_id:', row.speaker_id)    \n",
    "    display('before_utterances:', row.before_utterances)\n",
    "    # display('combat_state_before:', row.combat_state_before)\n",
    "    # display('current_actor:', row.current_actor)\n",
    "    # display('commands_norm:', row.commands_norm)\n",
    "    display('automation_results:', row.automation_results)\n",
    "    # display('caster_after:', row.caster_after)\n",
    "    # display('targets_after:', row.targets_after)\n",
    "    # display('combat_state_after:', row.combat_state_after)\n",
    "    display('after_utterances:', row.after_utterances)\n",
    "    display('utterance_history:', row.utterance_history)\n",
    "    "
   ]
  },
  {
   "cell_type": "code",
   "execution_count": 9,
   "id": "96bb5f17",
   "metadata": {},
   "outputs": [
    {
     "data": {
      "text/plain": [
       "'speaker_id:'"
      ]
     },
     "metadata": {},
     "output_type": "display_data"
    },
    {
     "data": {
      "text/plain": [
       "'294037842287691462'"
      ]
     },
     "metadata": {},
     "output_type": "display_data"
    },
    {
     "data": {
      "text/plain": [
       "'before_utterances:'"
      ]
     },
     "metadata": {},
     "output_type": "display_data"
    },
    {
     "data": {
      "text/plain": [
       "['If you fail take 181+51 damage',\n",
       " 'Equal to the damage you dealt to the boss',\n",
       " 'On a success take half']"
      ]
     },
     "metadata": {},
     "output_type": "display_data"
    },
    {
     "data": {
      "text/plain": [
       "'automation_results:'"
      ]
     },
     "metadata": {},
     "output_type": "display_data"
    },
    {
     "data": {
      "text/plain": [
       "['Bella attacks with an Emi!\\nBella gained Save Bonus.']"
      ]
     },
     "metadata": {},
     "output_type": "display_data"
    },
    {
     "data": {
      "text/plain": [
       "'after_utterances:'"
      ]
     },
     "metadata": {},
     "output_type": "display_data"
    },
    {
     "data": {
      "text/plain": [
       "[]"
      ]
     },
     "metadata": {},
     "output_type": "display_data"
    },
    {
     "data": {
      "text/plain": [
       "'utterance_history:'"
      ]
     },
     "metadata": {},
     "output_type": "display_data"
    },
    {
     "data": {
      "text/plain": [
       "['Player 2: The creature will look at your arrow in it’s shoulder before giving Bella a look of pure rage',\n",
       " 'Player 6: \"I uhh... I think I angered it..\"',\n",
       " 'Player 2: If you fail take 181+51 damage',\n",
       " 'Player 2: Equal to the damage you dealt to the boss',\n",
       " 'Player 2: On a success take half']"
      ]
     },
     "metadata": {},
     "output_type": "display_data"
    }
   ],
   "source": [
    "inspect(5)"
   ]
  },
  {
   "cell_type": "code",
   "execution_count": 10,
   "id": "55206639",
   "metadata": {},
   "outputs": [
    {
     "data": {
      "text/plain": [
       "'speaker_id:'"
      ]
     },
     "metadata": {},
     "output_type": "display_data"
    },
    {
     "data": {
      "text/plain": [
       "'319173686662838782'"
      ]
     },
     "metadata": {},
     "output_type": "display_data"
    },
    {
     "data": {
      "text/plain": [
       "'before_utterances:'"
      ]
     },
     "metadata": {},
     "output_type": "display_data"
    },
    {
     "data": {
      "text/plain": [
       "['So take half of 232',\n",
       " '*uses lighting stone as a ba and haste pot as a action*',\n",
       " \"Doesn't take any on a success\",\n",
       " 'On a success you take half']"
      ]
     },
     "metadata": {},
     "output_type": "display_data"
    },
    {
     "data": {
      "text/plain": [
       "'automation_results:'"
      ]
     },
     "metadata": {},
     "output_type": "display_data"
    },
    {
     "data": {
      "text/plain": [
       "['Emiliah casts Haste!\\nEmiliah gained Hasted.']"
      ]
     },
     "metadata": {},
     "output_type": "display_data"
    },
    {
     "data": {
      "text/plain": [
       "'after_utterances:'"
      ]
     },
     "metadata": {},
     "output_type": "display_data"
    },
    {
     "data": {
      "text/plain": [
       "['But the creature is now in the middle of the party']"
      ]
     },
     "metadata": {},
     "output_type": "display_data"
    },
    {
     "data": {
      "text/plain": [
       "'utterance_history:'"
      ]
     },
     "metadata": {},
     "output_type": "display_data"
    },
    {
     "data": {
      "text/plain": [
       "['Player 2: On a success take half',\n",
       " 'Player 2: So take half of 232',\n",
       " 'Player 0: *uses lighting stone as a ba and haste pot as a action*',\n",
       " \"Player 0: Doesn't take any on a success\",\n",
       " 'Player 2: On a success you take half']"
      ]
     },
     "metadata": {},
     "output_type": "display_data"
    }
   ],
   "source": [
    "inspect(6)"
   ]
  },
  {
   "cell_type": "code",
   "execution_count": 11,
   "id": "06bee43b",
   "metadata": {},
   "outputs": [
    {
     "data": {
      "text/plain": [
       "'speaker_id:'"
      ]
     },
     "metadata": {},
     "output_type": "display_data"
    },
    {
     "data": {
      "text/plain": [
       "'319173686662838782'"
      ]
     },
     "metadata": {},
     "output_type": "display_data"
    },
    {
     "data": {
      "text/plain": [
       "'before_utterances:'"
      ]
     },
     "metadata": {},
     "output_type": "display_data"
    },
    {
     "data": {
      "text/plain": [
       "['Distance is melee with the whole party']"
      ]
     },
     "metadata": {},
     "output_type": "display_data"
    },
    {
     "data": {
      "text/plain": [
       "'automation_results:'"
      ]
     },
     "metadata": {},
     "output_type": "display_data"
    },
    {
     "data": {
      "text/plain": [
       "['Emiliah attacks with an Ancient Blade!\\nEmiliah attacked EM1 and hit.\\nEM1 took 35 damage.\\nEmiliah attacked EM1 and hit.\\nEM1 took 37 damage.\\nEmiliah attacked EM1 and hit.\\nEM1 took 28 damage.']"
      ]
     },
     "metadata": {},
     "output_type": "display_data"
    },
    {
     "data": {
      "text/plain": [
       "'after_utterances:'"
      ]
     },
     "metadata": {},
     "output_type": "display_data"
    },
    {
     "data": {
      "text/plain": [
       "['The creature’s club is going to glow burning red']"
      ]
     },
     "metadata": {},
     "output_type": "display_data"
    },
    {
     "data": {
      "text/plain": [
       "'utterance_history:'"
      ]
     },
     "metadata": {},
     "output_type": "display_data"
    },
    {
     "data": {
      "text/plain": [
       "['Player 0: *uses lighting stone as a ba and haste pot as a action*',\n",
       " \"Player 0: Doesn't take any on a success\",\n",
       " 'Player 2: On a success you take half',\n",
       " 'Player 2: But the creature is now in the middle of the party',\n",
       " 'Player 2: Distance is melee with the whole party']"
      ]
     },
     "metadata": {},
     "output_type": "display_data"
    }
   ],
   "source": [
    "inspect(7)"
   ]
  },
  {
   "cell_type": "code",
   "execution_count": 12,
   "id": "6e342d75",
   "metadata": {},
   "outputs": [
    {
     "data": {
      "text/plain": [
       "'speaker_id:'"
      ]
     },
     "metadata": {},
     "output_type": "display_data"
    },
    {
     "data": {
      "text/plain": [
       "'257786900637828056'"
      ]
     },
     "metadata": {},
     "output_type": "display_data"
    },
    {
     "data": {
      "text/plain": [
       "'before_utterances:'"
      ]
     },
     "metadata": {},
     "output_type": "display_data"
    },
    {
     "data": {
      "text/plain": [
       "[]"
      ]
     },
     "metadata": {},
     "output_type": "display_data"
    },
    {
     "data": {
      "text/plain": [
       "'automation_results:'"
      ]
     },
     "metadata": {},
     "output_type": "display_data"
    },
    {
     "data": {
      "text/plain": [
       "['Orance attacks with a Handaxe!\\nOrance attacked SK4 and hit.\\nSK4 took 9 damage.']"
      ]
     },
     "metadata": {},
     "output_type": "display_data"
    },
    {
     "data": {
      "text/plain": [
       "'after_utterances:'"
      ]
     },
     "metadata": {},
     "output_type": "display_data"
    },
    {
     "data": {
      "text/plain": [
       "['with her two strikes combine it immediately and easily kill that skeleton down! Having it break apart from those bones snapped!']"
      ]
     },
     "metadata": {},
     "output_type": "display_data"
    },
    {
     "data": {
      "text/plain": [
       "'utterance_history:'"
      ]
     },
     "metadata": {},
     "output_type": "display_data"
    },
    {
     "data": {
      "text/plain": [
       "['Player 3: *swings again at SK3*',\n",
       " 'Fredbear (Zal 6)(Player 0 6): with one strike from her and the third skeleton is already down to the count!',\n",
       " 'Player 3: *She then moves to SK1*',\n",
       " \"Player 3: *She now prepares for SK1's possible shortbow attack*\",\n",
       " 'Fredbear (Zal 6)(Player 0 6): She then start to hit the skeleton with her shield as a way to punch that monster then go for a strike with her handaxe!']"
      ]
     },
     "metadata": {},
     "output_type": "display_data"
    }
   ],
   "source": [
    "inspect(45)"
   ]
  },
  {
   "cell_type": "code",
   "execution_count": 18,
   "id": "fa96c3c6",
   "metadata": {},
   "outputs": [
    {
     "data": {
      "text/plain": [
       "'speaker_id:'"
      ]
     },
     "metadata": {},
     "output_type": "display_data"
    },
    {
     "data": {
      "text/plain": [
       "'188139882851459209'"
      ]
     },
     "metadata": {},
     "output_type": "display_data"
    },
    {
     "data": {
      "text/plain": [
       "'before_utterances:'"
      ]
     },
     "metadata": {},
     "output_type": "display_data"
    },
    {
     "data": {
      "text/plain": [
       "['So anyone who passed just took 100', 'Who doesn’t have sanctuary on them']"
      ]
     },
     "metadata": {},
     "output_type": "display_data"
    },
    {
     "data": {
      "text/plain": [
       "'automation_results:'"
      ]
     },
     "metadata": {},
     "output_type": "display_data"
    },
    {
     "data": {
      "text/plain": [
       "['EM1 attacks with a Maul!\\nEM1 attacked Cathrine and hit.\\nCathrine took 20 damage.\\nCathrine rolled a Constitution save and succeeded.\\n\\nEM1 attacked Cathrine and hit.\\nCathrine took 22 damage.\\nCathrine rolled a Constitution save and succeeded.\\n\\nEM1 attacked Cathrine and hit.\\nCathrine took 26 damage.\\nCathrine rolled a Constitution save and succeeded.\\n\\nEM1 attacked Cathrine and hit.\\nCathrine took 20 damage.\\nCathrine rolled a Constitution save and succeeded.\\n\\nEM1 attacked Cathrine and hit.\\nCathrine took 21 damage.\\nCathrine rolled a Constitution save and succeeded.\\n']"
      ]
     },
     "metadata": {},
     "output_type": "display_data"
    },
    {
     "data": {
      "text/plain": [
       "'after_utterances:'"
      ]
     },
     "metadata": {},
     "output_type": "display_data"
    },
    {
     "data": {
      "text/plain": [
       "[]"
      ]
     },
     "metadata": {},
     "output_type": "display_data"
    },
    {
     "data": {
      "text/plain": [
       "'utterance_history:'"
      ]
     },
     "metadata": {},
     "output_type": "display_data"
    },
    {
     "data": {
      "text/plain": [
       "['Player 2: On a fail take 100 damage+half your maximum hit points in damage. On success only take 100',\n",
       " 'Player 2: The damage is magical bludgeoning',\n",
       " 'Player 5: BA cast sanctuary on Emi',\n",
       " 'Player 2: So anyone who passed just took 100',\n",
       " 'Player 2: Who doesn’t have sanctuary on them']"
      ]
     },
     "metadata": {},
     "output_type": "display_data"
    }
   ],
   "source": [
    "inspect(10)"
   ]
  }
 ],
 "metadata": {
  "kernelspec": {
   "display_name": "nlp",
   "language": "python",
   "name": "python3"
  },
  "language_info": {
   "codemirror_mode": {
    "name": "ipython",
    "version": 3
   },
   "file_extension": ".py",
   "mimetype": "text/x-python",
   "name": "python",
   "nbconvert_exporter": "python",
   "pygments_lexer": "ipython3",
   "version": "3.11.4"
  }
 },
 "nbformat": 4,
 "nbformat_minor": 5
}
