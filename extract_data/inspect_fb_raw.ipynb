{
 "cells": [
  {
   "cell_type": "code",
   "execution_count": 2,
   "id": "a89fae1b",
   "metadata": {},
   "outputs": [],
   "source": [
    "import pandas as pd\n",
    "import zipfile\n",
    "import os\n",
    "import gzip\n",
    "import shutil\n",
    "\n",
    "from tqdm import tqdm"
   ]
  },
  {
   "cell_type": "code",
   "execution_count": 3,
   "id": "3e47b3e0",
   "metadata": {},
   "outputs": [],
   "source": [
    "# unzip all file and save them in the new directory\n",
    "\n",
    "# unzip all files in the directory\n",
    "\n",
    "# loop through all files in the directory\n",
    "\n",
    "\n",
    "# input_dir = 'datasets/FIREBALL/data'\n",
    "# output_dir = 'datasets/FIREBALL/unfiltered_data'\n",
    "\n",
    "# os.makedirs(output_dir, exist_ok=True)\n",
    "\n",
    "# with os.scandir(input_dir) as data_dir:\n",
    "#     for idx, file in enumerate(tqdm(data_dir)):\n",
    "#         if file.name.endswith('.gz'):\n",
    "#             input_path = file.path\n",
    "#             output_path = os.path.join(output_dir,  f'{idx}.jsonl') \n",
    "\n",
    "#             with gzip.open(input_path, 'rb') as f_in:\n",
    "#                 with open(output_path, 'wb') as f_out:\n",
    "#                     shutil.copyfileobj(f_in, f_out)"
   ]
  },
  {
   "cell_type": "code",
   "execution_count": 4,
   "id": "fd30d3e2",
   "metadata": {},
   "outputs": [],
   "source": [
    "import pandas as pd\n",
    "import json\n",
    "\n",
    "def parse_jsonl(file_path):\n",
    "    data = []\n",
    "    try:\n",
    "        with open(file_path, \"r\") as f:\n",
    "            for line_number, line in enumerate(f, start=1):\n",
    "                line = line.strip()\n",
    "                if not line:\n",
    "                    continue  # emtpy line, \n",
    "                try:\n",
    "                    line_dict = json.loads(line)\n",
    "                    data.append(line_dict)\n",
    "                except json.JSONDecodeError as e:\n",
    "                    print(f\"Error decoding JSON on line {line_number}: {e}\")\n",
    "    except FileNotFoundError:\n",
    "        print(f\"File not found: {file_path}\")\n",
    "    except Exception as e:\n",
    "        print(f\"An unexpected error occurred: {e}\")\n",
    "    return data\n",
    "\n",
    "file_path = \"datasets/FIREBALL/unfiltered_data/10.jsonl\"\n",
    "\n",
    "data = parse_jsonl(file_path)\n",
    "\n",
    "if data:\n",
    "    df = pd.DataFrame(data)\n",
    "    # print(df.head())\n",
    "else:\n",
    "    print(\"No valid data found in the file.\")"
   ]
  },
  {
   "cell_type": "code",
   "execution_count": 5,
   "id": "acd7f665",
   "metadata": {},
   "outputs": [
    {
     "data": {
      "text/plain": [
       "combat_id          1653862941-dcfb4c8f-dc3e-4247-a564-45e1ab536dac\n",
       "event_type                                            combat_start\n",
       "timestamp                                        1653862941.295672\n",
       "message_id                                                     NaN\n",
       "author_id                                                      NaN\n",
       "author_name                                                    NaN\n",
       "created_at                                                     NaN\n",
       "content                                                        NaN\n",
       "embeds                                                         NaN\n",
       "components                                                     NaN\n",
       "data                                                           NaN\n",
       "human_readable                                                 NaN\n",
       "prefix                                                         NaN\n",
       "command_name                                                   NaN\n",
       "called_by_alias                                                NaN\n",
       "caster                                                         NaN\n",
       "targets                                                        NaN\n",
       "Name: 7, dtype: object"
      ]
     },
     "execution_count": 5,
     "metadata": {},
     "output_type": "execute_result"
    }
   ],
   "source": [
    "df.iloc[7]\n"
   ]
  },
  {
   "cell_type": "code",
   "execution_count": 6,
   "id": "9130b6c1",
   "metadata": {},
   "outputs": [
    {
     "data": {
      "text/plain": [
       "event_type\n",
       "message                427\n",
       "command                 89\n",
       "combat_state_update     52\n",
       "combat_start             1\n",
       "combat_end               1\n",
       "Name: count, dtype: int64"
      ]
     },
     "execution_count": 6,
     "metadata": {},
     "output_type": "execute_result"
    }
   ],
   "source": [
    "df['event_type'].value_counts() "
   ]
  },
  {
   "cell_type": "code",
   "execution_count": 7,
   "id": "af4aa8a8",
   "metadata": {},
   "outputs": [
    {
     "data": {
      "text/plain": [
       "author_name\n",
       "Player 4    209\n",
       "Player 2    135\n",
       "Avrae       112\n",
       "Player 0     15\n",
       "Player 6     13\n",
       "Player 7     12\n",
       "Player 5      7\n",
       "Player 8      6\n",
       "Player 9      6\n",
       "Player 1      1\n",
       "Name: count, dtype: int64"
      ]
     },
     "execution_count": 7,
     "metadata": {},
     "output_type": "execute_result"
    }
   ],
   "source": [
    "df.author_name.value_counts()"
   ]
  },
  {
   "cell_type": "code",
   "execution_count": 8,
   "id": "6f63f655",
   "metadata": {},
   "outputs": [],
   "source": [
    "def inspect(i):\n",
    "    row = df.iloc[i]\n",
    "    print('event_type:', row.event_type)\n",
    "    print('author_name:', row.author_name)\n",
    "    print('content:', row.content)\n",
    "    print('embeds:', row.embeds)\n",
    "    print('human_readable:', row.human_readable)"
   ]
  },
  {
   "cell_type": "code",
   "execution_count": 10,
   "id": "e93821dc",
   "metadata": {},
   "outputs": [
    {
     "name": "stdout",
     "output_type": "stream",
     "text": [
      "event_type: combat_state_update\n",
      "author_name: nan\n",
      "content: nan\n",
      "embeds: nan\n",
      "human_readable: ```md\n",
      "Current initiative: 14 (round 1)\n",
      "================================\n",
      "# 14: Jaguar <81/81 HP> (AC 15, Bless [9 rounds], Blessed [9 rounds], Guiding Shot [2 rounds])\n",
      "  11: Zenthaea <57/92 HP> (AC 21, Mirror Image One [10 rounds], Mirror Image Two [10 rounds], Mirror Image Three [10 rounds], Enlarge/Reduce [10 rounds], Enlarged/Reduced [10 rounds], Guiding Bolt [2 rounds])```\n"
     ]
    }
   ],
   "source": [
    "inspect(59)"
   ]
  }
 ],
 "metadata": {
  "kernelspec": {
   "display_name": "nlp",
   "language": "python",
   "name": "python3"
  },
  "language_info": {
   "codemirror_mode": {
    "name": "ipython",
    "version": 3
   },
   "file_extension": ".py",
   "mimetype": "text/x-python",
   "name": "python",
   "nbconvert_exporter": "python",
   "pygments_lexer": "ipython3",
   "version": "3.11.4"
  }
 },
 "nbformat": 4,
 "nbformat_minor": 5
}
