{
 "cells": [
  {
   "cell_type": "markdown",
   "id": "20ea2803",
   "metadata": {},
   "source": [
    "# Chat With Tools"
   ]
  },
  {
   "cell_type": "code",
   "execution_count": null,
   "id": "29071199",
   "metadata": {},
   "outputs": [
    {
     "name": "stderr",
     "output_type": "stream",
     "text": [
      "/home/yuaylong/miniconda3/envs/nlp/lib/python3.12/site-packages/huggingface_hub/utils/_deprecation.py:131: FutureWarning: '__init_subclass__' (from 'transformers.agents.tools') is deprecated and will be removed from version '4.51.0'. Switch to smolagents instead, with the same functionalities and similar API (https://huggingface.co/docs/smolagents/index)\n",
      "  warnings.warn(warning_message, FutureWarning)\n"
     ]
    }
   ],
   "source": [
    "import torch\n",
    "\n",
    "from transformers import AutoModelForCausalLM, AutoTokenizer, pipeline\n",
    "\n",
    "from langchain_community.vectorstores import FAISS\n",
    "from langchain_huggingface import HuggingFacePipeline, HuggingFaceEmbeddings, ChatHuggingFace\n",
    "from langchain.tools import tool\n",
    "\n",
    "from langchain.schema import AIMessage, HumanMessage\n",
    "from langchain_core.messages import SystemMessage, AnyMessage\n",
    "from langchain_core.output_parsers import JsonOutputParser\n",
    "from langchain_core.runnables import RunnableConfig, Runnable\n",
    "from langchain_core.tools import BaseTool\n",
    "from langchain_core.utils.function_calling import convert_to_openai_tool\n",
    "\n",
    "from langgraph.graph import START, END, StateGraph, MessagesState\n",
    "from langgraph.graph.message import add_messages\n",
    "\n",
    "from typing import Annotated, Any, Dict, Optional, TypedDict, Union, List\n",
    "from lightning import Fabric\n",
    "\n",
    "from IPython.display import display, Markdown, Image, SVG\n",
    "from os import walk"
   ]
  },
  {
   "cell_type": "markdown",
   "id": "fd806861",
   "metadata": {},
   "source": [
    "### Set mixed precision"
   ]
  },
  {
   "cell_type": "code",
   "execution_count": 2,
   "id": "c2463854",
   "metadata": {},
   "outputs": [
    {
     "name": "stderr",
     "output_type": "stream",
     "text": [
      "Using bfloat16 Automatic Mixed Precision (AMP)\n"
     ]
    }
   ],
   "source": [
    "torch.set_float32_matmul_precision(\"medium\")\n",
    "fabric = Fabric(accelerator=\"cuda\", devices=1, precision=\"bf16-mixed\")\n",
    "device = fabric.device\n",
    "fabric.launch()"
   ]
  },
  {
   "cell_type": "markdown",
   "id": "fcc9f613",
   "metadata": {},
   "source": [
    "## RAG"
   ]
  },
  {
   "cell_type": "markdown",
   "id": "a52614d3",
   "metadata": {},
   "source": [
    "### Load Embedding Data"
   ]
  },
  {
   "cell_type": "code",
   "execution_count": 3,
   "id": "51f3676e",
   "metadata": {},
   "outputs": [],
   "source": [
    "embed_model_name = \"sentence-transformers/all-mpnet-base-v2\"\n",
    "\n",
    "embeddings = HuggingFaceEmbeddings(model_name=embed_model_name)"
   ]
  },
  {
   "cell_type": "markdown",
   "id": "f9100489",
   "metadata": {},
   "source": [
    "### Load vector store"
   ]
  },
  {
   "cell_type": "code",
   "execution_count": 4,
   "id": "9f30b2ba",
   "metadata": {},
   "outputs": [],
   "source": [
    "vector_store = FAISS.load_local(\n",
    "    \"./faiss_spell_index\",\n",
    "    embeddings=embeddings,\n",
    "    allow_dangerous_deserialization=True\n",
    ")\n",
    "retriever = vector_store.as_retriever()"
   ]
  },
  {
   "cell_type": "markdown",
   "id": "a2efde47",
   "metadata": {},
   "source": [
    "## Functions"
   ]
  },
  {
   "cell_type": "code",
   "execution_count": 5,
   "id": "dd857be0",
   "metadata": {},
   "outputs": [],
   "source": [
    "@tool\n",
    "def spell_retrieve(query: str) -> str:\n",
    "    \"\"\"Retrieve information about dungeons and dragons spell.\n",
    "    \n",
    "    Args:\n",
    "        query (str): The spell name to search for.\n",
    "\n",
    "    Returns:\n",
    "        str: The spell information.\n",
    "    \"\"\"\n",
    "    retrieved_docs = vector_store.similarity_search(query, k=3)\n",
    "\n",
    "    contents = \"\\n\\n\".join(\n",
    "        (f\"{doc.page_content}\")\n",
    "        for doc in retrieved_docs\n",
    "    )\n",
    "    \n",
    "    return contents\n",
    "\n",
    "@tool\n",
    "def user(name: str) -> str:\n",
    "    \"\"\"\n",
    "    User infomation retreiver\n",
    "\n",
    "    Args:\n",
    "        name (str): The name of user.\n",
    "\n",
    "    Returns:\n",
    "        str: The user information.\n",
    "    \"\"\"\n",
    "    return f'Hi, {name}.'\n",
    "\n",
    "tools = [\n",
    "    spell_retrieve,\n",
    "    user\n",
    "]"
   ]
  },
  {
   "cell_type": "markdown",
   "id": "b6bb85cf",
   "metadata": {},
   "source": [
    "## Workflow\n",
    "\n",
    "```\n",
    "[User Message] \n",
    "     ↓\n",
    "[xLAM-2] → [Check if Tool Call is Required] \n",
    "     ├── No → [Return to Llama 3 with \"No tool needed\"]\n",
    "     └── Yes → [Detect Tool to Call] → [Prepare Structured Tool Call] → [Execute Tool] → [Send Result to Llama 3]\n",
    "                          ↓\n",
    "               [Llama 3] → [Generate Final Natural Reply]\n",
    "     ↓\n",
    "[Final reply to User]\n",
    "```"
   ]
  },
  {
   "cell_type": "markdown",
   "id": "cb5e4861",
   "metadata": {},
   "source": [
    "## Custom Sate"
   ]
  },
  {
   "cell_type": "code",
   "execution_count": 6,
   "id": "53a248c6",
   "metadata": {},
   "outputs": [],
   "source": [
    "class State(TypedDict):\n",
    "    name: str\n",
    "    messages: Annotated[list[AnyMessage], add_messages]\n",
    "    context: str"
   ]
  },
  {
   "cell_type": "markdown",
   "id": "905fe375",
   "metadata": {},
   "source": [
    "## Tool Calling Class"
   ]
  },
  {
   "cell_type": "code",
   "execution_count": 7,
   "id": "af54df93",
   "metadata": {},
   "outputs": [],
   "source": [
    "class ToolCallRequest(TypedDict):\n",
    "    \"\"\"A typed dict that shows the inputs into the invoke_tool function.\"\"\"\n",
    "\n",
    "    name: str\n",
    "    arguments: Dict[str, Any]"
   ]
  },
  {
   "cell_type": "code",
   "execution_count": 8,
   "id": "909ac8c5",
   "metadata": {},
   "outputs": [],
   "source": [
    "class ToolCalling():\n",
    "    def __init__(self, model_name: str, tools: list[BaseTool]):\n",
    "        self.model_name = model_name\n",
    "        self.tokenizer = AutoTokenizer.from_pretrained(model_name)\n",
    "        self.model = AutoModelForCausalLM.from_pretrained(model_name, torch_dtype=torch.bfloat16, device_map=\"cpu\")\n",
    "        self.pipe = pipeline(\n",
    "            task=\"text-generation\",\n",
    "            model=self.model,\n",
    "            tokenizer=self.tokenizer,\n",
    "            return_full_text=False,\n",
    "            max_new_tokens=512,\n",
    "            top_k=10,\n",
    "            device_map=\"auto\"\n",
    "        )\n",
    "        self._llm = HuggingFacePipeline(pipeline=self.pipe)\n",
    "        self.chat = ChatHuggingFace(llm=self._llm, tokenizer=self.tokenizer)\n",
    "        self.rendered_tools = [convert_to_openai_tool(f) for f in tools]\n",
    "\n",
    "    def invoke_tool(\n",
    "            self,\n",
    "            tool_call_request: Union[ToolCallRequest, List[ToolCallRequest]], \n",
    "            config: Optional[RunnableConfig] = None\n",
    "    ):\n",
    "        \"\"\"A function that we can use the perform a tool invocation.\n",
    "\n",
    "        Args:\n",
    "            tool_call_request: a dict that contains the keys name and arguments.\n",
    "                The name must match the name of a tool that exists.\n",
    "                The arguments are the arguments to that tool.\n",
    "            config: This is configuration information that LangChain uses that contains\n",
    "                things like callbacks, metadata, etc.See LCEL documentation about RunnableConfig.\n",
    "\n",
    "        Returns:\n",
    "            output from the requested tool\n",
    "        \"\"\"\n",
    "\n",
    "        print(\"Tool call request:\", tool_call_request)\n",
    "        \n",
    "        # Sometimes the model outputs a list of tool call requests, \n",
    "        # so I loop each tool call and append to list\n",
    "        \n",
    "        if isinstance(tool_call_request, list):\n",
    "            output = list()\n",
    "\n",
    "            for tool_call in tool_call_request:\n",
    "                tool_name_to_tool = {tool.name: tool for tool in tools}\n",
    "                name = tool_call[\"name\"]\n",
    "                requested_tool = tool_name_to_tool[name]\n",
    "                output.append(requested_tool.invoke(tool_call[\"arguments\"], config=config))\n",
    "            return output\n",
    "        \n",
    "        tool_name_to_tool = {tool.name: tool for tool in tools}\n",
    "        name = tool_call_request[\"name\"]\n",
    "        requested_tool = tool_name_to_tool[name]\n",
    "        return requested_tool.invoke(tool_call_request[\"arguments\"], config=config)\n",
    "    \n",
    "    def invoke(self, state: State) -> List[str]:\n",
    "        system_prompt = SystemMessage(f\"\"\"\\\n",
    "        You are an assistant that has access to the following set of tools. \n",
    "        Here are the names and descriptions for each tool:\n",
    "\n",
    "        {self.rendered_tools}\n",
    "\n",
    "        Given the user input, return the name and input of the tool to use. \n",
    "        Return your response as a JSON blob with 'name' and 'arguments' keys.\n",
    "\n",
    "        The `arguments` should be a dictionary, with keys corresponding \n",
    "        to the argument names and the values corresponding to the requested values.\n",
    "        \"\"\")\n",
    "\n",
    "        chain = self.chat | JsonOutputParser() | self.invoke_tool\n",
    "        messages = [system_prompt] + [state['messages'][-1]]\n",
    "\n",
    "        try:\n",
    "            response = chain.invoke(messages)\n",
    "        except Exception as e:\n",
    "            print(\"Error invoking tool:\", e)\n",
    "            response = [\"No tool needed\"]\n",
    "\n",
    "        if not response:\n",
    "            response = [\"No tool needed\"]\n",
    "        \n",
    "        return {\"context\": AIMessage(response)}"
   ]
  },
  {
   "cell_type": "markdown",
   "id": "b7ece929",
   "metadata": {},
   "source": [
    "### ToolCalling Class Usage"
   ]
  },
  {
   "cell_type": "code",
   "execution_count": 9,
   "id": "83203c87",
   "metadata": {},
   "outputs": [
    {
     "data": {
      "application/vnd.jupyter.widget-view+json": {
       "model_id": "6112af57f7bd4792abd24fc7a54ee52c",
       "version_major": 2,
       "version_minor": 0
      },
      "text/plain": [
       "Loading checkpoint shards:   0%|          | 0/4 [00:00<?, ?it/s]"
      ]
     },
     "metadata": {},
     "output_type": "display_data"
    },
    {
     "name": "stderr",
     "output_type": "stream",
     "text": [
      "Device set to use cpu\n"
     ]
    }
   ],
   "source": [
    "tool_calling_model_name = \"Salesforce/Llama-xLAM-2-8b-fc-r\"\n",
    "\n",
    "tool_calling = ToolCalling(\n",
    "    model_name=tool_calling_model_name,\n",
    "    tools=tools\n",
    ")"
   ]
  },
  {
   "cell_type": "code",
   "execution_count": 10,
   "id": "a07f6b1c",
   "metadata": {},
   "outputs": [
    {
     "data": {
      "image/png": "[encoded data removed]",
      "text/plain": [
       "<IPython.core.display.Image object>"
      ]
     },
     "metadata": {},
     "output_type": "display_data"
    },
    {
     "name": "stdout",
     "output_type": "stream",
     "text": [
      "Tool call request: [{'name': 'spell_retrieve', 'arguments': {'query': 'Fireball'}}]\n"
     ]
    },
    {
     "data": {
      "text/plain": [
       "{'name': 'player_3',\n",
       " 'messages': [HumanMessage(content='<|start_header_id|>player_3<|end_header_id|>\\nWould you like me to cast Fireball?<|eot_id|>', additional_kwargs={}, response_metadata={}, id='93d70794-949a-4b34-89b2-63ed6476aecf')],\n",
       " 'context': AIMessage(content=[\"# Fireball\\n## Spell Name\\nFireball  \\nFrom Player's Handbook, page 241.\\n## Description\\n![](https://static.wikia.nocookie.net/dnd-5e/images/a/ae/Fireball.png/revision/latest/scale-to-width-down/235?cb=20221208110401)\\n![](https://static.wikia.nocookie.net/dnd-5e/images/a/ae/Fireball.png/revision/latest/scale-to-width-down/235?cb=20221208110401)  \\n*3rd-level evocation*\\n* **Casting Time:** 1 action\\n* **Range:** 150 feet\\n* **Components:** V, S, M (a tiny ball of bat guano and sulfur)\\n* **Duration:** Instantaneous\\n\\n**Components:**\\n- **Duration:** Concentration, up to 1 minute\\n**Duration:**\\nA 5-foot-diameter sphere of fire appears in an unoccupied space of your choice within range and lasts for the duration. Any creature that ends its turn within 5 feet of the sphere must make a Dexterity saving throw. The creature takes 2d6 fire damage on a failed save, or half as much damage on a successful one.\\n\\n# Delayed Blast Fireball\\n## Spell Name\\nDelayed Blast Fireball  \\nFrom Player's Handbook, page 230.\\n## Description\\n*7th-level evocation*\\n* **Casting Time:** 1 action\\n* **Range:** 150 feet\\n* **Components:** V, S, M (a tiny ball of bat guano and sulfur)\\n* **Duration:** Concentration, up to 1 minute\\n- **Casting Time:** 1 action\\n**Casting Time:**\\n- **Range:** 150 feet\\n**Range:**\\n- **Components:** V, S, M (a tiny ball of bat guano and sulfur)\\n**Components:**\\n- **Duration:** Concentration, up to 1 minute\"], additional_kwargs={}, response_metadata={})}"
      ]
     },
     "execution_count": 10,
     "metadata": {},
     "output_type": "execute_result"
    }
   ],
   "source": [
    "def tool(state: State) -> str:\n",
    "    return tool_calling.invoke(state)\n",
    "\n",
    "graph = StateGraph(State)\n",
    "graph.add_edge(START, \"tool call\")\n",
    "graph.add_node(\"tool call\", tool)\n",
    "graph.add_edge(\"tool call\", END)\n",
    "\n",
    "graph = graph.compile()\n",
    "\n",
    "try:\n",
    "    display(Image(graph.get_graph().draw_mermaid_png()))\n",
    "except Exception:\n",
    "    pass\n",
    "\n",
    "input_message = {\n",
    "    \"name\": \"player_3\",\n",
    "    \"messages\": [HumanMessage(content=\"<|start_header_id|>player_3<|end_header_id|>\\nWould you like me to cast Fireball?<|eot_id|>\")],\n",
    "    \"context\": \"\"\n",
    "}\n",
    "\n",
    "graph.invoke(input_message)"
   ]
  },
  {
   "cell_type": "markdown",
   "id": "60520439",
   "metadata": {},
   "source": [
    "## Llama-3 Chat Class"
   ]
  },
  {
   "cell_type": "code",
   "execution_count": 11,
   "id": "5a0b8be5",
   "metadata": {},
   "outputs": [],
   "source": [
    "class LlamaChat():\n",
    "    def __init__(self, model_name: str):\n",
    "        self.model_name = model_name\n",
    "        self.tokenizer = AutoTokenizer.from_pretrained(model_name)\n",
    "        self.model = AutoModelForCausalLM.from_pretrained(model_name, torch_dtype=torch.bfloat16, load_in_4bit=True)\n",
    "        self.pipe = pipeline(\n",
    "            task=\"text-generation\",\n",
    "            model=self.model,\n",
    "            tokenizer=self.tokenizer,\n",
    "            return_full_text=False,\n",
    "            max_new_tokens=2048,\n",
    "            top_k=10,\n",
    "            device_map=\"auto\"\n",
    "        )\n",
    "        self._llm = HuggingFacePipeline(pipeline=self.pipe)\n",
    "        self.chat = ChatHuggingFace(llm=self._llm, tokenizer=self.tokenizer)\n",
    "\n",
    "    def generate(self, state: State) -> Dict[str, Any]:\n",
    "        system_message_content = (\n",
    "            \"<|start_header_id|>system<|end_header_id|>\\n\"\n",
    "            \"In a text-based adventure (Dungeons and Dragons), your job is to narrate the adventure \"\n",
    "            \"and respond to the player's actions.\\n\"\n",
    "            \"Use the following pieces of retrieved context to answer the question.\\n\"\n",
    "            \"If you don't know the answer, say i dont know.\"\n",
    "            \"If the player breaks the game rules, \"\n",
    "            \"notify the player.\\n\"\n",
    "            \"This is the retrieved context:\\n\\n\"\n",
    "            f\"{state['context']}\\n\\n\"\n",
    "            \"When you answer the player, you must respond in proper markdown format: heading, table, bold, italic, paragraph, blockquotes.\\n\"\n",
    "        )\n",
    "\n",
    "        print('State:', state)\n",
    "        print('Context:', state[\"context\"])\n",
    "        print('Generating response ...')\n",
    "\n",
    "        conversation_messages = [\n",
    "            message\n",
    "            for message in state[\"messages\"]\n",
    "            if message.type in (\"human\", \"system\")\n",
    "            or (message.type == \"ai\" and not message.tool_calls)\n",
    "        ]\n",
    "\n",
    "        prompt = [SystemMessage(system_message_content)] + conversation_messages\n",
    "\n",
    "        response = self.chat.invoke(prompt)\n",
    "        \n",
    "        return {\"messages\": [response]}"
   ]
  },
  {
   "cell_type": "markdown",
   "id": "2ee396ba",
   "metadata": {},
   "source": [
    "### LlamaChat Class Usage"
   ]
  },
  {
   "cell_type": "code",
   "execution_count": 12,
   "id": "3c3d8fcd",
   "metadata": {},
   "outputs": [
    {
     "name": "stderr",
     "output_type": "stream",
     "text": [
      "The `load_in_4bit` and `load_in_8bit` arguments are deprecated and will be removed in the future versions. Please, pass a `BitsAndBytesConfig` object in `quantization_config` argument instead.\n"
     ]
    },
    {
     "data": {
      "application/vnd.jupyter.widget-view+json": {
       "model_id": "540763e020d143a1988b3d2f7f7338af",
       "version_major": 2,
       "version_minor": 0
      },
      "text/plain": [
       "Loading checkpoint shards:   0%|          | 0/4 [00:00<?, ?it/s]"
      ]
     },
     "metadata": {},
     "output_type": "display_data"
    },
    {
     "name": "stderr",
     "output_type": "stream",
     "text": [
      "Device set to use cuda:0\n"
     ]
    }
   ],
   "source": [
    "llama_model_name = \"meta-llama/Meta-Llama-3-8B-Instruct\"\n",
    "\n",
    "llama = LlamaChat(model_name=llama_model_name)"
   ]
  },
  {
   "cell_type": "code",
   "execution_count": 13,
   "id": "7ae600af",
   "metadata": {},
   "outputs": [
    {
     "name": "stderr",
     "output_type": "stream",
     "text": [
      "Setting `pad_token_id` to `eos_token_id`:128001 for open-end generation.\n"
     ]
    },
    {
     "name": "stdout",
     "output_type": "stream",
     "text": [
      "State: {'name': 'player_1', 'messages': [HumanMessage(content='<|start_header_id|>player_3<|end_header_id|>\\nWould you like me to cast Fireball?<|eot_id|>', additional_kwargs={}, response_metadata={})], 'context': 'You are inside a dark dungeon filled with goblins. Fireball is a high-damage spell.'}\n",
      "Context: You are inside a dark dungeon filled with goblins. Fireball is a high-damage spell.\n",
      "Generating response ...\n",
      "{'messages': [AIMessage(content=\"**What's the situation?**\\nYou're currently standing in a dark dungeon, surrounded by goblins. You've got your trusty spellbook and a few spells up your sleeve. The goblins are closing in, and you need to decide what to do next.\\n\\n**What's your current situation?**\\n\\n| **Health** | **Mana** | **Location** |\\n| --- | --- | --- |\\n| 100 | 80 | Dark Dungeon |\\n\\n**What do you want to do?**\\n\\nYou can cast Fireball, but keep in mind it'll use up a lot of mana and might not be the most strategic choice in this situation. What's your move?\", additional_kwargs={}, response_metadata={}, id='run-990ff8a8-6907-4e29-bd1a-e38f945e51fd-0')]}\n"
     ]
    }
   ],
   "source": [
    "prompt = (\n",
    "            \"<|start_header_id|>system<|end_header_id|>\\n\"\n",
    "            \"You are tasked with generating a relevant command for a tool-calling model.\\n\" \\\n",
    "            \"Your answer should be a simple sentence.\\n\" \\\n",
    "        )\n",
    "text = \"<|start_header_id|>player_3<|end_header_id|>\\nWould you like me to cast Fireball?<|eot_id|>\"\n",
    "\n",
    "input_state = {\n",
    "    \"name\": \"player_1\",\n",
    "    \"messages\": [\n",
    "        HumanMessage(content=text)\n",
    "    ],\n",
    "    \"context\": \"You are inside a dark dungeon filled with goblins. Fireball is a high-damage spell.\"\n",
    "}\n",
    "\n",
    "response = llama.generate(state=input_state)\n",
    "print(response)"
   ]
  },
  {
   "cell_type": "markdown",
   "id": "d21519ef",
   "metadata": {},
   "source": [
    "## LangGraph Demo"
   ]
  },
  {
   "cell_type": "code",
   "execution_count": 16,
   "id": "3bf6853e",
   "metadata": {},
   "outputs": [
    {
     "data": {
      "image/png": "[encoded data removed]",
      "text/plain": [
       "<IPython.core.display.Image object>"
      ]
     },
     "metadata": {},
     "output_type": "display_data"
    }
   ],
   "source": [
    "def tool(state: State):\n",
    "    return tool_calling.invoke(state)\n",
    "\n",
    "def chatbot(state: State) -> str:\n",
    "    return llama.generate(state=state)\n",
    "\n",
    "graph = StateGraph(State)\n",
    "\n",
    "graph.add_edge(START, \"tool call\")\n",
    "graph.add_node(\"tool call\", tool)\n",
    "\n",
    "graph.add_edge(\"tool call\", \"chatbot\")\n",
    "\n",
    "graph.add_node(\"chatbot\", chatbot)\n",
    "graph.add_edge(\"chatbot\", END)\n",
    "\n",
    "graph = graph.compile()\n",
    "\n",
    "try:\n",
    "    display(Image(graph.get_graph().draw_mermaid_png()))\n",
    "except Exception:\n",
    "    pass"
   ]
  },
  {
   "cell_type": "code",
   "execution_count": null,
   "id": "9c77b85d",
   "metadata": {},
   "outputs": [
    {
     "name": "stderr",
     "output_type": "stream",
     "text": [
      "Setting `pad_token_id` to `eos_token_id`:128001 for open-end generation.\n"
     ]
    },
    {
     "name": "stdout",
     "output_type": "stream",
     "text": [
      "Tool call request: [{'name': 'spell_retrieve', 'arguments': {'query': 'Fireball'}}]\n",
      "State: {'name': 'player_1', 'messages': [HumanMessage(content='<|start_header_id|>player_3<|end_header_id|>\\nWould you like me to cast Fireball?<|eot_id|>', additional_kwargs={}, response_metadata={}, id='c4192f88-1b49-43fc-a2b5-37f209b27997')], 'context': AIMessage(content=[\"# Fireball\\n## Spell Name\\nFireball  \\nFrom Player's Handbook, page 241.\\n## Description\\n![](https://static.wikia.nocookie.net/dnd-5e/images/a/ae/Fireball.png/revision/latest/scale-to-width-down/235?cb=20221208110401)\\n![](https://static.wikia.nocookie.net/dnd-5e/images/a/ae/Fireball.png/revision/latest/scale-to-width-down/235?cb=20221208110401)  \\n*3rd-level evocation*\\n* **Casting Time:** 1 action\\n* **Range:** 150 feet\\n* **Components:** V, S, M (a tiny ball of bat guano and sulfur)\\n* **Duration:** Instantaneous\\n\\n**Components:**\\n- **Duration:** Concentration, up to 1 minute\\n**Duration:**\\nA 5-foot-diameter sphere of fire appears in an unoccupied space of your choice within range and lasts for the duration. Any creature that ends its turn within 5 feet of the sphere must make a Dexterity saving throw. The creature takes 2d6 fire damage on a failed save, or half as much damage on a successful one.\\n\\n# Delayed Blast Fireball\\n## Spell Name\\nDelayed Blast Fireball  \\nFrom Player's Handbook, page 230.\\n## Description\\n*7th-level evocation*\\n* **Casting Time:** 1 action\\n* **Range:** 150 feet\\n* **Components:** V, S, M (a tiny ball of bat guano and sulfur)\\n* **Duration:** Concentration, up to 1 minute\\n- **Casting Time:** 1 action\\n**Casting Time:**\\n- **Range:** 150 feet\\n**Range:**\\n- **Components:** V, S, M (a tiny ball of bat guano and sulfur)\\n**Components:**\\n- **Duration:** Concentration, up to 1 minute\"], additional_kwargs={}, response_metadata={})}\n",
      "Context: content=[\"# Fireball\\n## Spell Name\\nFireball  \\nFrom Player's Handbook, page 241.\\n## Description\\n![](https://static.wikia.nocookie.net/dnd-5e/images/a/ae/Fireball.png/revision/latest/scale-to-width-down/235?cb=20221208110401)\\n![](https://static.wikia.nocookie.net/dnd-5e/images/a/ae/Fireball.png/revision/latest/scale-to-width-down/235?cb=20221208110401)  \\n*3rd-level evocation*\\n* **Casting Time:** 1 action\\n* **Range:** 150 feet\\n* **Components:** V, S, M (a tiny ball of bat guano and sulfur)\\n* **Duration:** Instantaneous\\n\\n**Components:**\\n- **Duration:** Concentration, up to 1 minute\\n**Duration:**\\nA 5-foot-diameter sphere of fire appears in an unoccupied space of your choice within range and lasts for the duration. Any creature that ends its turn within 5 feet of the sphere must make a Dexterity saving throw. The creature takes 2d6 fire damage on a failed save, or half as much damage on a successful one.\\n\\n# Delayed Blast Fireball\\n## Spell Name\\nDelayed Blast Fireball  \\nFrom Player's Handbook, page 230.\\n## Description\\n*7th-level evocation*\\n* **Casting Time:** 1 action\\n* **Range:** 150 feet\\n* **Components:** V, S, M (a tiny ball of bat guano and sulfur)\\n* **Duration:** Concentration, up to 1 minute\\n- **Casting Time:** 1 action\\n**Casting Time:**\\n- **Range:** 150 feet\\n**Range:**\\n- **Components:** V, S, M (a tiny ball of bat guano and sulfur)\\n**Components:**\\n- **Duration:** Concentration, up to 1 minute\"] additional_kwargs={} response_metadata={}\n",
      "Generating response ...\n"
     ]
    }
   ],
   "source": [
    "text = \"<|start_header_id|>player_3<|end_header_id|>\\nWould you like me to cast Fireball?<|eot_id|>\"\n",
    "\n",
    "input_state = {\n",
    "    \"name\": \"player_1\",\n",
    "    \"messages\": [\n",
    "        HumanMessage(content=text)\n",
    "    ],\n",
    "    \"context\": \"\"\n",
    "}\n",
    "\n",
    "response = graph.invoke(input_state)"
   ]
  },
  {
   "cell_type": "code",
   "execution_count": 21,
   "id": "cf3c2d8e",
   "metadata": {},
   "outputs": [
    {
     "data": {
      "text/plain": [
       "\"**What is your target for the Fireball spell?**\\nYou're considering casting Fireball! That's a powerful spell that can deal significant damage to your enemies. Before you cast it, you need to decide where to aim it.\\n\\nYou can specify a location, a creature, or a group of creatures within the 150-foot range. Keep in mind that the spell's effects will be instantaneous, so choose wisely!\""
      ]
     },
     "execution_count": 21,
     "metadata": {},
     "output_type": "execute_result"
    }
   ],
   "source": [
    "response['messages'][-1].content"
   ]
  },
  {
   "cell_type": "code",
   "execution_count": null,
   "id": "b49b16f6",
   "metadata": {},
   "outputs": [],
   "source": []
  }
 ],
 "metadata": {
  "kernelspec": {
   "display_name": "nlp",
   "language": "python",
   "name": "python3"
  },
  "language_info": {
   "codemirror_mode": {
    "name": "ipython",
    "version": 3
   },
   "file_extension": ".py",
   "mimetype": "text/x-python",
   "name": "python",
   "nbconvert_exporter": "python",
   "pygments_lexer": "ipython3",
   "version": "3.12.9"
  }
 },
 "nbformat": 4,
 "nbformat_minor": 5
}
