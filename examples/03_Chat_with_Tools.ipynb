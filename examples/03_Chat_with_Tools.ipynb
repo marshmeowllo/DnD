{
 "cells": [
  {
   "cell_type": "markdown",
   "id": "20ea2803",
   "metadata": {},
   "source": [
    "# Chat With Tools"
   ]
  },
  {
   "cell_type": "code",
   "execution_count": 1,
   "id": "29071199",
   "metadata": {},
   "outputs": [],
   "source": [
    "import torch\n",
    "import uuid\n",
    "import pandas as pd\n",
    "import numpy as np\n",
    "import matplotlib.pyplot as plt\n",
    "\n",
    "from transformers import AutoModelForCausalLM, AutoTokenizer, pipeline\n",
    "\n",
    "from langchain_community.vectorstores import FAISS\n",
    "from langchain_huggingface import HuggingFacePipeline, HuggingFaceEmbeddings, ChatHuggingFace\n",
    "from langchain.tools import tool\n",
    "\n",
    "from langchain.schema import AIMessage, HumanMessage\n",
    "from langchain_core.messages import SystemMessage, AnyMessage\n",
    "from langchain_core.output_parsers import JsonOutputParser\n",
    "from langchain_core.runnables import RunnableConfig, Runnable\n",
    "from langchain_core.tools import BaseTool\n",
    "from langchain_core.utils.function_calling import convert_to_openai_tool\n",
    "\n",
    "from langgraph.graph import START, END, StateGraph, MessagesState\n",
    "from langgraph.graph.message import add_messages\n",
    "from langgraph.checkpoint.memory import MemorySaver\n",
    "\n",
    "from typing import Annotated, Any, Dict, Optional, TypedDict, Union, List\n",
    "from lightning import Fabric\n",
    "\n",
    "from IPython.display import display, Markdown, Image, SVG\n",
    "from os import walk"
   ]
  },
  {
   "cell_type": "markdown",
   "id": "fd806861",
   "metadata": {},
   "source": [
    "### Set mixed precision"
   ]
  },
  {
   "cell_type": "code",
   "execution_count": 2,
   "id": "c2463854",
   "metadata": {},
   "outputs": [
    {
     "name": "stderr",
     "output_type": "stream",
     "text": [
      "Using bfloat16 Automatic Mixed Precision (AMP)\n"
     ]
    }
   ],
   "source": [
    "torch.set_float32_matmul_precision(\"medium\")\n",
    "fabric = Fabric(accelerator=\"cuda\", devices=1, precision=\"bf16-mixed\")\n",
    "device = fabric.device\n",
    "fabric.launch()"
   ]
  },
  {
   "cell_type": "markdown",
   "id": "fcc9f613",
   "metadata": {},
   "source": [
    "## RAG"
   ]
  },
  {
   "cell_type": "markdown",
   "id": "a52614d3",
   "metadata": {},
   "source": [
    "### Load Embedding Data"
   ]
  },
  {
   "cell_type": "code",
   "execution_count": 3,
   "id": "51f3676e",
   "metadata": {},
   "outputs": [],
   "source": [
    "embed_model_name = \"sentence-transformers/all-mpnet-base-v2\"\n",
    "\n",
    "embeddings = HuggingFaceEmbeddings(model_name=embed_model_name)"
   ]
  },
  {
   "cell_type": "markdown",
   "id": "f9100489",
   "metadata": {},
   "source": [
    "### Load vector store"
   ]
  },
  {
   "cell_type": "code",
   "execution_count": 4,
   "id": "9f30b2ba",
   "metadata": {},
   "outputs": [],
   "source": [
    "vector_store = FAISS.load_local(\n",
    "    \"./faiss_spell_index\",\n",
    "    embeddings=embeddings,\n",
    "    allow_dangerous_deserialization=True\n",
    ")\n",
    "retriever = vector_store.as_retriever()"
   ]
  },
  {
   "cell_type": "markdown",
   "id": "adf13e68",
   "metadata": {},
   "source": [
    "### Mock data"
   ]
  },
  {
   "cell_type": "code",
   "execution_count": 5,
   "id": "1000e2fa",
   "metadata": {},
   "outputs": [
    {
     "data": {
      "text/html": [
       "<div>\n",
       "<style scoped>\n",
       "    .dataframe tbody tr th:only-of-type {\n",
       "        vertical-align: middle;\n",
       "    }\n",
       "\n",
       "    .dataframe tbody tr th {\n",
       "        vertical-align: top;\n",
       "    }\n",
       "\n",
       "    .dataframe thead th {\n",
       "        text-align: right;\n",
       "    }\n",
       "</style>\n",
       "<table border=\"1\" class=\"dataframe\">\n",
       "  <thead>\n",
       "    <tr style=\"text-align: right;\">\n",
       "      <th></th>\n",
       "      <th>user_id</th>\n",
       "      <th>name</th>\n",
       "      <th>age</th>\n",
       "      <th>email</th>\n",
       "      <th>num_posts</th>\n",
       "      <th>num_likes</th>\n",
       "      <th>num_followers</th>\n",
       "      <th>num_following</th>\n",
       "    </tr>\n",
       "  </thead>\n",
       "  <tbody>\n",
       "    <tr>\n",
       "      <th>0</th>\n",
       "      <td>user_1</td>\n",
       "      <td>User1</td>\n",
       "      <td>34</td>\n",
       "      <td>user1@example.com</td>\n",
       "      <td>431</td>\n",
       "      <td>6547</td>\n",
       "      <td>31696</td>\n",
       "      <td>4166</td>\n",
       "    </tr>\n",
       "    <tr>\n",
       "      <th>1</th>\n",
       "      <td>user_2</td>\n",
       "      <td>User2</td>\n",
       "      <td>33</td>\n",
       "      <td>user2@example.com</td>\n",
       "      <td>98</td>\n",
       "      <td>1115</td>\n",
       "      <td>10415</td>\n",
       "      <td>3338</td>\n",
       "    </tr>\n",
       "    <tr>\n",
       "      <th>2</th>\n",
       "      <td>user_3</td>\n",
       "      <td>User3</td>\n",
       "      <td>22</td>\n",
       "      <td>user3@example.com</td>\n",
       "      <td>40</td>\n",
       "      <td>356</td>\n",
       "      <td>61601</td>\n",
       "      <td>2300</td>\n",
       "    </tr>\n",
       "    <tr>\n",
       "      <th>3</th>\n",
       "      <td>user_4</td>\n",
       "      <td>User4</td>\n",
       "      <td>46</td>\n",
       "      <td>user4@example.com</td>\n",
       "      <td>434</td>\n",
       "      <td>9026</td>\n",
       "      <td>45544</td>\n",
       "      <td>1964</td>\n",
       "    </tr>\n",
       "    <tr>\n",
       "      <th>4</th>\n",
       "      <td>user_5</td>\n",
       "      <td>User5</td>\n",
       "      <td>48</td>\n",
       "      <td>user5@example.com</td>\n",
       "      <td>104</td>\n",
       "      <td>7319</td>\n",
       "      <td>4005</td>\n",
       "      <td>1884</td>\n",
       "    </tr>\n",
       "    <tr>\n",
       "      <th>5</th>\n",
       "      <td>user_6</td>\n",
       "      <td>User6</td>\n",
       "      <td>23</td>\n",
       "      <td>user6@example.com</td>\n",
       "      <td>225</td>\n",
       "      <td>6315</td>\n",
       "      <td>86519</td>\n",
       "      <td>3346</td>\n",
       "    </tr>\n",
       "    <tr>\n",
       "      <th>6</th>\n",
       "      <td>user_7</td>\n",
       "      <td>User7</td>\n",
       "      <td>22</td>\n",
       "      <td>user7@example.com</td>\n",
       "      <td>475</td>\n",
       "      <td>5064</td>\n",
       "      <td>21990</td>\n",
       "      <td>1404</td>\n",
       "    </tr>\n",
       "    <tr>\n",
       "      <th>7</th>\n",
       "      <td>user_8</td>\n",
       "      <td>User8</td>\n",
       "      <td>57</td>\n",
       "      <td>user8@example.com</td>\n",
       "      <td>159</td>\n",
       "      <td>2831</td>\n",
       "      <td>2005</td>\n",
       "      <td>4951</td>\n",
       "    </tr>\n",
       "    <tr>\n",
       "      <th>8</th>\n",
       "      <td>user_9</td>\n",
       "      <td>User9</td>\n",
       "      <td>52</td>\n",
       "      <td>user9@example.com</td>\n",
       "      <td>199</td>\n",
       "      <td>6105</td>\n",
       "      <td>91363</td>\n",
       "      <td>222</td>\n",
       "    </tr>\n",
       "    <tr>\n",
       "      <th>9</th>\n",
       "      <td>user_10</td>\n",
       "      <td>User10</td>\n",
       "      <td>57</td>\n",
       "      <td>user10@example.com</td>\n",
       "      <td>207</td>\n",
       "      <td>1583</td>\n",
       "      <td>41123</td>\n",
       "      <td>1295</td>\n",
       "    </tr>\n",
       "  </tbody>\n",
       "</table>\n",
       "</div>"
      ],
      "text/plain": [
       "   user_id    name  age               email  num_posts  num_likes  \\\n",
       "0   user_1   User1   34   user1@example.com        431       6547   \n",
       "1   user_2   User2   33   user2@example.com         98       1115   \n",
       "2   user_3   User3   22   user3@example.com         40        356   \n",
       "3   user_4   User4   46   user4@example.com        434       9026   \n",
       "4   user_5   User5   48   user5@example.com        104       7319   \n",
       "5   user_6   User6   23   user6@example.com        225       6315   \n",
       "6   user_7   User7   22   user7@example.com        475       5064   \n",
       "7   user_8   User8   57   user8@example.com        159       2831   \n",
       "8   user_9   User9   52   user9@example.com        199       6105   \n",
       "9  user_10  User10   57  user10@example.com        207       1583   \n",
       "\n",
       "   num_followers  num_following  \n",
       "0          31696           4166  \n",
       "1          10415           3338  \n",
       "2          61601           2300  \n",
       "3          45544           1964  \n",
       "4           4005           1884  \n",
       "5          86519           3346  \n",
       "6          21990           1404  \n",
       "7           2005           4951  \n",
       "8          91363            222  \n",
       "9          41123           1295  "
      ]
     },
     "metadata": {},
     "output_type": "display_data"
    }
   ],
   "source": [
    "n_users = 10\n",
    "\n",
    "data = {\n",
    "    \"user_id\": [f\"user_{i+1}\" for i in range(n_users)],\n",
    "    \"name\": [f\"User{i+1}\" for i in range(n_users)],\n",
    "    \"age\": np.random.randint(18, 60, size=n_users),\n",
    "    \"email\": [f\"user{i+1}@example.com\" for i in range(n_users)],\n",
    "    \"num_posts\": np.random.randint(0, 500, size=n_users),\n",
    "    \"num_likes\": np.random.randint(0, 10000, size=n_users),\n",
    "    \"num_followers\": np.random.randint(0, 100000, size=n_users),\n",
    "    \"num_following\": np.random.randint(0, 5000, size=n_users),\n",
    "}\n",
    "\n",
    "df = pd.DataFrame(data)\n",
    "display(df)"
   ]
  },
  {
   "cell_type": "markdown",
   "id": "a2efde47",
   "metadata": {},
   "source": [
    "## Functions"
   ]
  },
  {
   "cell_type": "code",
   "execution_count": 6,
   "id": "dd857be0",
   "metadata": {},
   "outputs": [],
   "source": [
    "@tool\n",
    "def spell_retrieve(query: str) -> str:\n",
    "    \"\"\"Retrieve information about dungeons and dragons spell.\n",
    "    \n",
    "    Args:\n",
    "        query (str): The spell name to search for.\n",
    "\n",
    "    Returns:\n",
    "        str: The spell information.\n",
    "    \"\"\"\n",
    "    retrieved_docs = vector_store.similarity_search(query, k=3)\n",
    "\n",
    "    contents = \"\\n\\n\".join(\n",
    "        (f\"{doc.page_content}\")\n",
    "        for doc in retrieved_docs\n",
    "    )\n",
    "    \n",
    "    return contents\n",
    "\n",
    "@tool\n",
    "def user(name: str) -> str:\n",
    "    \"\"\"\n",
    "    User infomation retreiver\n",
    "\n",
    "    Args:\n",
    "        name (str): The name of user.\n",
    "\n",
    "    Returns:\n",
    "        str: The user information.\n",
    "    \"\"\"\n",
    "    return f'{df[df['name'] == name]}.'\n",
    "\n",
    "tools = [\n",
    "    spell_retrieve,\n",
    "    user\n",
    "]"
   ]
  },
  {
   "cell_type": "markdown",
   "id": "b6bb85cf",
   "metadata": {},
   "source": [
    "## Workflow\n",
    "\n",
    "```\n",
    "[User Message] \n",
    "     ↓\n",
    "[xLAM-2] → [Check if Tool Call is Required] \n",
    "     ├── No → [Return to Llama 3 with \"No tool needed\"]\n",
    "     └── Yes → [Detect Tool to Call] → [Prepare Structured Tool Call] → [Execute Tool] → [Send Result to Llama 3]\n",
    "                          ↓\n",
    "               [Llama 3] → [Generate Final Natural Reply]\n",
    "     ↓\n",
    "[Final reply to User]\n",
    "```"
   ]
  },
  {
   "cell_type": "markdown",
   "id": "cb5e4861",
   "metadata": {},
   "source": [
    "## Custom Sate"
   ]
  },
  {
   "cell_type": "code",
   "execution_count": 7,
   "id": "53a248c6",
   "metadata": {},
   "outputs": [],
   "source": [
    "class State(TypedDict):\n",
    "    name: str\n",
    "    messages: Annotated[list[AnyMessage], add_messages]\n",
    "    context: str"
   ]
  },
  {
   "cell_type": "markdown",
   "id": "905fe375",
   "metadata": {},
   "source": [
    "## Tool Calling Class"
   ]
  },
  {
   "cell_type": "code",
   "execution_count": 8,
   "id": "af54df93",
   "metadata": {},
   "outputs": [],
   "source": [
    "class ToolCallRequest(TypedDict):\n",
    "    \"\"\"A typed dict that shows the inputs into the invoke_tool function.\"\"\"\n",
    "\n",
    "    name: str\n",
    "    arguments: Dict[str, Any]"
   ]
  },
  {
   "cell_type": "code",
   "execution_count": 9,
   "id": "909ac8c5",
   "metadata": {},
   "outputs": [],
   "source": [
    "class ToolCalling():\n",
    "    def __init__(self, model_name: str, tools: list[BaseTool]):\n",
    "        self.model_name = model_name\n",
    "        self.tokenizer = AutoTokenizer.from_pretrained(model_name)\n",
    "        self.model = AutoModelForCausalLM.from_pretrained(model_name, torch_dtype=torch.bfloat16, device_map=\"cpu\")\n",
    "        self.pipe = pipeline(\n",
    "            task=\"text-generation\",\n",
    "            model=self.model,\n",
    "            tokenizer=self.tokenizer,\n",
    "            return_full_text=False,\n",
    "            max_new_tokens=512,\n",
    "            top_k=10,\n",
    "            device_map=\"auto\"\n",
    "        )\n",
    "        self._llm = HuggingFacePipeline(pipeline=self.pipe)\n",
    "        self.chat = ChatHuggingFace(llm=self._llm, tokenizer=self.tokenizer)\n",
    "        self.rendered_tools = [convert_to_openai_tool(f) for f in tools]\n",
    "\n",
    "    def invoke_tool(\n",
    "            self,\n",
    "            tool_call_request: Union[ToolCallRequest, List[ToolCallRequest]], \n",
    "            config: Optional[RunnableConfig] = None\n",
    "    ):\n",
    "        \"\"\"A function that we can use the perform a tool invocation.\n",
    "\n",
    "        Args:\n",
    "            tool_call_request: a dict that contains the keys name and arguments.\n",
    "                The name must match the name of a tool that exists.\n",
    "                The arguments are the arguments to that tool.\n",
    "            config: This is configuration information that LangChain uses that contains\n",
    "                things like callbacks, metadata, etc.See LCEL documentation about RunnableConfig.\n",
    "\n",
    "        Returns:\n",
    "            output from the requested tool\n",
    "        \"\"\"\n",
    "\n",
    "        print(\"Tool call request:\", tool_call_request)\n",
    "        \n",
    "        # Sometimes the model outputs a list of tool call requests, \n",
    "        # so I loop each tool call and append to list\n",
    "        \n",
    "        if isinstance(tool_call_request, list):\n",
    "            output = list()\n",
    "\n",
    "            for tool_call in tool_call_request:\n",
    "                tool_name_to_tool = {tool.name: tool for tool in tools}\n",
    "                name = tool_call[\"name\"]\n",
    "                requested_tool = tool_name_to_tool[name]\n",
    "                output.append(requested_tool.invoke(tool_call[\"arguments\"], config=config))\n",
    "            return output\n",
    "        \n",
    "        tool_name_to_tool = {tool.name: tool for tool in tools}\n",
    "        name = tool_call_request[\"name\"]\n",
    "        requested_tool = tool_name_to_tool[name]\n",
    "        return requested_tool.invoke(tool_call_request[\"arguments\"], config=config)\n",
    "    \n",
    "    def invoke(self, state: State) -> List[str]:\n",
    "        system_prompt = SystemMessage(f\"\"\"\\\n",
    "        You are an assistant that has access to the following set of tools. \n",
    "        Here are the names and descriptions for each tool:\n",
    "\n",
    "        {self.rendered_tools}\n",
    "\n",
    "        Given the user input, return the name and input of the tool to use. \n",
    "        Return your response as a JSON blob with 'name' and 'arguments' keys.\n",
    "\n",
    "        The `arguments` should be a dictionary, with keys corresponding \n",
    "        to the argument names and the values corresponding to the requested values.\n",
    "        \"\"\")\n",
    "\n",
    "        chain = self.chat | JsonOutputParser() | self.invoke_tool\n",
    "        messages = [system_prompt] + [state['messages'][-1]]\n",
    "\n",
    "        try:\n",
    "            response = chain.invoke(messages)\n",
    "        except Exception as e:\n",
    "            print(\"Error invoking tool:\", e)\n",
    "            response = [\"No tool needed\"]\n",
    "\n",
    "        if not response:\n",
    "            response = [\"No tool needed\"]\n",
    "        \n",
    "        return {\"context\": AIMessage(response)}"
   ]
  },
  {
   "cell_type": "markdown",
   "id": "b7ece929",
   "metadata": {},
   "source": [
    "### ToolCalling Class Usage"
   ]
  },
  {
   "cell_type": "code",
   "execution_count": 10,
   "id": "83203c87",
   "metadata": {},
   "outputs": [
    {
     "data": {
      "application/vnd.jupyter.widget-view+json": {
       "model_id": "4fbde22438744f29b6f47d3cd557399e",
       "version_major": 2,
       "version_minor": 0
      },
      "text/plain": [
       "Loading checkpoint shards:   0%|          | 0/4 [00:00<?, ?it/s]"
      ]
     },
     "metadata": {},
     "output_type": "display_data"
    },
    {
     "name": "stderr",
     "output_type": "stream",
     "text": [
      "Device set to use cpu\n"
     ]
    }
   ],
   "source": [
    "tool_calling_model_name = \"Salesforce/Llama-xLAM-2-8b-fc-r\"\n",
    "\n",
    "tool_calling = ToolCalling(\n",
    "    model_name=tool_calling_model_name,\n",
    "    tools=tools\n",
    ")"
   ]
  },
  {
   "cell_type": "code",
   "execution_count": 11,
   "id": "a07f6b1c",
   "metadata": {},
   "outputs": [
    {
     "data": {
      "image/png": "[encoded data removed]",
      "text/plain": [
       "<IPython.core.display.Image object>"
      ]
     },
     "metadata": {},
     "output_type": "display_data"
    },
    {
     "name": "stdout",
     "output_type": "stream",
     "text": [
      "Tool call request: [{'name': 'user', 'arguments': {'name': 'player_3'}}]\n"
     ]
    },
    {
     "data": {
      "text/plain": [
       "{'name': 'player_3',\n",
       " 'messages': [HumanMessage(content='<|start_header_id|>player_3<|end_header_id|>\\nWould you like me to cast Fireball?<|eot_id|>', additional_kwargs={}, response_metadata={}, id='ae24002c-c181-4bf3-aa2f-f6422380f9b5')],\n",
       " 'context': AIMessage(content=['Empty DataFrame\\nColumns: [user_id, name, age, email, num_posts, num_likes, num_followers, num_following]\\nIndex: [].'], additional_kwargs={}, response_metadata={})}"
      ]
     },
     "execution_count": 11,
     "metadata": {},
     "output_type": "execute_result"
    }
   ],
   "source": [
    "def tool(state: State) -> str:\n",
    "    return tool_calling.invoke(state)\n",
    "\n",
    "graph = StateGraph(State)\n",
    "graph.add_edge(START, \"tool call\")\n",
    "graph.add_node(\"tool call\", tool)\n",
    "graph.add_edge(\"tool call\", END)\n",
    "\n",
    "graph = graph.compile()\n",
    "\n",
    "try:\n",
    "    display(Image(graph.get_graph().draw_mermaid_png()))\n",
    "except Exception:\n",
    "    pass\n",
    "\n",
    "input_message = {\n",
    "    \"name\": \"player_3\",\n",
    "    \"messages\": [HumanMessage(content=\"<|start_header_id|>player_3<|end_header_id|>\\nWould you like me to cast Fireball?<|eot_id|>\")],\n",
    "    \"context\": \"\"\n",
    "}\n",
    "\n",
    "graph.invoke(input_message)"
   ]
  },
  {
   "cell_type": "markdown",
   "id": "60520439",
   "metadata": {},
   "source": [
    "## Llama-3 Chat Class"
   ]
  },
  {
   "cell_type": "code",
   "execution_count": 12,
   "id": "5a0b8be5",
   "metadata": {},
   "outputs": [],
   "source": [
    "class LlamaChat():\n",
    "    def __init__(self, model_name: str):\n",
    "        self.model_name = model_name\n",
    "        self.tokenizer = AutoTokenizer.from_pretrained(model_name)\n",
    "        self.model = AutoModelForCausalLM.from_pretrained(model_name, torch_dtype=torch.bfloat16, load_in_4bit=True)\n",
    "        self.pipe = pipeline(\n",
    "            task=\"text-generation\",\n",
    "            model=self.model,\n",
    "            tokenizer=self.tokenizer,\n",
    "            return_full_text=False,\n",
    "            max_new_tokens=2048,\n",
    "            top_k=10,\n",
    "            device_map=\"auto\"\n",
    "        )\n",
    "        self._llm = HuggingFacePipeline(pipeline=self.pipe)\n",
    "        self.chat = ChatHuggingFace(llm=self._llm, tokenizer=self.tokenizer)\n",
    "\n",
    "    def generate(self, state: State) -> Dict[str, Any]:\n",
    "        system_message_content = (\n",
    "            \"<|start_header_id|>system<|end_header_id|>\\n\"\n",
    "            \"In a text-based adventure (Dungeons and Dragons), your job is to narrate the adventure \"\n",
    "            \"and respond to the player's actions.\\n\"\n",
    "            \"Use the following pieces of retrieved context to answer the question.\\n\"\n",
    "            \"If you don't know the answer, say i dont know.\"\n",
    "            \"If the player breaks the game rules, \"\n",
    "            \"notify the player.\\n\"\n",
    "            \"This is the retrieved context:\\n\\n\"\n",
    "            f\"{state['context']}\\n\\n\"\n",
    "            \"When you answer the player, you must respond in proper markdown format: heading, table, bold, italic, paragraph, blockquotes.\\n\"\n",
    "        )\n",
    "\n",
    "        print('State:', state)\n",
    "        print('Context:', state[\"context\"])\n",
    "        print('Generating response ...')\n",
    "\n",
    "        conversation_messages = [\n",
    "            message\n",
    "            for message in state[\"messages\"]\n",
    "            if message.type in (\"human\", \"system\")\n",
    "            or (message.type == \"ai\" and not message.tool_calls)\n",
    "        ]\n",
    "\n",
    "        prompt = [SystemMessage(system_message_content)] + conversation_messages\n",
    "\n",
    "        response = self.chat.invoke(prompt)\n",
    "        \n",
    "        return {\"messages\": [response]}"
   ]
  },
  {
   "cell_type": "markdown",
   "id": "2ee396ba",
   "metadata": {},
   "source": [
    "### LlamaChat Class Usage"
   ]
  },
  {
   "cell_type": "code",
   "execution_count": 13,
   "id": "3c3d8fcd",
   "metadata": {},
   "outputs": [
    {
     "name": "stderr",
     "output_type": "stream",
     "text": [
      "The `load_in_4bit` and `load_in_8bit` arguments are deprecated and will be removed in the future versions. Please, pass a `BitsAndBytesConfig` object in `quantization_config` argument instead.\n"
     ]
    },
    {
     "data": {
      "application/vnd.jupyter.widget-view+json": {
       "model_id": "957ab028945e419984d8cb2f68952a8b",
       "version_major": 2,
       "version_minor": 0
      },
      "text/plain": [
       "Loading checkpoint shards:   0%|          | 0/4 [00:00<?, ?it/s]"
      ]
     },
     "metadata": {},
     "output_type": "display_data"
    },
    {
     "name": "stderr",
     "output_type": "stream",
     "text": [
      "Device set to use cuda:0\n"
     ]
    }
   ],
   "source": [
    "llama_model_name = \"meta-llama/Meta-Llama-3-8B-Instruct\"\n",
    "\n",
    "llama = LlamaChat(model_name=llama_model_name)"
   ]
  },
  {
   "cell_type": "code",
   "execution_count": 14,
   "id": "7ae600af",
   "metadata": {},
   "outputs": [
    {
     "name": "stderr",
     "output_type": "stream",
     "text": [
      "Setting `pad_token_id` to `eos_token_id`:128001 for open-end generation.\n"
     ]
    },
    {
     "name": "stdout",
     "output_type": "stream",
     "text": [
      "State: {'name': 'player_1', 'messages': [HumanMessage(content='<|start_header_id|>player_3<|end_header_id|>\\nWould you like me to cast Fireball?<|eot_id|>', additional_kwargs={}, response_metadata={})], 'context': 'You are inside a dark dungeon filled with goblins. Fireball is a high-damage spell.'}\n",
      "Context: You are inside a dark dungeon filled with goblins. Fireball is a high-damage spell.\n",
      "Generating response ...\n",
      "{'messages': [AIMessage(content='**You are currently standing in a dimly lit chamber, the air thick with the stench of mold and decay. The walls are adorned with ancient tapestries, their intricate designs now faded and worn. Ahead of you, a narrow corridor stretches out into darkness, the sound of scuttling creatures echoing through the air.**\\n\\nYou look around, taking in your surroundings. The room is roughly 20 feet by 20 feet, with stone walls and a low ceiling. The only light comes from a faint, flickering torch on the wall to your left. The air is stale and musty, and you can hear the distant sound of dripping water somewhere in the distance.\\n\\n**What do you want to do?**\\n\\n* Cast Fireball?\\n* Explore the corridor?\\n* Search the room for any clues or treasure?\\n* Follow the sound of dripping water?', additional_kwargs={}, response_metadata={}, id='run-60e77ca9-ba30-46fc-b32e-9021e906919c-0')]}\n"
     ]
    }
   ],
   "source": [
    "prompt = (\n",
    "            \"<|start_header_id|>system<|end_header_id|>\\n\"\n",
    "            \"You are tasked with generating a relevant command for a tool-calling model.\\n\" \\\n",
    "            \"Your answer should be a simple sentence.\\n\" \\\n",
    "        )\n",
    "text = \"<|start_header_id|>player_3<|end_header_id|>\\nWould you like me to cast Fireball?<|eot_id|>\"\n",
    "\n",
    "input_state = {\n",
    "    \"name\": \"player_1\",\n",
    "    \"messages\": [\n",
    "        HumanMessage(content=text)\n",
    "    ],\n",
    "    \"context\": \"You are inside a dark dungeon filled with goblins. Fireball is a high-damage spell.\"\n",
    "}\n",
    "\n",
    "response = llama.generate(state=input_state)\n",
    "print(response)"
   ]
  },
  {
   "cell_type": "markdown",
   "id": "d21519ef",
   "metadata": {},
   "source": [
    "## LangGraph Demo"
   ]
  },
  {
   "cell_type": "code",
   "execution_count": 15,
   "id": "3bf6853e",
   "metadata": {},
   "outputs": [
    {
     "data": {
      "image/png": "[encoded data removed]",
      "text/plain": [
       "<IPython.core.display.Image object>"
      ]
     },
     "metadata": {},
     "output_type": "display_data"
    }
   ],
   "source": [
    "def tool(state: State):\n",
    "    return tool_calling.invoke(state)\n",
    "\n",
    "def chatbot(state: State) -> str:\n",
    "    return llama.generate(state=state)\n",
    "\n",
    "memory = MemorySaver()\n",
    "\n",
    "graph = StateGraph(State)\n",
    "\n",
    "graph.add_edge(START, \"tool call\")\n",
    "graph.add_node(\"tool call\", tool)\n",
    "\n",
    "graph.add_edge(\"tool call\", \"chatbot\")\n",
    "\n",
    "graph.add_node(\"chatbot\", chatbot)\n",
    "graph.add_edge(\"chatbot\", END)\n",
    "\n",
    "graph = graph.compile(checkpointer=memory)\n",
    "\n",
    "try:\n",
    "    display(Image(graph.get_graph().draw_mermaid_png()))\n",
    "except Exception:\n",
    "    pass"
   ]
  },
  {
   "cell_type": "code",
   "execution_count": 16,
   "id": "9c77b85d",
   "metadata": {},
   "outputs": [
    {
     "name": "stdout",
     "output_type": "stream",
     "text": [
      "================================\u001b[1m Human Message \u001b[0m=================================\n",
      "\n",
      "<|start_header_id|>player_3<|end_header_id|>\n",
      "Would you like me to cast Fireball?<|eot_id|>\n"
     ]
    },
    {
     "name": "stderr",
     "output_type": "stream",
     "text": [
      "Setting `pad_token_id` to `eos_token_id`:128001 for open-end generation.\n"
     ]
    },
    {
     "name": "stdout",
     "output_type": "stream",
     "text": [
      "Tool call request: [{'name': 'spell_retrieve', 'arguments': {'query': 'Fireball'}}]\n",
      "================================\u001b[1m Human Message \u001b[0m=================================\n",
      "\n",
      "<|start_header_id|>player_3<|end_header_id|>\n",
      "Would you like me to cast Fireball?<|eot_id|>\n",
      "State: {'name': 'player_1', 'messages': [HumanMessage(content='<|start_header_id|>player_3<|end_header_id|>\\nWould you like me to cast Fireball?<|eot_id|>', additional_kwargs={}, response_metadata={}, id='68c42456-284a-49a0-8931-2544507dfaab')], 'context': AIMessage(content=[\"# Fireball\\n## Spell Name\\nFireball  \\nFrom Player's Handbook, page 241.\\n## Description\\n![](https://static.wikia.nocookie.net/dnd-5e/images/a/ae/Fireball.png/revision/latest/scale-to-width-down/235?cb=20221208110401)\\n![](https://static.wikia.nocookie.net/dnd-5e/images/a/ae/Fireball.png/revision/latest/scale-to-width-down/235?cb=20221208110401)  \\n*3rd-level evocation*\\n* **Casting Time:** 1 action\\n* **Range:** 150 feet\\n* **Components:** V, S, M (a tiny ball of bat guano and sulfur)\\n* **Duration:** Instantaneous\\n\\n**Components:**\\n- **Duration:** Concentration, up to 1 minute\\n**Duration:**\\nA 5-foot-diameter sphere of fire appears in an unoccupied space of your choice within range and lasts for the duration. Any creature that ends its turn within 5 feet of the sphere must make a Dexterity saving throw. The creature takes 2d6 fire damage on a failed save, or half as much damage on a successful one.\\n\\n# Delayed Blast Fireball\\n## Spell Name\\nDelayed Blast Fireball  \\nFrom Player's Handbook, page 230.\\n## Description\\n*7th-level evocation*\\n* **Casting Time:** 1 action\\n* **Range:** 150 feet\\n* **Components:** V, S, M (a tiny ball of bat guano and sulfur)\\n* **Duration:** Concentration, up to 1 minute\\n- **Casting Time:** 1 action\\n**Casting Time:**\\n- **Range:** 150 feet\\n**Range:**\\n- **Components:** V, S, M (a tiny ball of bat guano and sulfur)\\n**Components:**\\n- **Duration:** Concentration, up to 1 minute\"], additional_kwargs={}, response_metadata={})}\n",
      "Context: content=[\"# Fireball\\n## Spell Name\\nFireball  \\nFrom Player's Handbook, page 241.\\n## Description\\n![](https://static.wikia.nocookie.net/dnd-5e/images/a/ae/Fireball.png/revision/latest/scale-to-width-down/235?cb=20221208110401)\\n![](https://static.wikia.nocookie.net/dnd-5e/images/a/ae/Fireball.png/revision/latest/scale-to-width-down/235?cb=20221208110401)  \\n*3rd-level evocation*\\n* **Casting Time:** 1 action\\n* **Range:** 150 feet\\n* **Components:** V, S, M (a tiny ball of bat guano and sulfur)\\n* **Duration:** Instantaneous\\n\\n**Components:**\\n- **Duration:** Concentration, up to 1 minute\\n**Duration:**\\nA 5-foot-diameter sphere of fire appears in an unoccupied space of your choice within range and lasts for the duration. Any creature that ends its turn within 5 feet of the sphere must make a Dexterity saving throw. The creature takes 2d6 fire damage on a failed save, or half as much damage on a successful one.\\n\\n# Delayed Blast Fireball\\n## Spell Name\\nDelayed Blast Fireball  \\nFrom Player's Handbook, page 230.\\n## Description\\n*7th-level evocation*\\n* **Casting Time:** 1 action\\n* **Range:** 150 feet\\n* **Components:** V, S, M (a tiny ball of bat guano and sulfur)\\n* **Duration:** Concentration, up to 1 minute\\n- **Casting Time:** 1 action\\n**Casting Time:**\\n- **Range:** 150 feet\\n**Range:**\\n- **Components:** V, S, M (a tiny ball of bat guano and sulfur)\\n**Components:**\\n- **Duration:** Concentration, up to 1 minute\"] additional_kwargs={} response_metadata={}\n",
      "Generating response ...\n",
      "==================================\u001b[1m Ai Message \u001b[0m==================================\n",
      "\n",
      "**What do you mean by \"cast Fireball\"?**\n",
      "\n",
      "You're considering unleashing a Fireball, a 3rd-level evocation spell that conjures a 5-foot-diameter sphere of fire. Are you looking to blast a specific target or area?\n",
      "\n",
      "Please clarify your intentions:\n",
      "\n",
      "* Target: Who or what do you want to hit with the Fireball?\n",
      "* Location: Where do you want to cast the Fireball?\n",
      "* Any specific conditions or considerations you'd like to take into account?\n",
      "\n",
      "Remember to specify your actions and intentions clearly, and I'll guide you through the process!\n"
     ]
    }
   ],
   "source": [
    "thread_id = uuid.uuid4()\n",
    "config = {\"configurable\": {\"thread_id\": \"123\"}}\n",
    "\n",
    "text = \"<|start_header_id|>player_3<|end_header_id|>\\nWould you like me to cast Fireball?<|eot_id|>\"\n",
    "\n",
    "input_state = {\n",
    "    \"name\": \"player_1\",\n",
    "    \"messages\": [\n",
    "        HumanMessage(content=text)\n",
    "    ],\n",
    "    \"context\": \"\"\n",
    "}\n",
    "\n",
    "for step in graph.stream(\n",
    "    input_state,\n",
    "    config=config,\n",
    "    stream_mode=\"values\",\n",
    "):\n",
    "    step[\"messages\"][-1].pretty_print()"
   ]
  },
  {
   "cell_type": "code",
   "execution_count": 17,
   "id": "b49b16f6",
   "metadata": {},
   "outputs": [
    {
     "name": "stdout",
     "output_type": "stream",
     "text": [
      "================================\u001b[1m Human Message \u001b[0m=================================\n",
      "\n",
      "<|start_header_id|>player_3<|end_header_id|>\n",
      "Can you give me infomation of name User3?<|eot_id|>\n"
     ]
    },
    {
     "name": "stderr",
     "output_type": "stream",
     "text": [
      "Setting `pad_token_id` to `eos_token_id`:128001 for open-end generation.\n"
     ]
    },
    {
     "name": "stdout",
     "output_type": "stream",
     "text": [
      "Tool call request: [{'name': 'user', 'arguments': {'name': 'User3'}}]\n",
      "================================\u001b[1m Human Message \u001b[0m=================================\n",
      "\n",
      "<|start_header_id|>player_3<|end_header_id|>\n",
      "Can you give me infomation of name User3?<|eot_id|>\n",
      "State: {'name': 'player_1', 'messages': [HumanMessage(content='<|start_header_id|>player_3<|end_header_id|>\\nWould you like me to cast Fireball?<|eot_id|>', additional_kwargs={}, response_metadata={}, id='68c42456-284a-49a0-8931-2544507dfaab'), AIMessage(content='**What do you mean by \"cast Fireball\"?**\\n\\nYou\\'re considering unleashing a Fireball, a 3rd-level evocation spell that conjures a 5-foot-diameter sphere of fire. Are you looking to blast a specific target or area?\\n\\nPlease clarify your intentions:\\n\\n* Target: Who or what do you want to hit with the Fireball?\\n* Location: Where do you want to cast the Fireball?\\n* Any specific conditions or considerations you\\'d like to take into account?\\n\\nRemember to specify your actions and intentions clearly, and I\\'ll guide you through the process!', additional_kwargs={}, response_metadata={}, id='run-6545ed99-3841-4997-bc70-7ee977332123-0'), HumanMessage(content='<|start_header_id|>player_3<|end_header_id|>\\nCan you give me infomation of name User3?<|eot_id|>', additional_kwargs={}, response_metadata={}, id='2e8d3631-4082-4dfb-82a8-5f8c9b7c320d')], 'context': AIMessage(content=['  user_id   name  age              email  num_posts  num_likes  num_followers  \\\\\\n2  user_3  User3   22  user3@example.com         40        356          61601   \\n\\n   num_following  \\n2           2300  .'], additional_kwargs={}, response_metadata={})}\n",
      "Context: content=['  user_id   name  age              email  num_posts  num_likes  num_followers  \\\\\\n2  user_3  User3   22  user3@example.com         40        356          61601   \\n\\n   num_following  \\n2           2300  .'] additional_kwargs={} response_metadata={}\n",
      "Generating response ...\n",
      "==================================\u001b[1m Ai Message \u001b[0m==================================\n",
      "\n",
      "**User Information**\n",
      "\n",
      "**Name:** **User3**\n",
      "**Age:** 22\n",
      "**Email:** user3@example.com\n",
      "**Number of Posts:** 40\n",
      "**Number of Likes:** 356\n",
      "**Number of Followers:** 6,101\n",
      "**Number of Following:** 2,300\n",
      "\n",
      "This is the information we have on record for User3. If you'd like to know more or have any specific questions, feel free to ask!\n"
     ]
    }
   ],
   "source": [
    "text = \"<|start_header_id|>player_3<|end_header_id|>\\nCan you give me infomation of name User3?<|eot_id|>\"\n",
    "\n",
    "input_state = {\n",
    "    \"name\": \"player_1\",\n",
    "    \"messages\": [\n",
    "        HumanMessage(content=text)\n",
    "    ],\n",
    "    \"context\": \"\"\n",
    "}\n",
    "\n",
    "for step in graph.stream(\n",
    "    input_state,\n",
    "    config=config,\n",
    "    stream_mode=\"values\",\n",
    "):\n",
    "    step[\"messages\"][-1].pretty_print()"
   ]
  },
  {
   "cell_type": "code",
   "execution_count": 18,
   "id": "045ecb72",
   "metadata": {},
   "outputs": [
    {
     "name": "stdout",
     "output_type": "stream",
     "text": [
      "================================\u001b[1m Human Message \u001b[0m=================================\n",
      "\n",
      "<|start_header_id|>player1<|end_header_id|>\n",
      "My name is Tsubasa.<|eot_id|>\n"
     ]
    },
    {
     "name": "stderr",
     "output_type": "stream",
     "text": [
      "Setting `pad_token_id` to `eos_token_id`:128001 for open-end generation.\n"
     ]
    },
    {
     "name": "stdout",
     "output_type": "stream",
     "text": [
      "Tool call request: [{'name': 'user', 'arguments': {'name': 'Tsubasa'}}]\n",
      "================================\u001b[1m Human Message \u001b[0m=================================\n",
      "\n",
      "<|start_header_id|>player1<|end_header_id|>\n",
      "My name is Tsubasa.<|eot_id|>\n",
      "State: {'name': 'player_1', 'messages': [HumanMessage(content='<|start_header_id|>player_3<|end_header_id|>\\nWould you like me to cast Fireball?<|eot_id|>', additional_kwargs={}, response_metadata={}, id='68c42456-284a-49a0-8931-2544507dfaab'), AIMessage(content='**What do you mean by \"cast Fireball\"?**\\n\\nYou\\'re considering unleashing a Fireball, a 3rd-level evocation spell that conjures a 5-foot-diameter sphere of fire. Are you looking to blast a specific target or area?\\n\\nPlease clarify your intentions:\\n\\n* Target: Who or what do you want to hit with the Fireball?\\n* Location: Where do you want to cast the Fireball?\\n* Any specific conditions or considerations you\\'d like to take into account?\\n\\nRemember to specify your actions and intentions clearly, and I\\'ll guide you through the process!', additional_kwargs={}, response_metadata={}, id='run-6545ed99-3841-4997-bc70-7ee977332123-0'), HumanMessage(content='<|start_header_id|>player_3<|end_header_id|>\\nCan you give me infomation of name User3?<|eot_id|>', additional_kwargs={}, response_metadata={}, id='2e8d3631-4082-4dfb-82a8-5f8c9b7c320d'), AIMessage(content=\"**User Information**\\n\\n**Name:** **User3**\\n**Age:** 22\\n**Email:** user3@example.com\\n**Number of Posts:** 40\\n**Number of Likes:** 356\\n**Number of Followers:** 6,101\\n**Number of Following:** 2,300\\n\\nThis is the information we have on record for User3. If you'd like to know more or have any specific questions, feel free to ask!\", additional_kwargs={}, response_metadata={}, id='run-d8457ed2-1cf4-42b3-9b1c-3068c1fea3c7-0'), HumanMessage(content='<|start_header_id|>player1<|end_header_id|>\\nMy name is Tsubasa.<|eot_id|>', additional_kwargs={}, response_metadata={}, id='4eb59d7b-0710-44b5-8eae-17937add6101')], 'context': AIMessage(content=['Empty DataFrame\\nColumns: [user_id, name, age, email, num_posts, num_likes, num_followers, num_following]\\nIndex: [].'], additional_kwargs={}, response_metadata={})}\n",
      "Context: content=['Empty DataFrame\\nColumns: [user_id, name, age, email, num_posts, num_likes, num_followers, num_following]\\nIndex: [].'] additional_kwargs={} response_metadata={}\n",
      "Generating response ...\n",
      "==================================\u001b[1m Ai Message \u001b[0m==================================\n",
      "\n",
      "**Welcome, Tsubasa!**\n",
      "\n",
      "You've joined the adventure! As a brave adventurer, you're ready to embark on a thrilling journey. Let's get started!\n",
      "\n",
      "**Your Current Situation**\n",
      "\n",
      "You find yourself in a dense forest, surrounded by tall trees that block out most of the sunlight. The air is crisp and clean, filled with the scent of blooming flowers and fresh earth. A narrow path stretches out before you, disappearing into the trees. You can hear the distant sound of a gentle stream burbling and birds chirping.\n",
      "\n",
      "**Your Inventory**\n",
      "\n",
      "You're equipped with:\n",
      "\n",
      "* A trusty sword at your side\n",
      "* A leather pouch containing 10 gold pieces\n",
      "* A small backpack with a water skin, a few rations, and a bedroll\n",
      "* A map of the surrounding area, marked with several locations and landmarks\n",
      "\n",
      "What would you like to do, Tsubasa?\n",
      "\n",
      "* Follow the path\n",
      "* Explore the nearby area\n",
      "* Rest and take a break\n",
      "* Use your sword for something specific\n"
     ]
    }
   ],
   "source": [
    "input_message = \"<|start_header_id|>player1<|end_header_id|>\\nMy name is Tsubasa.<|eot_id|>\"\n",
    "\n",
    "input_state = {\n",
    "    \"name\": \"player_1\",\n",
    "    \"messages\": [\n",
    "        HumanMessage(content=input_message)\n",
    "    ],\n",
    "    \"context\": \"\"\n",
    "}\n",
    "\n",
    "for step in graph.stream(\n",
    "    input_state,\n",
    "    config=config,\n",
    "    stream_mode=\"values\",\n",
    "):\n",
    "    step[\"messages\"][-1].pretty_print()"
   ]
  },
  {
   "cell_type": "code",
   "execution_count": 19,
   "id": "d163be2d",
   "metadata": {},
   "outputs": [
    {
     "name": "stdout",
     "output_type": "stream",
     "text": [
      "================================\u001b[1m Human Message \u001b[0m=================================\n",
      "\n",
      "<|start_header_id|>player1<|end_header_id|>\n",
      "hello, What is my name?<|eot_id|>\n"
     ]
    },
    {
     "name": "stderr",
     "output_type": "stream",
     "text": [
      "Setting `pad_token_id` to `eos_token_id`:128001 for open-end generation.\n"
     ]
    },
    {
     "name": "stdout",
     "output_type": "stream",
     "text": [
      "Tool call request: [{'name': 'user', 'arguments': {'name': 'player1'}}]\n",
      "================================\u001b[1m Human Message \u001b[0m=================================\n",
      "\n",
      "<|start_header_id|>player1<|end_header_id|>\n",
      "hello, What is my name?<|eot_id|>\n",
      "State: {'name': 'player_1', 'messages': [HumanMessage(content='<|start_header_id|>player_3<|end_header_id|>\\nWould you like me to cast Fireball?<|eot_id|>', additional_kwargs={}, response_metadata={}, id='68c42456-284a-49a0-8931-2544507dfaab'), AIMessage(content='**What do you mean by \"cast Fireball\"?**\\n\\nYou\\'re considering unleashing a Fireball, a 3rd-level evocation spell that conjures a 5-foot-diameter sphere of fire. Are you looking to blast a specific target or area?\\n\\nPlease clarify your intentions:\\n\\n* Target: Who or what do you want to hit with the Fireball?\\n* Location: Where do you want to cast the Fireball?\\n* Any specific conditions or considerations you\\'d like to take into account?\\n\\nRemember to specify your actions and intentions clearly, and I\\'ll guide you through the process!', additional_kwargs={}, response_metadata={}, id='run-6545ed99-3841-4997-bc70-7ee977332123-0'), HumanMessage(content='<|start_header_id|>player_3<|end_header_id|>\\nCan you give me infomation of name User3?<|eot_id|>', additional_kwargs={}, response_metadata={}, id='2e8d3631-4082-4dfb-82a8-5f8c9b7c320d'), AIMessage(content=\"**User Information**\\n\\n**Name:** **User3**\\n**Age:** 22\\n**Email:** user3@example.com\\n**Number of Posts:** 40\\n**Number of Likes:** 356\\n**Number of Followers:** 6,101\\n**Number of Following:** 2,300\\n\\nThis is the information we have on record for User3. If you'd like to know more or have any specific questions, feel free to ask!\", additional_kwargs={}, response_metadata={}, id='run-d8457ed2-1cf4-42b3-9b1c-3068c1fea3c7-0'), HumanMessage(content='<|start_header_id|>player1<|end_header_id|>\\nMy name is Tsubasa.<|eot_id|>', additional_kwargs={}, response_metadata={}, id='4eb59d7b-0710-44b5-8eae-17937add6101'), AIMessage(content=\"**Welcome, Tsubasa!**\\n\\nYou've joined the adventure! As a brave adventurer, you're ready to embark on a thrilling journey. Let's get started!\\n\\n**Your Current Situation**\\n\\nYou find yourself in a dense forest, surrounded by tall trees that block out most of the sunlight. The air is crisp and clean, filled with the scent of blooming flowers and fresh earth. A narrow path stretches out before you, disappearing into the trees. You can hear the distant sound of a gentle stream burbling and birds chirping.\\n\\n**Your Inventory**\\n\\nYou're equipped with:\\n\\n* A trusty sword at your side\\n* A leather pouch containing 10 gold pieces\\n* A small backpack with a water skin, a few rations, and a bedroll\\n* A map of the surrounding area, marked with several locations and landmarks\\n\\nWhat would you like to do, Tsubasa?\\n\\n* Follow the path\\n* Explore the nearby area\\n* Rest and take a break\\n* Use your sword for something specific\", additional_kwargs={}, response_metadata={}, id='run-9ee937d9-d300-4c2f-9ff5-83c7969d85ee-0'), HumanMessage(content='<|start_header_id|>player1<|end_header_id|>\\nhello, What is my name?<|eot_id|>', additional_kwargs={}, response_metadata={}, id='ae27a3e2-b337-4b4a-a241-fe9cbe4e7ede')], 'context': AIMessage(content=['Empty DataFrame\\nColumns: [user_id, name, age, email, num_posts, num_likes, num_followers, num_following]\\nIndex: [].'], additional_kwargs={}, response_metadata={})}\n",
      "Context: content=['Empty DataFrame\\nColumns: [user_id, name, age, email, num_posts, num_likes, num_followers, num_following]\\nIndex: [].'] additional_kwargs={} response_metadata={}\n",
      "Generating response ...\n",
      "==================================\u001b[1m Ai Message \u001b[0m==================================\n",
      "\n",
      "**Tsubasa, you're asking about your name?**\n",
      "\n",
      "As I mentioned earlier, your name is indeed Tsubasa. You're a brave adventurer, ready to take on the unknown and explore the world.\n"
     ]
    }
   ],
   "source": [
    "input_message = \"<|start_header_id|>player1<|end_header_id|>\\nhello, What is my name?<|eot_id|>\"\n",
    "\n",
    "input_state = {\n",
    "    \"name\": \"player_1\",\n",
    "    \"messages\": [\n",
    "        HumanMessage(content=input_message)\n",
    "    ],\n",
    "    \"context\": \"\"\n",
    "}\n",
    "\n",
    "for step in graph.stream(\n",
    "    input_state,\n",
    "    config=config,\n",
    "    stream_mode=\"values\",\n",
    "):\n",
    "    step[\"messages\"][-1].pretty_print()"
   ]
  },
  {
   "cell_type": "code",
   "execution_count": null,
   "id": "be8fc7d7",
   "metadata": {},
   "outputs": [],
   "source": []
  }
 ],
 "metadata": {
  "kernelspec": {
   "display_name": "nlp",
   "language": "python",
   "name": "python3"
  },
  "language_info": {
   "codemirror_mode": {
    "name": "ipython",
    "version": 3
   },
   "file_extension": ".py",
   "mimetype": "text/x-python",
   "name": "python",
   "nbconvert_exporter": "python",
   "pygments_lexer": "ipython3",
   "version": "3.12.9"
  }
 },
 "nbformat": 4,
 "nbformat_minor": 5
}
