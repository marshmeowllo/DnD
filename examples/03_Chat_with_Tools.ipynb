{
 "cells": [
  {
   "cell_type": "markdown",
   "id": "20ea2803",
   "metadata": {},
   "source": [
    "# Chat With Tools"
   ]
  },
  {
   "cell_type": "code",
   "execution_count": 1,
   "id": "29071199",
   "metadata": {},
   "outputs": [],
   "source": [
    "import torch\n",
    "import uuid\n",
    "import pandas as pd\n",
    "import numpy as np\n",
    "import matplotlib.pyplot as plt\n",
    "\n",
    "from transformers import AutoModelForCausalLM, AutoTokenizer, pipeline\n",
    "from peft import PeftModel, LoraConfig\n",
    "\n",
    "from langchain_community.vectorstores import FAISS\n",
    "from langchain_huggingface import HuggingFacePipeline, HuggingFaceEmbeddings, ChatHuggingFace\n",
    "from langchain.tools import tool\n",
    "\n",
    "from langchain.schema import AIMessage, HumanMessage\n",
    "from langchain_core.messages import SystemMessage, AnyMessage\n",
    "from langchain_core.output_parsers import JsonOutputParser\n",
    "from langchain_core.runnables import RunnableConfig, Runnable\n",
    "from langchain_core.tools import BaseTool\n",
    "from langchain_core.utils.function_calling import convert_to_openai_tool\n",
    "\n",
    "from langgraph.graph import START, END, StateGraph, MessagesState\n",
    "from langgraph.graph.message import add_messages\n",
    "from langgraph.checkpoint.memory import MemorySaver\n",
    "\n",
    "from typing import Annotated, Any, Dict, Optional, TypedDict, Union, List\n",
    "from lightning import Fabric\n",
    "\n",
    "from IPython.display import display, Markdown, Image, SVG\n",
    "from os import walk"
   ]
  },
  {
   "cell_type": "markdown",
   "id": "fd806861",
   "metadata": {},
   "source": [
    "### Set mixed precision"
   ]
  },
  {
   "cell_type": "code",
   "execution_count": 2,
   "id": "c2463854",
   "metadata": {},
   "outputs": [
    {
     "name": "stderr",
     "output_type": "stream",
     "text": [
      "Using bfloat16 Automatic Mixed Precision (AMP)\n"
     ]
    }
   ],
   "source": [
    "torch.set_float32_matmul_precision(\"medium\")\n",
    "fabric = Fabric(accelerator=\"cuda\", devices=1, precision=\"bf16-mixed\")\n",
    "device = fabric.device\n",
    "fabric.launch()"
   ]
  },
  {
   "cell_type": "markdown",
   "id": "fcc9f613",
   "metadata": {},
   "source": [
    "## RAG"
   ]
  },
  {
   "cell_type": "markdown",
   "id": "a52614d3",
   "metadata": {},
   "source": [
    "### Load Embedding Data"
   ]
  },
  {
   "cell_type": "code",
   "execution_count": 3,
   "id": "51f3676e",
   "metadata": {},
   "outputs": [],
   "source": [
    "embed_model_name = \"sentence-transformers/all-mpnet-base-v2\"\n",
    "\n",
    "embeddings = HuggingFaceEmbeddings(model_name=embed_model_name)"
   ]
  },
  {
   "cell_type": "markdown",
   "id": "f9100489",
   "metadata": {},
   "source": [
    "### Load vector store"
   ]
  },
  {
   "cell_type": "code",
   "execution_count": 4,
   "id": "9f30b2ba",
   "metadata": {},
   "outputs": [],
   "source": [
    "vector_store = FAISS.load_local(\n",
    "    \"./faiss_dnd_index\",\n",
    "    embeddings=embeddings,\n",
    "    allow_dangerous_deserialization=True\n",
    ")\n",
    "retriever = vector_store.as_retriever()"
   ]
  },
  {
   "cell_type": "markdown",
   "id": "adf13e68",
   "metadata": {},
   "source": [
    "### Mock data"
   ]
  },
  {
   "cell_type": "code",
   "execution_count": 5,
   "id": "1000e2fa",
   "metadata": {},
   "outputs": [
    {
     "data": {
      "text/html": [
       "<div>\n",
       "<style scoped>\n",
       "    .dataframe tbody tr th:only-of-type {\n",
       "        vertical-align: middle;\n",
       "    }\n",
       "\n",
       "    .dataframe tbody tr th {\n",
       "        vertical-align: top;\n",
       "    }\n",
       "\n",
       "    .dataframe thead th {\n",
       "        text-align: right;\n",
       "    }\n",
       "</style>\n",
       "<table border=\"1\" class=\"dataframe\">\n",
       "  <thead>\n",
       "    <tr style=\"text-align: right;\">\n",
       "      <th></th>\n",
       "      <th>user_id</th>\n",
       "      <th>name</th>\n",
       "      <th>age</th>\n",
       "      <th>email</th>\n",
       "      <th>num_posts</th>\n",
       "      <th>num_likes</th>\n",
       "      <th>num_followers</th>\n",
       "      <th>num_following</th>\n",
       "    </tr>\n",
       "  </thead>\n",
       "  <tbody>\n",
       "    <tr>\n",
       "      <th>0</th>\n",
       "      <td>user_1</td>\n",
       "      <td>User1</td>\n",
       "      <td>59</td>\n",
       "      <td>user1@example.com</td>\n",
       "      <td>184</td>\n",
       "      <td>4024</td>\n",
       "      <td>86631</td>\n",
       "      <td>2792</td>\n",
       "    </tr>\n",
       "    <tr>\n",
       "      <th>1</th>\n",
       "      <td>user_2</td>\n",
       "      <td>User2</td>\n",
       "      <td>19</td>\n",
       "      <td>user2@example.com</td>\n",
       "      <td>129</td>\n",
       "      <td>4639</td>\n",
       "      <td>60658</td>\n",
       "      <td>698</td>\n",
       "    </tr>\n",
       "    <tr>\n",
       "      <th>2</th>\n",
       "      <td>user_3</td>\n",
       "      <td>User3</td>\n",
       "      <td>18</td>\n",
       "      <td>user3@example.com</td>\n",
       "      <td>233</td>\n",
       "      <td>3548</td>\n",
       "      <td>45932</td>\n",
       "      <td>1485</td>\n",
       "    </tr>\n",
       "    <tr>\n",
       "      <th>3</th>\n",
       "      <td>user_4</td>\n",
       "      <td>User4</td>\n",
       "      <td>52</td>\n",
       "      <td>user4@example.com</td>\n",
       "      <td>47</td>\n",
       "      <td>4847</td>\n",
       "      <td>62884</td>\n",
       "      <td>3046</td>\n",
       "    </tr>\n",
       "    <tr>\n",
       "      <th>4</th>\n",
       "      <td>user_5</td>\n",
       "      <td>User5</td>\n",
       "      <td>45</td>\n",
       "      <td>user5@example.com</td>\n",
       "      <td>387</td>\n",
       "      <td>4939</td>\n",
       "      <td>82907</td>\n",
       "      <td>1298</td>\n",
       "    </tr>\n",
       "    <tr>\n",
       "      <th>5</th>\n",
       "      <td>user_6</td>\n",
       "      <td>User6</td>\n",
       "      <td>43</td>\n",
       "      <td>user6@example.com</td>\n",
       "      <td>370</td>\n",
       "      <td>1117</td>\n",
       "      <td>4926</td>\n",
       "      <td>291</td>\n",
       "    </tr>\n",
       "    <tr>\n",
       "      <th>6</th>\n",
       "      <td>user_7</td>\n",
       "      <td>User7</td>\n",
       "      <td>51</td>\n",
       "      <td>user7@example.com</td>\n",
       "      <td>213</td>\n",
       "      <td>7811</td>\n",
       "      <td>5188</td>\n",
       "      <td>3251</td>\n",
       "    </tr>\n",
       "    <tr>\n",
       "      <th>7</th>\n",
       "      <td>user_8</td>\n",
       "      <td>User8</td>\n",
       "      <td>23</td>\n",
       "      <td>user8@example.com</td>\n",
       "      <td>128</td>\n",
       "      <td>3152</td>\n",
       "      <td>25513</td>\n",
       "      <td>394</td>\n",
       "    </tr>\n",
       "    <tr>\n",
       "      <th>8</th>\n",
       "      <td>user_9</td>\n",
       "      <td>User9</td>\n",
       "      <td>51</td>\n",
       "      <td>user9@example.com</td>\n",
       "      <td>36</td>\n",
       "      <td>3673</td>\n",
       "      <td>37239</td>\n",
       "      <td>2764</td>\n",
       "    </tr>\n",
       "    <tr>\n",
       "      <th>9</th>\n",
       "      <td>user_10</td>\n",
       "      <td>User10</td>\n",
       "      <td>23</td>\n",
       "      <td>user10@example.com</td>\n",
       "      <td>142</td>\n",
       "      <td>3576</td>\n",
       "      <td>27109</td>\n",
       "      <td>2979</td>\n",
       "    </tr>\n",
       "  </tbody>\n",
       "</table>\n",
       "</div>"
      ],
      "text/plain": [
       "   user_id    name  age               email  num_posts  num_likes  \\\n",
       "0   user_1   User1   59   user1@example.com        184       4024   \n",
       "1   user_2   User2   19   user2@example.com        129       4639   \n",
       "2   user_3   User3   18   user3@example.com        233       3548   \n",
       "3   user_4   User4   52   user4@example.com         47       4847   \n",
       "4   user_5   User5   45   user5@example.com        387       4939   \n",
       "5   user_6   User6   43   user6@example.com        370       1117   \n",
       "6   user_7   User7   51   user7@example.com        213       7811   \n",
       "7   user_8   User8   23   user8@example.com        128       3152   \n",
       "8   user_9   User9   51   user9@example.com         36       3673   \n",
       "9  user_10  User10   23  user10@example.com        142       3576   \n",
       "\n",
       "   num_followers  num_following  \n",
       "0          86631           2792  \n",
       "1          60658            698  \n",
       "2          45932           1485  \n",
       "3          62884           3046  \n",
       "4          82907           1298  \n",
       "5           4926            291  \n",
       "6           5188           3251  \n",
       "7          25513            394  \n",
       "8          37239           2764  \n",
       "9          27109           2979  "
      ]
     },
     "metadata": {},
     "output_type": "display_data"
    }
   ],
   "source": [
    "n_users = 10\n",
    "\n",
    "data = {\n",
    "    \"user_id\": [f\"user_{i+1}\" for i in range(n_users)],\n",
    "    \"name\": [f\"User{i+1}\" for i in range(n_users)],\n",
    "    \"age\": np.random.randint(18, 60, size=n_users),\n",
    "    \"email\": [f\"user{i+1}@example.com\" for i in range(n_users)],\n",
    "    \"num_posts\": np.random.randint(0, 500, size=n_users),\n",
    "    \"num_likes\": np.random.randint(0, 10000, size=n_users),\n",
    "    \"num_followers\": np.random.randint(0, 100000, size=n_users),\n",
    "    \"num_following\": np.random.randint(0, 5000, size=n_users),\n",
    "}\n",
    "\n",
    "df = pd.DataFrame(data)\n",
    "display(df)"
   ]
  },
  {
   "cell_type": "markdown",
   "id": "a2efde47",
   "metadata": {},
   "source": [
    "## Functions"
   ]
  },
  {
   "cell_type": "code",
   "execution_count": 6,
   "id": "dd857be0",
   "metadata": {},
   "outputs": [],
   "source": [
    "@tool\n",
    "def spell_retrieve(query: str) -> str:\n",
    "    \"\"\"Retrieve information about dungeons and dragons spell.\n",
    "    \n",
    "    Args:\n",
    "        query (str): The spell name to search for.\n",
    "\n",
    "    Returns:\n",
    "        str: The spell information.\n",
    "    \"\"\"\n",
    "    retrieved_docs = vector_store.similarity_search(query, k=3)\n",
    "\n",
    "    contents = \"\\n\\n\".join(\n",
    "        (f\"{doc.page_content}\")\n",
    "        for doc in retrieved_docs\n",
    "    )\n",
    "    \n",
    "    return contents\n",
    "\n",
    "@tool\n",
    "def user(name: str) -> str:\n",
    "    \"\"\"\n",
    "    User infomation retreiver\n",
    "\n",
    "    Args:\n",
    "        name (str): The name of user.\n",
    "\n",
    "    Returns:\n",
    "        str: The user information.\n",
    "    \"\"\"\n",
    "    return f'{df[df['name'] == name]}.'\n",
    "\n",
    "tools = [\n",
    "    spell_retrieve,\n",
    "    user\n",
    "]"
   ]
  },
  {
   "cell_type": "markdown",
   "id": "b6bb85cf",
   "metadata": {},
   "source": [
    "## Workflow\n",
    "\n",
    "```\n",
    "[User Message] \n",
    "     ↓\n",
    "[xLAM-2] → [Check if Tool Call is Required] \n",
    "     ├── No → [Return to Llama 3 with \"No tool needed\"]\n",
    "     └── Yes → [Detect Tool to Call] → [Prepare Structured Tool Call] → [Execute Tool] → [Send Result to Llama 3]\n",
    "                          ↓\n",
    "               [Llama 3] → [Generate Final Natural Reply]\n",
    "     ↓\n",
    "[Final reply to User]\n",
    "```"
   ]
  },
  {
   "cell_type": "markdown",
   "id": "cb5e4861",
   "metadata": {},
   "source": [
    "## Custom Sate"
   ]
  },
  {
   "cell_type": "code",
   "execution_count": 7,
   "id": "53a248c6",
   "metadata": {},
   "outputs": [],
   "source": [
    "class State(TypedDict):\n",
    "    name: str\n",
    "    stat: str\n",
    "    messages: Annotated[list[AnyMessage], add_messages]\n",
    "    context: str"
   ]
  },
  {
   "cell_type": "markdown",
   "id": "905fe375",
   "metadata": {},
   "source": [
    "## Tool Calling Class"
   ]
  },
  {
   "cell_type": "code",
   "execution_count": 8,
   "id": "af54df93",
   "metadata": {},
   "outputs": [],
   "source": [
    "class ToolCallRequest(TypedDict):\n",
    "    \"\"\"A typed dict that shows the inputs into the invoke_tool function.\"\"\"\n",
    "\n",
    "    name: str\n",
    "    arguments: Dict[str, Any]"
   ]
  },
  {
   "cell_type": "code",
   "execution_count": 9,
   "id": "909ac8c5",
   "metadata": {},
   "outputs": [],
   "source": [
    "class ToolCalling():\n",
    "    def __init__(self, model_name: str, tools: list[BaseTool]):\n",
    "        self.model_name = model_name\n",
    "        self.tokenizer = AutoTokenizer.from_pretrained(model_name)\n",
    "        self.model = AutoModelForCausalLM.from_pretrained(model_name, torch_dtype=torch.bfloat16, device_map=\"cpu\")\n",
    "        self.pipe = pipeline(\n",
    "            task=\"text-generation\",\n",
    "            model=self.model,\n",
    "            tokenizer=self.tokenizer,\n",
    "            return_full_text=False,\n",
    "            max_new_tokens=512,\n",
    "            top_k=10,\n",
    "            device_map=\"auto\"\n",
    "        )\n",
    "        self._llm = HuggingFacePipeline(pipeline=self.pipe)\n",
    "        self.chat = ChatHuggingFace(llm=self._llm, tokenizer=self.tokenizer)\n",
    "        self.rendered_tools = [convert_to_openai_tool(f) for f in tools]\n",
    "\n",
    "    def invoke_tool(\n",
    "            self,\n",
    "            tool_call_request: Union[ToolCallRequest, List[ToolCallRequest]], \n",
    "            config: Optional[RunnableConfig] = None\n",
    "    ):\n",
    "        \"\"\"A function that we can use the perform a tool invocation.\n",
    "\n",
    "        Args:\n",
    "            tool_call_request: a dict that contains the keys name and arguments.\n",
    "                The name must match the name of a tool that exists.\n",
    "                The arguments are the arguments to that tool.\n",
    "            config: This is configuration information that LangChain uses that contains\n",
    "                things like callbacks, metadata, etc.See LCEL documentation about RunnableConfig.\n",
    "\n",
    "        Returns:\n",
    "            output from the requested tool\n",
    "        \"\"\"\n",
    "\n",
    "        print(\"Tool call request:\", tool_call_request)\n",
    "        \n",
    "        # Sometimes the model outputs a list of tool call requests, \n",
    "        # so I loop each tool call and append to list\n",
    "        \n",
    "        if isinstance(tool_call_request, list):\n",
    "            output = list()\n",
    "\n",
    "            for tool_call in tool_call_request:\n",
    "                tool_name_to_tool = {tool.name: tool for tool in tools}\n",
    "                name = tool_call[\"name\"]\n",
    "                requested_tool = tool_name_to_tool[name]\n",
    "                output.append(requested_tool.invoke(tool_call[\"arguments\"], config=config))\n",
    "            return output\n",
    "        \n",
    "        tool_name_to_tool = {tool.name: tool for tool in tools}\n",
    "        name = tool_call_request[\"name\"]\n",
    "        requested_tool = tool_name_to_tool[name]\n",
    "        return requested_tool.invoke(tool_call_request[\"arguments\"], config=config)\n",
    "    \n",
    "    def invoke(self, state: State) -> List[str]:\n",
    "        system_prompt = SystemMessage(f\"\"\"\\\n",
    "        You are an assistant that has access to the following set of tools. \n",
    "        Here are the names and descriptions for each tool:\n",
    "\n",
    "        {self.rendered_tools}\n",
    "\n",
    "        Given the user input, return the name and input of the tool to use. \n",
    "        Return your response as a JSON blob with 'name' and 'arguments' keys.\n",
    "\n",
    "        The `arguments` should be a dictionary, with keys corresponding \n",
    "        to the argument names and the values corresponding to the requested values.\n",
    "        \"\"\")\n",
    "\n",
    "        chain = self.chat | JsonOutputParser() | self.invoke_tool\n",
    "        messages = [system_prompt] + [state['messages'][-1]]\n",
    "\n",
    "        try:\n",
    "            response = chain.invoke(messages)\n",
    "        except Exception as e:\n",
    "            print(\"Error invoking tool:\", e)\n",
    "            response = [\"No tool needed\"]\n",
    "\n",
    "        if not response:\n",
    "            response = [\"No tool needed\"]\n",
    "        \n",
    "        return {\"context\": AIMessage(response)}"
   ]
  },
  {
   "cell_type": "markdown",
   "id": "b7ece929",
   "metadata": {},
   "source": [
    "### ToolCalling Class Usage"
   ]
  },
  {
   "cell_type": "code",
   "execution_count": 10,
   "id": "83203c87",
   "metadata": {},
   "outputs": [
    {
     "data": {
      "application/vnd.jupyter.widget-view+json": {
       "model_id": "96a1e2cc16664d86ad26d3e7ee86f52b",
       "version_major": 2,
       "version_minor": 0
      },
      "text/plain": [
       "Loading checkpoint shards:   0%|          | 0/4 [00:00<?, ?it/s]"
      ]
     },
     "metadata": {},
     "output_type": "display_data"
    },
    {
     "name": "stderr",
     "output_type": "stream",
     "text": [
      "Device set to use cpu\n"
     ]
    }
   ],
   "source": [
    "tool_calling_model_name = \"Salesforce/Llama-xLAM-2-8b-fc-r\"\n",
    "\n",
    "tool_calling = ToolCalling(\n",
    "    model_name=tool_calling_model_name,\n",
    "    tools=tools\n",
    ")"
   ]
  },
  {
   "cell_type": "code",
   "execution_count": 11,
   "id": "a07f6b1c",
   "metadata": {},
   "outputs": [],
   "source": [
    "def tool(state: State) -> str:\n",
    "    return tool_calling.invoke(state)\n",
    "\n",
    "graph = StateGraph(State)\n",
    "graph.add_edge(START, \"tool call\")\n",
    "graph.add_node(\"tool call\", tool)\n",
    "graph.add_edge(\"tool call\", END)\n",
    "\n",
    "graph = graph.compile()"
   ]
  },
  {
   "cell_type": "code",
   "execution_count": 12,
   "id": "9b53bdc3",
   "metadata": {},
   "outputs": [],
   "source": [
    "lora_config = LoraConfig(\n",
    "    r=16,\n",
    "    lora_alpha=32,\n",
    "    target_modules=[\"q_proj\", \"k_proj\"],\n",
    "    lora_dropout=0.2,\n",
    "    bias=\"none\",\n",
    "    task_type=\"CAUSAL_LM\"\n",
    ")"
   ]
  },
  {
   "cell_type": "markdown",
   "id": "60520439",
   "metadata": {},
   "source": [
    "## Llama-3 Chat Class"
   ]
  },
  {
   "cell_type": "code",
   "execution_count": null,
   "id": "5a0b8be5",
   "metadata": {},
   "outputs": [],
   "source": [
    "class LlamaChat():\n",
    "    def __init__(self, model_name: str):\n",
    "        self.model_name = model_name\n",
    "        self.tokenizer = AutoTokenizer.from_pretrained(model_name)\n",
    "        self.model = AutoModelForCausalLM.from_pretrained(model_name, torch_dtype=torch.bfloat16, load_in_4bit=True)\n",
    "        self.adapter_model_name = './weight/best'\n",
    "        self.model = PeftModel.from_pretrained(self.model, self.adapter_model_name)\n",
    "        self.pipe = pipeline(\n",
    "            task=\"text-generation\",\n",
    "            model=self.model,\n",
    "            tokenizer=self.tokenizer,\n",
    "            return_full_text=False,\n",
    "            max_new_tokens=2048,\n",
    "            top_k=10,\n",
    "            device_map=\"auto\"\n",
    "        )\n",
    "        self._llm = HuggingFacePipeline(pipeline=self.pipe)\n",
    "        self.chat = ChatHuggingFace(llm=self._llm, tokenizer=self.tokenizer)\n",
    "\n",
    "    def generate(self, state: State) -> Dict[str, Any]:\n",
    "        system_message_content = (\n",
    "            \"<|begin_of_text|>\\n\"\n",
    "            \"<|start_header_id|>system<|end_header_id|>\\n\"\n",
    "            \"You are a highly skilled Dungeon Master (DM) for Dungeons & Dragons 5th Edition. \"\n",
    "            \"Your job is to read the player’s input and reply with an immersive, clear, and engaging narration that advances the story and game mechanics.\\n\"\n",
    "            \"\\n\"\n",
    "            \"Advice for the DM:\\n\"\n",
    "            \"  - Describe scenes with vivid sensory details and atmosphere.\\n\"\n",
    "            \"  - Offer meaningful choices if players ask for choices; respect player agency and avoid railroading.\\n\"\n",
    "            \"  - Keep secret die rolls hidden; reveal only the results and their effects.\\n\"\n",
    "            \"  - Use rules faithfully but prioritize fun and pacing over strict book-keeping.\\n\"\n",
    "            \"  - Improvise when players surprise you, but maintain internal consistency.\\n\"\n",
    "            \"  - Avoid technical jargon in your narration—stay in character and tone.\\n\"\n",
    "            \"\\n\"\n",
    "            \"Basic D&D 5e Rules Summary:\\n\"\n",
    "            \"  - Initiative: roll a d20 + Dexterity modifier to determine turn order.\\n\"\n",
    "            \"  - Actions: on your turn you can take one Action, one Bonus Action (if available), and move up to your speed.\\n\"\n",
    "            \"  - Reactions: special actions triggered outside your turn, such as Opportunity Attacks.\\n\"\n",
    "            \"  - Advantage & Disadvantage: roll two d20s; take the higher roll for advantage or the lower for disadvantage.\\n\"\n",
    "            \"  - Spellcasting: consumes spell slots; cantrips are cast at will; concentration holds one spell at a time.\\n\"\n",
    "            \"<|eot_id|>\\n\"\n",
    "            \"This is the retrieved context:\\n\\n\"\n",
    "            f\"{state['context']}\\n\\n\"\n",
    "            \"When you answer the player, you must respond in proper markdown format: heading, table, bold, italic, paragraph, blockquotes.\\n\"\n",
    "        )\n",
    "\n",
    "        print('State:', state)\n",
    "        print('Context:', state[\"context\"])\n",
    "        print('Generating response ...')\n",
    "\n",
    "        conversation_messages = [\n",
    "            message\n",
    "            for message in state[\"messages\"]\n",
    "            if message.type in (\"human\", \"system\")\n",
    "            or (message.type == \"ai\" and not message.tool_calls)\n",
    "        ]\n",
    "\n",
    "        prompt = [SystemMessage(system_message_content)] + conversation_messages\n",
    "\n",
    "        response = self.chat.invoke(prompt)\n",
    "        \n",
    "        return {\"messages\": [response]}"
   ]
  },
  {
   "cell_type": "markdown",
   "id": "2ee396ba",
   "metadata": {},
   "source": [
    "### LlamaChat Class Usage"
   ]
  },
  {
   "cell_type": "code",
   "execution_count": 14,
   "id": "3c3d8fcd",
   "metadata": {},
   "outputs": [
    {
     "name": "stderr",
     "output_type": "stream",
     "text": [
      "The `load_in_4bit` and `load_in_8bit` arguments are deprecated and will be removed in the future versions. Please, pass a `BitsAndBytesConfig` object in `quantization_config` argument instead.\n"
     ]
    },
    {
     "data": {
      "application/vnd.jupyter.widget-view+json": {
       "model_id": "360cfb6fc62d4deebef2756331bae242",
       "version_major": 2,
       "version_minor": 0
      },
      "text/plain": [
       "Loading checkpoint shards:   0%|          | 0/4 [00:00<?, ?it/s]"
      ]
     },
     "metadata": {},
     "output_type": "display_data"
    },
    {
     "name": "stderr",
     "output_type": "stream",
     "text": [
      "/home/yuaylong/miniconda3/envs/nlp/lib/python3.12/site-packages/peft/tuners/lora/bnb.py:351: UserWarning: Merge lora module to 4-bit linear may get different generations due to rounding errors.\n",
      "  warnings.warn(\n",
      "Device set to use cuda:0\n"
     ]
    }
   ],
   "source": [
    "llama_model_name = \"meta-llama/Llama-3.1-8B-Instruct\"\n",
    "\n",
    "llama = LlamaChat(model_name=llama_model_name)"
   ]
  },
  {
   "cell_type": "code",
   "execution_count": 15,
   "id": "7ae600af",
   "metadata": {},
   "outputs": [],
   "source": [
    "# text = \"<|start_header_id|>player_1<|end_header_id|>\\nCan I cast meteor swarm?<|eot_id|>\"\n",
    "\n",
    "# input_state = {\n",
    "#     \"name\": \"player_1\",\n",
    "#     \"messages\": [\n",
    "#         HumanMessage(content=text)\n",
    "#     ],\n",
    "#     \"context\": \"\"\n",
    "# }\n",
    "\n",
    "# response = llama.generate(state=input_state)\n",
    "# print(response)"
   ]
  },
  {
   "cell_type": "markdown",
   "id": "d21519ef",
   "metadata": {},
   "source": [
    "## LangGraph Demo"
   ]
  },
  {
   "cell_type": "code",
   "execution_count": 16,
   "id": "3bf6853e",
   "metadata": {},
   "outputs": [
    {
     "data": {
      "image/png": "[encoded data removed]",
      "text/plain": [
       "<IPython.core.display.Image object>"
      ]
     },
     "metadata": {},
     "output_type": "display_data"
    }
   ],
   "source": [
    "def tool(state: State):\n",
    "    return tool_calling.invoke(state)\n",
    "\n",
    "def chatbot(state: State) -> str:\n",
    "    return llama.generate(state=state)\n",
    "\n",
    "memory = MemorySaver()\n",
    "\n",
    "graph = StateGraph(State)\n",
    "\n",
    "graph.add_edge(START, \"tool call\")\n",
    "graph.add_node(\"tool call\", tool)\n",
    "\n",
    "graph.add_edge(\"tool call\", \"chatbot\")\n",
    "\n",
    "graph.add_node(\"chatbot\", chatbot)\n",
    "graph.add_edge(\"chatbot\", END)\n",
    "\n",
    "graph = graph.compile(checkpointer=memory)\n",
    "\n",
    "try:\n",
    "    display(Image(graph.get_graph().draw_mermaid_png()))\n",
    "except Exception:\n",
    "    pass"
   ]
  },
  {
   "cell_type": "code",
   "execution_count": 17,
   "id": "9c77b85d",
   "metadata": {},
   "outputs": [
    {
     "name": "stdout",
     "output_type": "stream",
     "text": [
      "================================\u001b[1m Human Message \u001b[0m=================================\n",
      "\n",
      "<|start_header_id|>player_3<|end_header_id|>\n",
      "Currently I am level 1 wizard.\n",
      "Can I cast meteor swarm?<|eot_id|>\n"
     ]
    },
    {
     "name": "stderr",
     "output_type": "stream",
     "text": [
      "Setting `pad_token_id` to `eos_token_id`:128001 for open-end generation.\n"
     ]
    },
    {
     "name": "stdout",
     "output_type": "stream",
     "text": [
      "Tool call request: [{'name': 'spell_retrieve', 'arguments': {'query': 'meteor swarm'}}]\n",
      "================================\u001b[1m Human Message \u001b[0m=================================\n",
      "\n",
      "<|start_header_id|>player_3<|end_header_id|>\n",
      "Currently I am level 1 wizard.\n",
      "Can I cast meteor swarm?<|eot_id|>\n",
      "State: {'name': 'player_1', 'messages': [HumanMessage(content='<|start_header_id|>player_3<|end_header_id|>\\nCurrently I am level 1 wizard.\\nCan I cast meteor swarm?<|eot_id|>', additional_kwargs={}, response_metadata={}, id='b96df328-8477-4e97-a633-11724d770a85')], 'context': AIMessage(content=[\"# Meteor Swarm\\n## Spell Name\\nMeteor Swarm  \\n![](https://static.wikia.nocookie.net/dnd-5e/images/9/99/Meteor.png/revision/latest/scale-to-width-down/225?cb=20221130233621)\\n![](https://static.wikia.nocookie.net/dnd-5e/images/9/99/Meteor.png/revision/latest/scale-to-width-down/225?cb=20221130233621)  \\nFrom Player's Handbook, page 259.\\n## Description\\n*9th-level evocation*\\n* **Casting Time:** 1 action\\n* **Range:** 1 mile\\n* **Components:** V, S\\n* **Duration:** Instantaneous\\n- **Casting Time:** 1 action\\n\\n**At Higher Levels:** When you cast this spell using a spell slot of 4th level or higher, the number of meteors created increases by two for each slot level above 3rd.\\n**At Higher Levels:**\\n## Learned By\\n* **Classes:** Sorcerer, Wizard\\n* **Subclasses:** Fighter (*Eldritch Knight*), Rogue (*Arcane Trickster*)\\n- **Classes:** Sorcerer, Wizard\\n**Classes:**\\nSorcerer\\nWizard\\n- **Subclasses:** Fighter (*Eldritch Knight*), Rogue (*Arcane Trickster*)\\n**Subclasses:**\\n*Eldritch Knight*\\nEldritch Knight\\n\\n**Components:**\\n- **Duration:** Concentration, up to 10 minutes\\n**Duration:**\\nSwarming, biting locusts fill a 20-foot-radius sphere centered on a point you choose within range. The sphere spreads around corners. The sphere remains for the duration, and its area is lightly obscured. The sphere's area is difficult terrain.\"], additional_kwargs={}, response_metadata={})}\n",
      "Context: content=[\"# Meteor Swarm\\n## Spell Name\\nMeteor Swarm  \\n![](https://static.wikia.nocookie.net/dnd-5e/images/9/99/Meteor.png/revision/latest/scale-to-width-down/225?cb=20221130233621)\\n![](https://static.wikia.nocookie.net/dnd-5e/images/9/99/Meteor.png/revision/latest/scale-to-width-down/225?cb=20221130233621)  \\nFrom Player's Handbook, page 259.\\n## Description\\n*9th-level evocation*\\n* **Casting Time:** 1 action\\n* **Range:** 1 mile\\n* **Components:** V, S\\n* **Duration:** Instantaneous\\n- **Casting Time:** 1 action\\n\\n**At Higher Levels:** When you cast this spell using a spell slot of 4th level or higher, the number of meteors created increases by two for each slot level above 3rd.\\n**At Higher Levels:**\\n## Learned By\\n* **Classes:** Sorcerer, Wizard\\n* **Subclasses:** Fighter (*Eldritch Knight*), Rogue (*Arcane Trickster*)\\n- **Classes:** Sorcerer, Wizard\\n**Classes:**\\nSorcerer\\nWizard\\n- **Subclasses:** Fighter (*Eldritch Knight*), Rogue (*Arcane Trickster*)\\n**Subclasses:**\\n*Eldritch Knight*\\nEldritch Knight\\n\\n**Components:**\\n- **Duration:** Concentration, up to 10 minutes\\n**Duration:**\\nSwarming, biting locusts fill a 20-foot-radius sphere centered on a point you choose within range. The sphere spreads around corners. The sphere remains for the duration, and its area is lightly obscured. The sphere's area is difficult terrain.\"] additional_kwargs={} response_metadata={}\n",
      "Generating response ...\n",
      "==================================\u001b[1m Ai Message \u001b[0m==================================\n",
      "\n",
      "**Meteor Swarm is Not Available**\n",
      "================================\n",
      "\n",
      "You're still a young wizard, and Meteor Swarm is a 9th-level evocation spell. As a level 1 wizard, you're not yet powerful enough to cast this spell.\n",
      "\n",
      "You can consider learning more spells from the Wizard spell list as you gain levels and become more proficient in the arcane arts.\n",
      "\n",
      "**Current Spells Available**\n",
      "---------------------------\n",
      "\n",
      "As a level 1 wizard, you know four cantrips and have learned the following spells:\n",
      "\n",
      "* _Acid Splash_\n",
      "* _Burning Hands_\n",
      "* _Chill Touch_\n",
      "* _Prestidigitation_\n",
      "\n",
      "You can try casting one of these spells, but Meteor Swarm is not an option for you... yet.\n",
      "\n",
      "What would you like to do next?\n"
     ]
    }
   ],
   "source": [
    "thread_id = uuid.uuid4()\n",
    "config = {\"configurable\": {\"thread_id\": \"123\"}}\n",
    "\n",
    "text = \"<|start_header_id|>player_3<|end_header_id|>\\nCurrently I am level 1 wizard.\\nCan I cast meteor swarm?<|eot_id|>\"\n",
    "\n",
    "input_state = {\n",
    "    \"name\": \"player_1\",\n",
    "    \"messages\": [\n",
    "        HumanMessage(content=text)\n",
    "    ],\n",
    "    \"context\": \"\"\n",
    "}\n",
    "\n",
    "for step in graph.stream(\n",
    "    input_state,\n",
    "    config=config,\n",
    "    stream_mode=\"values\",\n",
    "):\n",
    "    step[\"messages\"][-1].pretty_print()"
   ]
  },
  {
   "cell_type": "code",
   "execution_count": 18,
   "id": "b49b16f6",
   "metadata": {},
   "outputs": [
    {
     "name": "stdout",
     "output_type": "stream",
     "text": [
      "================================\u001b[1m Human Message \u001b[0m=================================\n",
      "\n",
      "<|start_header_id|>player_3<|end_header_id|>\n",
      "Can you give me infomation of name User3?<|eot_id|>\n"
     ]
    },
    {
     "name": "stderr",
     "output_type": "stream",
     "text": [
      "Setting `pad_token_id` to `eos_token_id`:128001 for open-end generation.\n"
     ]
    },
    {
     "name": "stdout",
     "output_type": "stream",
     "text": [
      "Tool call request: [{'name': 'user', 'arguments': {'name': 'User3'}}]\n",
      "================================\u001b[1m Human Message \u001b[0m=================================\n",
      "\n",
      "<|start_header_id|>player_3<|end_header_id|>\n",
      "Can you give me infomation of name User3?<|eot_id|>\n",
      "State: {'name': 'player_1', 'messages': [HumanMessage(content='<|start_header_id|>player_3<|end_header_id|>\\nCurrently I am level 1 wizard.\\nCan I cast meteor swarm?<|eot_id|>', additional_kwargs={}, response_metadata={}, id='b96df328-8477-4e97-a633-11724d770a85'), AIMessage(content=\"**Meteor Swarm is Not Available**\\n================================\\n\\nYou're still a young wizard, and Meteor Swarm is a 9th-level evocation spell. As a level 1 wizard, you're not yet powerful enough to cast this spell.\\n\\nYou can consider learning more spells from the Wizard spell list as you gain levels and become more proficient in the arcane arts.\\n\\n**Current Spells Available**\\n---------------------------\\n\\nAs a level 1 wizard, you know four cantrips and have learned the following spells:\\n\\n* _Acid Splash_\\n* _Burning Hands_\\n* _Chill Touch_\\n* _Prestidigitation_\\n\\nYou can try casting one of these spells, but Meteor Swarm is not an option for you... yet.\\n\\nWhat would you like to do next?\", additional_kwargs={}, response_metadata={}, id='run--7027d22d-1fee-45df-92e7-9c5f402b7d1d-0'), HumanMessage(content='<|start_header_id|>player_3<|end_header_id|>\\nCan you give me infomation of name User3?<|eot_id|>', additional_kwargs={}, response_metadata={}, id='103dc1e1-dedf-4b9c-af59-412b243c628d')], 'context': AIMessage(content=['  user_id   name  age              email  num_posts  num_likes  num_followers  \\\\\\n2  user_3  User3   18  user3@example.com        233       3548          45932   \\n\\n   num_following  \\n2           1485  .'], additional_kwargs={}, response_metadata={})}\n",
      "Context: content=['  user_id   name  age              email  num_posts  num_likes  num_followers  \\\\\\n2  user_3  User3   18  user3@example.com        233       3548          45932   \\n\\n   num_following  \\n2           1485  .'] additional_kwargs={} response_metadata={}\n",
      "Generating response ...\n",
      "==================================\u001b[1m Ai Message \u001b[0m==================================\n",
      "\n",
      "**You are User3**\n",
      "------------------\n",
      "\n",
      "You are a young and ambitious wizard, seeking adventure and knowledge in the world of Dungeons & Dragons. You're currently level 1 and have just started your journey.\n",
      "\n",
      "**Your Stats**\n",
      "---------------\n",
      "\n",
      "* **Name:** User3\n",
      "* **Age:** 18\n",
      "* **Email:** user3@example.com\n",
      "\n",
      "**Your Quest**\n",
      "--------------\n",
      "\n",
      "As a young wizard, you're eager to prove yourself and make a name in the world. You're currently in a bustling tavern, gathering information and preparing for your next adventure.\n",
      "\n",
      "You're sitting at a wooden table, nursing a mug of frothy ale, when you overhear a group of travelers discussing a nearby ruin. They speak in hushed tones, but you catch snippets of their conversation.\n",
      "\n",
      "\"... ancient temple of the Moon Goddess... treasure within... cursed by the ancient ones...\"\n",
      "\n",
      "Their conversation catches your attention, and you find yourself drawn to the topic. What would you like to do?\n",
      "\n",
      "Do you:\n",
      "* Approach the group and try to gather more information?\n",
      "* Ignore them and continue sipping your ale?\n",
      "* Order another round and strike up a conversation with the group?\n"
     ]
    }
   ],
   "source": [
    "text = \"<|start_header_id|>player_3<|end_header_id|>\\nCan you give me infomation of name User3?<|eot_id|>\"\n",
    "\n",
    "input_state = {\n",
    "    \"name\": \"player_1\",\n",
    "    \"messages\": [\n",
    "        HumanMessage(content=text)\n",
    "    ],\n",
    "    \"context\": \"\"\n",
    "}\n",
    "\n",
    "for step in graph.stream(\n",
    "    input_state,\n",
    "    config=config,\n",
    "    stream_mode=\"values\",\n",
    "):\n",
    "    step[\"messages\"][-1].pretty_print()"
   ]
  },
  {
   "cell_type": "code",
   "execution_count": 19,
   "id": "045ecb72",
   "metadata": {},
   "outputs": [
    {
     "name": "stdout",
     "output_type": "stream",
     "text": [
      "================================\u001b[1m Human Message \u001b[0m=================================\n",
      "\n",
      "<|start_header_id|>player1<|end_header_id|>\n",
      "My name is Tsubasa.<|eot_id|>\n"
     ]
    },
    {
     "name": "stderr",
     "output_type": "stream",
     "text": [
      "Setting `pad_token_id` to `eos_token_id`:128001 for open-end generation.\n"
     ]
    },
    {
     "name": "stdout",
     "output_type": "stream",
     "text": [
      "Tool call request: [{'name': 'user', 'arguments': {'name': 'Tsubasa'}}]\n",
      "================================\u001b[1m Human Message \u001b[0m=================================\n",
      "\n",
      "<|start_header_id|>player1<|end_header_id|>\n",
      "My name is Tsubasa.<|eot_id|>\n",
      "State: {'name': 'player_1', 'messages': [HumanMessage(content='<|start_header_id|>player_3<|end_header_id|>\\nCurrently I am level 1 wizard.\\nCan I cast meteor swarm?<|eot_id|>', additional_kwargs={}, response_metadata={}, id='b96df328-8477-4e97-a633-11724d770a85'), AIMessage(content=\"**Meteor Swarm is Not Available**\\n================================\\n\\nYou're still a young wizard, and Meteor Swarm is a 9th-level evocation spell. As a level 1 wizard, you're not yet powerful enough to cast this spell.\\n\\nYou can consider learning more spells from the Wizard spell list as you gain levels and become more proficient in the arcane arts.\\n\\n**Current Spells Available**\\n---------------------------\\n\\nAs a level 1 wizard, you know four cantrips and have learned the following spells:\\n\\n* _Acid Splash_\\n* _Burning Hands_\\n* _Chill Touch_\\n* _Prestidigitation_\\n\\nYou can try casting one of these spells, but Meteor Swarm is not an option for you... yet.\\n\\nWhat would you like to do next?\", additional_kwargs={}, response_metadata={}, id='run--7027d22d-1fee-45df-92e7-9c5f402b7d1d-0'), HumanMessage(content='<|start_header_id|>player_3<|end_header_id|>\\nCan you give me infomation of name User3?<|eot_id|>', additional_kwargs={}, response_metadata={}, id='103dc1e1-dedf-4b9c-af59-412b243c628d'), AIMessage(content='**You are User3**\\n------------------\\n\\nYou are a young and ambitious wizard, seeking adventure and knowledge in the world of Dungeons & Dragons. You\\'re currently level 1 and have just started your journey.\\n\\n**Your Stats**\\n---------------\\n\\n* **Name:** User3\\n* **Age:** 18\\n* **Email:** user3@example.com\\n\\n**Your Quest**\\n--------------\\n\\nAs a young wizard, you\\'re eager to prove yourself and make a name in the world. You\\'re currently in a bustling tavern, gathering information and preparing for your next adventure.\\n\\nYou\\'re sitting at a wooden table, nursing a mug of frothy ale, when you overhear a group of travelers discussing a nearby ruin. They speak in hushed tones, but you catch snippets of their conversation.\\n\\n\"... ancient temple of the Moon Goddess... treasure within... cursed by the ancient ones...\"\\n\\nTheir conversation catches your attention, and you find yourself drawn to the topic. What would you like to do?\\n\\nDo you:\\n* Approach the group and try to gather more information?\\n* Ignore them and continue sipping your ale?\\n* Order another round and strike up a conversation with the group?', additional_kwargs={}, response_metadata={}, id='run--228b7699-dc8d-4004-828d-27cd68908642-0'), HumanMessage(content='<|start_header_id|>player1<|end_header_id|>\\nMy name is Tsubasa.<|eot_id|>', additional_kwargs={}, response_metadata={}, id='b704086b-d200-4441-bd30-b9be1f407ec6')], 'context': AIMessage(content=['Empty DataFrame\\nColumns: [user_id, name, age, email, num_posts, num_likes, num_followers, num_following]\\nIndex: [].'], additional_kwargs={}, response_metadata={})}\n",
      "Context: content=['Empty DataFrame\\nColumns: [user_id, name, age, email, num_posts, num_likes, num_followers, num_following]\\nIndex: [].'] additional_kwargs={} response_metadata={}\n",
      "Generating response ...\n",
      "==================================\u001b[1m Ai Message \u001b[0m==================================\n",
      "\n",
      "**New Player: Tsubasa**\n",
      "-------------------------\n",
      "\n",
      "You, Tsubasa, join the tavern, and the atmosphere changes slightly. The bard in the corner raises an eyebrow, strumming a lively tune on his lute. The patrons turn to look at you, curiosity etched on their faces.\n",
      "\n",
      "**The Tavern**\n",
      "--------------\n",
      "\n",
      "You take a seat at the bar, and the bard greets you with a friendly smile. \"Welcome, friend! What brings you to our humble tavern?\"\n",
      "\n",
      "As you order a drink, you overhear the conversation about the ancient temple of the Moon Goddess. The group notices you and leans in, their voices dropping to a whisper.\n",
      "\n",
      "\"... beware the Moon's curse... treasure within... but at a terrible cost...\"\n",
      "\n",
      "The bard notices your interest and begins to play a soothing melody, weaving the conversation into his music. The patrons seem to relax, and the atmosphere becomes more convivial.\n",
      "\n",
      "**Your Stats**\n",
      "---------------\n",
      "\n",
      "* **Name:** Tsubasa\n",
      "* **Age:** 25\n",
      "* **Class:** (You didn't mention your class, but I'll assume you're a brave adventurer)\n",
      "\n",
      "**Your Quest**\n",
      "--------------\n",
      "\n",
      "You've arrived in town, seeking fortune and glory. The ancient temple of the Moon Goddess is said to be nearby, filled with treasures and mysteries. What would you like to do?\n",
      "\n",
      "Do you:\n",
      "* Approach the group and ask about the temple?\n",
      "* Order a room and rest for the night?\n",
      "* Challenge the bard to a drinking contest?\n"
     ]
    }
   ],
   "source": [
    "input_message = \"<|start_header_id|>player1<|end_header_id|>\\nMy name is Tsubasa.<|eot_id|>\"\n",
    "\n",
    "input_state = {\n",
    "    \"name\": \"player_1\",\n",
    "    \"messages\": [\n",
    "        HumanMessage(content=input_message)\n",
    "    ],\n",
    "    \"context\": \"\"\n",
    "}\n",
    "\n",
    "for step in graph.stream(\n",
    "    input_state,\n",
    "    config=config,\n",
    "    stream_mode=\"values\",\n",
    "):\n",
    "    step[\"messages\"][-1].pretty_print()"
   ]
  },
  {
   "cell_type": "code",
   "execution_count": 20,
   "id": "d163be2d",
   "metadata": {},
   "outputs": [
    {
     "name": "stdout",
     "output_type": "stream",
     "text": [
      "================================\u001b[1m Human Message \u001b[0m=================================\n",
      "\n",
      "<|start_header_id|>player1<|end_header_id|>\n",
      "hello, What is my name?<|eot_id|>\n"
     ]
    },
    {
     "name": "stderr",
     "output_type": "stream",
     "text": [
      "Setting `pad_token_id` to `eos_token_id`:128001 for open-end generation.\n"
     ]
    },
    {
     "name": "stdout",
     "output_type": "stream",
     "text": [
      "Tool call request: [{'name': 'user', 'arguments': {'name': 'player1'}}]\n",
      "================================\u001b[1m Human Message \u001b[0m=================================\n",
      "\n",
      "<|start_header_id|>player1<|end_header_id|>\n",
      "hello, What is my name?<|eot_id|>\n",
      "State: {'name': 'player_1', 'messages': [HumanMessage(content='<|start_header_id|>player_3<|end_header_id|>\\nCurrently I am level 1 wizard.\\nCan I cast meteor swarm?<|eot_id|>', additional_kwargs={}, response_metadata={}, id='b96df328-8477-4e97-a633-11724d770a85'), AIMessage(content=\"**Meteor Swarm is Not Available**\\n================================\\n\\nYou're still a young wizard, and Meteor Swarm is a 9th-level evocation spell. As a level 1 wizard, you're not yet powerful enough to cast this spell.\\n\\nYou can consider learning more spells from the Wizard spell list as you gain levels and become more proficient in the arcane arts.\\n\\n**Current Spells Available**\\n---------------------------\\n\\nAs a level 1 wizard, you know four cantrips and have learned the following spells:\\n\\n* _Acid Splash_\\n* _Burning Hands_\\n* _Chill Touch_\\n* _Prestidigitation_\\n\\nYou can try casting one of these spells, but Meteor Swarm is not an option for you... yet.\\n\\nWhat would you like to do next?\", additional_kwargs={}, response_metadata={}, id='run--7027d22d-1fee-45df-92e7-9c5f402b7d1d-0'), HumanMessage(content='<|start_header_id|>player_3<|end_header_id|>\\nCan you give me infomation of name User3?<|eot_id|>', additional_kwargs={}, response_metadata={}, id='103dc1e1-dedf-4b9c-af59-412b243c628d'), AIMessage(content='**You are User3**\\n------------------\\n\\nYou are a young and ambitious wizard, seeking adventure and knowledge in the world of Dungeons & Dragons. You\\'re currently level 1 and have just started your journey.\\n\\n**Your Stats**\\n---------------\\n\\n* **Name:** User3\\n* **Age:** 18\\n* **Email:** user3@example.com\\n\\n**Your Quest**\\n--------------\\n\\nAs a young wizard, you\\'re eager to prove yourself and make a name in the world. You\\'re currently in a bustling tavern, gathering information and preparing for your next adventure.\\n\\nYou\\'re sitting at a wooden table, nursing a mug of frothy ale, when you overhear a group of travelers discussing a nearby ruin. They speak in hushed tones, but you catch snippets of their conversation.\\n\\n\"... ancient temple of the Moon Goddess... treasure within... cursed by the ancient ones...\"\\n\\nTheir conversation catches your attention, and you find yourself drawn to the topic. What would you like to do?\\n\\nDo you:\\n* Approach the group and try to gather more information?\\n* Ignore them and continue sipping your ale?\\n* Order another round and strike up a conversation with the group?', additional_kwargs={}, response_metadata={}, id='run--228b7699-dc8d-4004-828d-27cd68908642-0'), HumanMessage(content='<|start_header_id|>player1<|end_header_id|>\\nMy name is Tsubasa.<|eot_id|>', additional_kwargs={}, response_metadata={}, id='b704086b-d200-4441-bd30-b9be1f407ec6'), AIMessage(content='**New Player: Tsubasa**\\n-------------------------\\n\\nYou, Tsubasa, join the tavern, and the atmosphere changes slightly. The bard in the corner raises an eyebrow, strumming a lively tune on his lute. The patrons turn to look at you, curiosity etched on their faces.\\n\\n**The Tavern**\\n--------------\\n\\nYou take a seat at the bar, and the bard greets you with a friendly smile. \"Welcome, friend! What brings you to our humble tavern?\"\\n\\nAs you order a drink, you overhear the conversation about the ancient temple of the Moon Goddess. The group notices you and leans in, their voices dropping to a whisper.\\n\\n\"... beware the Moon\\'s curse... treasure within... but at a terrible cost...\"\\n\\nThe bard notices your interest and begins to play a soothing melody, weaving the conversation into his music. The patrons seem to relax, and the atmosphere becomes more convivial.\\n\\n**Your Stats**\\n---------------\\n\\n* **Name:** Tsubasa\\n* **Age:** 25\\n* **Class:** (You didn\\'t mention your class, but I\\'ll assume you\\'re a brave adventurer)\\n\\n**Your Quest**\\n--------------\\n\\nYou\\'ve arrived in town, seeking fortune and glory. The ancient temple of the Moon Goddess is said to be nearby, filled with treasures and mysteries. What would you like to do?\\n\\nDo you:\\n* Approach the group and ask about the temple?\\n* Order a room and rest for the night?\\n* Challenge the bard to a drinking contest?', additional_kwargs={}, response_metadata={}, id='run--0597079c-3dea-4118-ac8f-98985ea5542e-0'), HumanMessage(content='<|start_header_id|>player1<|end_header_id|>\\nhello, What is my name?<|eot_id|>', additional_kwargs={}, response_metadata={}, id='42860ead-cd53-48ea-bafe-ef6619e918ca')], 'context': AIMessage(content=['Empty DataFrame\\nColumns: [user_id, name, age, email, num_posts, num_likes, num_followers, num_following]\\nIndex: [].'], additional_kwargs={}, response_metadata={})}\n",
      "Context: content=['Empty DataFrame\\nColumns: [user_id, name, age, email, num_posts, num_likes, num_followers, num_following]\\nIndex: [].'] additional_kwargs={} response_metadata={}\n",
      "Generating response ...\n",
      "==================================\u001b[1m Ai Message \u001b[0m==================================\n",
      "\n",
      "**Your Name**\n",
      "--------------\n",
      "\n",
      "You, Tsubasa, have a name that reflects your connection to the wind and the sky. \"Tsubasa\" is a Japanese name that means \"bird\" or \"wing,\" symbolizing your freedom and agility.\n",
      "\n",
      "**The Tavern**\n",
      "--------------\n",
      "\n",
      "The patrons are now fully aware of your presence, and the bard begins to play a lively tune, drawing you into the conversation. The group from earlier leans in, their faces eager to share more information about the ancient temple.\n",
      "\n",
      "**Moon Goddess Temple**\n",
      "----------------------\n",
      "\n",
      "One of the travelers, a grizzled old man with a bushy beard, speaks up. \"Ah, you're interested in the temple, eh? Be careful, friend. The Moon Goddess is a mysterious one. They say she's cursed the temple with a terrible price.\"\n",
      "\n",
      "The group leans in closer, their voices dropping to a whisper. \"They say that anyone who takes the treasure will be granted a single wish, but at the cost of their memories. Can you afford to lose your memories, friend?\"\n",
      "\n",
      "The bard finishes his tune, and the patrons applaud, whistling and cheering. The atmosphere is lively, but the conversation about the Moon Goddess Temple lingers in the air.\n",
      "\n",
      "What would you like to do?\n",
      "\n",
      "Do you:\n",
      "* Ask the group more about the temple and its curse?\n",
      "* Challenge the group to a game of cards?\n",
      "* Order another round and enjoy the music?\n"
     ]
    }
   ],
   "source": [
    "input_message = \"<|start_header_id|>player1<|end_header_id|>\\nhello, What is my name?<|eot_id|>\"\n",
    "\n",
    "input_state = {\n",
    "    \"name\": \"player_1\",\n",
    "    \"messages\": [\n",
    "        HumanMessage(content=input_message)\n",
    "    ],\n",
    "    \"context\": \"\"\n",
    "}\n",
    "\n",
    "for step in graph.stream(\n",
    "    input_state,\n",
    "    config=config,\n",
    "    stream_mode=\"values\",\n",
    "):\n",
    "    step[\"messages\"][-1].pretty_print()"
   ]
  },
  {
   "cell_type": "code",
   "execution_count": null,
   "id": "be8fc7d7",
   "metadata": {},
   "outputs": [],
   "source": []
  }
 ],
 "metadata": {
  "kernelspec": {
   "display_name": "nlp",
   "language": "python",
   "name": "python3"
  },
  "language_info": {
   "codemirror_mode": {
    "name": "ipython",
    "version": 3
   },
   "file_extension": ".py",
   "mimetype": "text/x-python",
   "name": "python",
   "nbconvert_exporter": "python",
   "pygments_lexer": "ipython3",
   "version": "3.12.9"
  }
 },
 "nbformat": 4,
 "nbformat_minor": 5
}
